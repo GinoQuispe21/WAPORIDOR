{
 "metadata": {
  "language_info": {
   "codemirror_mode": {
    "name": "ipython",
    "version": 3
   },
   "file_extension": ".py",
   "mimetype": "text/x-python",
   "name": "python",
   "nbconvert_exporter": "python",
   "pygments_lexer": "ipython3",
   "version": "3.8.3-final"
  },
  "orig_nbformat": 2,
  "kernelspec": {
   "name": "python_defaultSpec_1600793671711",
   "display_name": "Python 3.8.3 64-bit ('base': conda)"
  }
 },
 "nbformat": 4,
 "nbformat_minor": 2,
 "cells": [
  {
   "cell_type": "code",
   "execution_count": 1,
   "metadata": {
    "tags": []
   },
   "outputs": [
    {
     "output_type": "stream",
     "name": "stdout",
     "text": "importing Jupyter notebook from convert.ipynb\n"
    }
   ],
   "source": [
    "import import_ipynb\n",
    "import convert as con"
   ]
  },
  {
   "cell_type": "code",
   "execution_count": 2,
   "metadata": {},
   "outputs": [],
   "source": [
    "def findPathDFS(adjy, player):\n",
    "    adj = adjy\n",
    "    n = 0\n",
    "    v = con.convertCoordToNode(player.x, player.y)\n",
    "    #print(\"I'm starting at node:\", v)\n",
    "    visited = []\n",
    "    #Depending on the player the finish line will be different\n",
    "    #for players 1 and 3 is more convenient to have the adj list descendently sorted in order to get an efficient path (still, not the most efficient)\n",
    "    if(player.id == 1):\n",
    "        finish_line = [8,17,26,35,44,53,62,71,80]\n",
    "        for i in range(len(adj)):\n",
    "            adj[i].sort(reverse=True)\n",
    "    elif(player.id == 2):\n",
    "        finish_line = [0,9,18,27,36,45,54,63,72]\n",
    "    elif(player.id == 3):\n",
    "        finish_line = [72,73,74,75,76,77,78,79,80]\n",
    "        for i in range(len(adj)):\n",
    "            adj[i].sort(reverse=True)\n",
    "    elif(player.id == 4):\n",
    "        finish_line = [0,1,2,3,4,5,6,7,8]\n",
    "    path = []\n",
    "    cont = []\n",
    "\n",
    "    for i in range(len(adj)):\n",
    "        visited.append(False)\n",
    "\n",
    "    def dfs(v):\n",
    "        visited[v] = True\n",
    "        #print(\"I'm in node:\", v)\n",
    "        if(len(cont) == 0):    \n",
    "            path.append(v)\n",
    "            for el in finish_line:\n",
    "                if(v == el):\n",
    "                    #print(\"The path is:\", path)\n",
    "                    cont.append(\"Bailarina 77\")\n",
    "            for u in adj[v]:\n",
    "                if (visited[u] == False):\n",
    "                    dfs(u)\n",
    "    \n",
    "    dfs(v)\n",
    "    return path"
   ]
  }
 ]
}