{
 "metadata": {
  "language_info": {
   "codemirror_mode": {
    "name": "ipython",
    "version": 3
   },
   "file_extension": ".py",
   "mimetype": "text/x-python",
   "name": "python",
   "nbconvert_exporter": "python",
   "pygments_lexer": "ipython3",
   "version": "3.8.3-final"
  },
  "orig_nbformat": 2,
  "kernelspec": {
   "name": "python_defaultSpec_1600559302259",
   "display_name": "Python 3.8.3 64-bit ('base': conda)"
  }
 },
 "nbformat": 4,
 "nbformat_minor": 2,
 "cells": [
  {
   "cell_type": "code",
   "execution_count": 169,
   "metadata": {
    "tags": []
   },
   "outputs": [],
   "source": [
    "adj =  [[1, 3],\n",
    "        [2, 0, 4],\n",
    "        [5, 1],\n",
    "        [0, 4, 6],\n",
    "        [5, 1, 3, 7],\n",
    "        [2, 8, 4],\n",
    "        [3, 7],\n",
    "        [8, 4, 6],\n",
    "        [5, 7]]\n",
    "n = 0\n",
    "visited = []\n",
    "finish_line = [2, 5, 8]\n",
    "paths = []\n",
    "path = set()\n",
    "shortest = []\n",
    "\n",
    "for i in range(len(adj)):\n",
    "    visited.append(False)\n",
    "\n",
    "def dfs(v):\n",
    "    if(v == 0):\n",
    "        for i in range(len(visited)):\n",
    "            visited[i] = False\n",
    "        path.clear()\n",
    "    visited[v] = True\n",
    "    path.add(v)\n",
    "    print(\"I'm in node:\", v)\n",
    "    \n",
    "    goal = 0\n",
    "    go_back = False\n",
    "    for elem in finish_line:\n",
    "        if(v == elem):\n",
    "            goal = v        \n",
    "            go_back = True\n",
    "\n",
    "    if (goal != 0):\n",
    "        print(\"Found a finish line!\")\n",
    "        finish_line.remove(goal)\n",
    "        if(len(finish_line) == 0):\n",
    "            print(\"Search is over!\")\n",
    "            print(\"Recursing back!\")\n",
    "            return True\n",
    "        shortest.append((len(path) - 1))\n",
    "        for el in path:\n",
    "            paths.append(el)\n",
    "            visited[el] = False\n",
    "        #print(path)\n",
    "        path.clear()\n",
    "\n",
    "    if(go_back == False and len(finish_line) != 0):\n",
    "        for u in adj[v]:\n",
    "            if(visited[u] == False):\n",
    "                print(\"Im in node\", v, \"entering node\", u)\n",
    "                dfs(u)\n",
    "                print(\"Im leaving node\", u, \"entering node\", v)\n",
    "    if(go_back == True and len(finish_line) != 0):\n",
    "        print(\"Im in node\", v, \"entering node\", 0)\n",
    "        dfs(0)\n",
    "        print(\"Im leaving node\", 0, \"entering node\", v)"
   ]
  },
  {
   "cell_type": "code",
   "execution_count": 170,
   "metadata": {
    "tags": []
   },
   "outputs": [
    {
     "output_type": "stream",
     "name": "stdout",
     "text": "I'm in node: 0\nIm in node 0 entering node 1\nI'm in node: 1\nIm in node 1 entering node 2\nI'm in node: 2\nFound a finish line!\nIm in node 2 entering node 0\nI'm in node: 0\nIm in node 0 entering node 1\nI'm in node: 1\nIm in node 1 entering node 2\nI'm in node: 2\nIm in node 2 entering node 5\nI'm in node: 5\nFound a finish line!\nIm in node 5 entering node 0\nI'm in node: 0\nIm in node 0 entering node 1\nI'm in node: 1\nIm in node 1 entering node 2\nI'm in node: 2\nIm in node 2 entering node 5\nI'm in node: 5\nIm in node 5 entering node 8\nI'm in node: 8\nFound a finish line!\nSearch is over!\nRecursing back!\nIm leaving node 8 entering node 5\nIm in node 5 entering node 4\nI'm in node: 4\nIm leaving node 4 entering node 5\nIm leaving node 5 entering node 2\nIm leaving node 2 entering node 1\nIm leaving node 1 entering node 0\nIm in node 0 entering node 3\nI'm in node: 3\nIm leaving node 3 entering node 0\nIm leaving node 0 entering node 5\nIm leaving node 5 entering node 2\nIm leaving node 2 entering node 1\nIm leaving node 1 entering node 0\nIm leaving node 0 entering node 2\nIm leaving node 2 entering node 1\nIm leaving node 1 entering node 0\n[True, True, True, True, True, True, False, False, True]\nThe shortest path was: 2 spaces long\n[2, 3]\nThis was the path taken:\n0 -> 1 -> 2 ->"
    }
   ],
   "source": [
    "dfs(0)\n",
    "print(visited)\n",
    "mini = shortest[0]\n",
    "pos = 0\n",
    "for i in range(len(shortest)):\n",
    "    if(shortest[i] < mini):\n",
    "        mini = shortest[i]\n",
    "        pos = i\n",
    "print(\"The shortest path was:\", mini, \"spaces long\")\n",
    "print(shortest)\n",
    "print(\"This was the path taken:\")\n",
    "for i in range(pos, mini+1):\n",
    "    print(paths[i], \"->\", end=\" \")\n"
   ]
  },
  {
   "cell_type": "code",
   "execution_count": null,
   "metadata": {},
   "outputs": [],
   "source": []
  }
 ]
}