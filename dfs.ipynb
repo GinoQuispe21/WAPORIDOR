{
 "metadata": {
  "language_info": {
   "codemirror_mode": {
    "name": "ipython",
    "version": 3
   },
   "file_extension": ".py",
   "mimetype": "text/x-python",
   "name": "python",
   "nbconvert_exporter": "python",
   "pygments_lexer": "ipython3",
   "version": "3.8.3-final"
  },
  "orig_nbformat": 2,
  "kernelspec": {
   "name": "python_defaultSpec_1600790894622",
   "display_name": "Python 3.8.3 64-bit ('base': conda)"
  }
 },
 "nbformat": 4,
 "nbformat_minor": 2,
 "cells": [
  {
   "cell_type": "code",
   "execution_count": 5,
   "metadata": {
    "tags": []
   },
   "outputs": [
    {
     "output_type": "stream",
     "name": "stdout",
     "text": "Requirement already satisfied: import-ipynb in c:\\users\\dell\\anaconda3\\lib\\site-packages (0.1.3)\nNote: you may need to restart the kernel to use updated packages.\n"
    }
   ],
   "source": [
    "pip install import-ipynb"
   ]
  },
  {
   "cell_type": "code",
   "execution_count": 6,
   "metadata": {
    "tags": []
   },
   "outputs": [],
   "source": [
    "import import_ipynb\n",
    "import AdjacencyList as adja"
   ]
  },
  {
   "cell_type": "code",
   "execution_count": 7,
   "metadata": {},
   "outputs": [],
   "source": [
    "adj = adja.generateAdjacencyList()\n",
    "n = 0\n",
    "visited = []\n",
    "finish_line = [8,17,26,35,44,53,62,71,80] #temporarily for player 1\n",
    "path = []\n",
    "cont = []\n",
    "\n",
    "for i in range(len(adj)):\n",
    "    visited.append(False)\n",
    "\n",
    "def dfs(v):\n",
    "    visited[v] = True\n",
    "    print(\"I'm in node:\", v)\n",
    "    if(len(cont) == 0):    \n",
    "        path.append(v)\n",
    "        for el in finish_line:\n",
    "            if(v == el):\n",
    "                print(\"The path is:\", path)\n",
    "                cont.append(\"Bailarina 77\")\n",
    "        for u in adj[v]:\n",
    "            if (visited[u] == False):\n",
    "                dfs(u)"
   ]
  },
  {
   "cell_type": "code",
   "execution_count": 8,
   "metadata": {
    "tags": []
   },
   "outputs": [
    {
     "output_type": "stream",
     "name": "stdout",
     "text": "I'm in node: 1\nI'm in node: 0\nI'm in node: 9\nI'm in node: 10\nI'm in node: 11\nI'm in node: 2\nI'm in node: 3\nI'm in node: 4\nI'm in node: 5\nI'm in node: 6\nI'm in node: 7\nI'm in node: 8\nThe path is: [1, 0, 9, 10, 11, 2, 3, 4, 5, 6, 7, 8]\nI'm in node: 17\nI'm in node: 16\nI'm in node: 15\nI'm in node: 14\nI'm in node: 13\nI'm in node: 12\nI'm in node: 20\nI'm in node: 19\nI'm in node: 18\nThe path that the bot will take is: [1, 0, 9, 10, 11, 2, 3, 4, 5, 6, 7, 8]\n"
    }
   ],
   "source": [
    "dfs(1)\n",
    "print(\"The path that the bot will take is:\", path)"
   ]
  },
  {
   "cell_type": "code",
   "execution_count": null,
   "metadata": {},
   "outputs": [],
   "source": []
  }
 ]
}