{
 "metadata": {
  "language_info": {
   "codemirror_mode": {
    "name": "ipython",
    "version": 3
   },
   "file_extension": ".py",
   "mimetype": "text/x-python",
   "name": "python",
   "nbconvert_exporter": "python",
   "pygments_lexer": "ipython3",
   "version": "3.8.3-final"
  },
  "orig_nbformat": 2,
  "kernelspec": {
   "name": "python_defaultSpec_1600193505203",
   "display_name": "Python 3.8.3 64-bit ('base': conda)"
  }
 },
 "nbformat": 4,
 "nbformat_minor": 2,
 "cells": [
  {
   "cell_type": "code",
   "execution_count": 18,
   "metadata": {
    "tags": []
   },
   "outputs": [
    {
     "output_type": "stream",
     "name": "stdout",
     "text": "[False, False, False, False, False]\n"
    }
   ],
   "source": [
    "adj = [[1, 3],\n",
    "     [0, 2, 4],\n",
    "     [1, 3],\n",
    "     [0, 2, 4],\n",
    "     [1, 3]]\n",
    "n = 0\n",
    "visited = []\n",
    "\n",
    "for i in range(len(adj)):\n",
    "    visited.append(False)\n",
    "\n",
    "print(visited)\n",
    "\n",
    "def dfs(v):\n",
    "    visited[v] = True\n",
    "    print(adj[v])\n",
    "    for u in range(len(adj)):\n",
    "        if(visited[u] == False):\n",
    "            dfs(u)"
   ]
  },
  {
   "cell_type": "code",
   "execution_count": 19,
   "metadata": {
    "tags": []
   },
   "outputs": [
    {
     "output_type": "stream",
     "name": "stdout",
     "text": "[1, 3]\n[0, 2, 4]\n[1, 3]\n[0, 2, 4]\n[1, 3]\n"
    }
   ],
   "source": [
    "dfs(0)"
   ]
  },
  {
   "cell_type": "code",
   "execution_count": null,
   "metadata": {},
   "outputs": [],
   "source": []
  }
 ]
}