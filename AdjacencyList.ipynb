{
 "cells": [
  {
   "cell_type": "code",
   "execution_count": 1,
   "metadata": {
    "tags": []
   },
   "outputs": [],
   "source": [
    "#dinamically generating an adjacency list that represents the board\n",
    "adj = []\n",
    "garb = []\n",
    "\n",
    "def generateAdjacencyList():\n",
    "    for i in range(81):\n",
    "        nodes = []\n",
    "        #vertical connections\n",
    "        conditions = [-9, +9] #[-9, -1, +1, +9]\n",
    "        for j in range(len(conditions)):\n",
    "            node = i + conditions[j]\n",
    "            if(node >= 0 and node <= 80):\n",
    "                nodes.append(node)\n",
    "\n",
    "        #horizontal connections\n",
    "        condi = [-1, +1]\n",
    "        for j in range(len(condi)):\n",
    "            node = i + condi[j]\n",
    "            if(node % 9 == 0 and (i - 8) % 9 == 0):\n",
    "                garb.append(\"Bailarina 77\")\n",
    "            elif(i % 9 == 0 and j == 0):\n",
    "                garb.append(\"Bailarina 77\")\n",
    "            elif(node >= 0 and node <= 80):\n",
    "                nodes.append(node)\n",
    "                \n",
    "        nodes.sort()\n",
    "        adj.append(nodes)\n",
    "    return adj\n"
   ]
  },
  {
   "cell_type": "code",
   "execution_count": null,
   "metadata": {},
   "outputs": [],
   "source": []
  },
  {
   "cell_type": "code",
   "execution_count": 4,
   "metadata": {
    "tags": []
   },
   "outputs": [],
   "source": [
    "adj = generateAdjacencyList()\n",
    "vis = False\n",
    "\n",
    "if vis:\n",
    "    #visualization of nodes and connections\n",
    "    for i in range(len(adj)):\n",
    "        print(i, \"->\", adj[i])\n",
    "\n",
    "    #visualization of number of connections per node\n",
    "    for i in range(len(adj)):\n",
    "        print(len(adj[i]), end=\"\", sep=\" \")\n",
    "        if((i - 8) % 9 == 0):\n",
    "            print(\"\\n\")"
   ]
  },
  {
   "cell_type": "code",
   "execution_count": null,
   "metadata": {},
   "outputs": [],
   "source": []
  }
 ],
 "metadata": {
  "kernelspec": {
   "display_name": "Python 3",
   "language": "python",
   "name": "python3"
  },
  "language_info": {
   "codemirror_mode": {
    "name": "ipython",
    "version": 3
   },
   "file_extension": ".py",
   "mimetype": "text/x-python",
   "name": "python",
   "nbconvert_exporter": "python",
   "pygments_lexer": "ipython3",
   "version": "3.8.3"
  }
 },
 "nbformat": 4,
 "nbformat_minor": 2
}
