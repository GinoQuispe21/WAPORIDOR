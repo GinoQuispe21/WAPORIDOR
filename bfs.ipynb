{
 "cells": [
  {
   "cell_type": "code",
   "execution_count": 1,
   "metadata": {},
   "outputs": [
    {
     "output_type": "stream",
     "name": "stdout",
     "text": [
      "importing Jupyter notebook from convert.ipynb\n",
      "importing Jupyter notebook from player.ipynb\n",
      "importing Jupyter notebook from nodeDelete.ipynb\n",
      "importing Jupyter notebook from backtracking.ipynb\n",
      "importing Jupyter notebook from AdjacencyList.ipynb\n"
     ]
    }
   ],
   "source": [
    "import import_ipynb\n",
    "import convert as con\n",
    "import player as pl\n",
    "import AdjacencyList as al"
   ]
  },
  {
   "cell_type": "code",
   "execution_count": 2,
   "metadata": {},
   "outputs": [],
   "source": [
    "def findPathBFS(adjy, player):\n",
    "    adj = adjy\n",
    "\n",
    "    v = con.convertCoordToNode(player.x, player.y)\n",
    "    \n",
    "    if(player.id == 1):\n",
    "        finish_line = [8,17,26,35,44,53,62,71,80]\n",
    "    elif(player.id == 2):\n",
    "        finish_line = [0,9,18,27,36,45,54,63,72]\n",
    "    elif(player.id == 3):\n",
    "        finish_line = [72,73,74,75,76,77,78,79,80]\n",
    "    elif(player.id == 4):\n",
    "        finish_line = [0,1,2,3,4,5,6,7,8]\n",
    "    \n",
    "    visited = []    \n",
    "    for i in range(len(adj)):\n",
    "      visited.append(False)\n",
    "    \n",
    "    queue = [[v]]\n",
    "    \n",
    "    \n",
    "    while queue:\n",
    "        path = queue.pop(0)\n",
    "        node = path[-1]\n",
    "        if visited[node] != True:\n",
    "            neighbours = adj[node]\n",
    "            for neighbour in neighbours:\n",
    "                new_path = list(path)\n",
    "                new_path.append(neighbour)\n",
    "                queue.append(new_path)\n",
    "\n",
    "                if neighbour in finish_line:\n",
    "                    return new_path\n",
    " \n",
    "            visited[node] = True\n",
    "\n",
    "    return []\n",
    "    \n",
    "    "
   ]
  },
  {
   "cell_type": "code",
   "execution_count": 3,
   "metadata": {},
   "outputs": [
    {
     "output_type": "execute_result",
     "data": {
      "text/plain": [
       "[45, 46, 47, 48, 49, 50, 51, 52, 53]"
      ]
     },
     "metadata": {},
     "execution_count": 3
    }
   ],
   "source": [
    "player = pl.Player(0, 10, \"royalblue\", 1, \"Blue\")\n",
    "adjy = al.generateAdjacencyList()\n",
    "findPathBFS(adjy, player)"
   ]
  }
 ],
 "metadata": {
  "kernelspec": {
   "display_name": "Python 3",
   "language": "python",
   "name": "python3"
  },
  "language_info": {
   "codemirror_mode": {
    "name": "ipython",
    "version": 3
   },
   "file_extension": ".py",
   "mimetype": "text/x-python",
   "name": "python",
   "nbconvert_exporter": "python",
   "pygments_lexer": "ipython3",
   "version": "3.8.3-final"
  }
 },
 "nbformat": 4,
 "nbformat_minor": 4
}