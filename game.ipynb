{
 "metadata": {
  "language_info": {
   "codemirror_mode": {
    "name": "ipython",
    "version": 3
   },
   "file_extension": ".py",
   "mimetype": "text/x-python",
   "name": "python",
   "nbconvert_exporter": "python",
   "pygments_lexer": "ipython3",
   "version": "3.8.3-final"
  },
  "orig_nbformat": 2,
  "kernelspec": {
   "name": "python_defaultSpec_1600576137040",
   "display_name": "Python 3.8.3 64-bit ('base': conda)"
  }
 },
 "nbformat": 4,
 "nbformat_minor": 2,
 "cells": [
  {
   "cell_type": "code",
   "execution_count": 14,
   "metadata": {},
   "outputs": [],
   "source": [
    "import matplotlib.pyplot as plt \n",
    "import numpy as np"
   ]
  },
  {
   "cell_type": "code",
   "execution_count": 15,
   "metadata": {
    "tags": []
   },
   "outputs": [
    {
     "output_type": "stream",
     "name": "stdout",
     "text": "Requirement already satisfied: import-ipynb in c:\\users\\dell\\anaconda3\\lib\\site-packages (0.1.3)\nNote: you may need to restart the kernel to use updated packages.\n"
    }
   ],
   "source": [
    "pip install import-ipynb"
   ]
  },
  {
   "cell_type": "code",
   "execution_count": 16,
   "metadata": {
    "tags": []
   },
   "outputs": [],
   "source": [
    "import import_ipynb\n",
    "import player as p"
   ]
  },
  {
   "cell_type": "code",
   "execution_count": 17,
   "metadata": {
    "tags": []
   },
   "outputs": [],
   "source": [
    "import import_ipynb\n",
    "import wall as w"
   ]
  },
  {
   "cell_type": "code",
   "execution_count": 18,
   "metadata": {},
   "outputs": [],
   "source": [
    "class Game:\n",
    "    def __init__(self, nop):\n",
    "        self.nop = nop\n",
    "    \n",
    "    #Note, character goes by 2 spaces, because one space is for the walls\n",
    "    def drawQuoridorBoard(nop):\n",
    "        bo = np.zeros((17, 17, 3)) #(9, 9) = 9x9 board size + spaces between for walls\n",
    "        #total of 17x17 board\n",
    "        bo += 0.8 #opactiy of black spaces\n",
    "        bo[ ::2, ::2] = 1\n",
    "        bo[0::2, 0::2] = 1\n",
    "\n",
    "        fig, ax = plt.subplots(figsize=(7,7)) #figsize = size of the board\n",
    "        ax.imshow(bo, interpolation='nearest')\n",
    "\n",
    "        #add players:\n",
    "        p.addPlayers(nop)\n",
    "        p.drawPlayers(ax)\n",
    "\n",
    "        #add walls:\n",
    "        w.addWalls(nop)\n",
    "        w.drawWalls(ax)\n",
    "\n",
    "        ax.set(xticks=[], yticks=[])\n",
    "        ax.axis('image')\n",
    "\n",
    "        plt.show()\n",
    "        \n",
    "    def game():\n",
    "        bo = np.zeros((17, 17, 3)) #(9, 9) = 9x9 board size + spaces between for walls\n",
    "        #total of 17x17 board\n",
    "        bo += 0.8 #opactiy of black spaces\n",
    "        bo[ ::2, ::2] = 1\n",
    "        bo[0::2, 0::2] = 1\n",
    "\n",
    "        fig, ax = plt.subplots(figsize=(7,7)) #figsize = size of the board\n",
    "        ax.imshow(bo, interpolation='nearest')\n",
    "\n",
    "        #since the game already started, you just draw the players\n",
    "        p.drawPlayers(ax)\n",
    "\n",
    "        #just draw the walls\n",
    "        w.drawWalls(ax)\n",
    "\n",
    "        #checks if a player reached the opposite side\n",
    "        checkWinner()\n",
    "\n",
    "        ax.set(xticks=[], yticks=[])\n",
    "        ax.axis('image')\n",
    "\n",
    "        plt.show()\n",
    "\n",
    "    def checkWinner():\n",
    "        finish_line = [16,0,16,0]\n",
    "        for pl in p.players:\n",
    "            i = pl.id - 1\n",
    "            if (pl.id <= 2):\n",
    "                if(pl.x == finish_line[i]):\n",
    "                    print(\"GAME OVER\")\n",
    "                    print(\"Player\", pl.id, \"wins\")\n",
    "            else:\n",
    "                if(pl.y == finish_line[i]):\n",
    "                    print(\"GAME OVER\")\n",
    "                    print(\"Player\", pl.id, \"wins\")"
   ]
  },
  {
   "cell_type": "code",
   "execution_count": null,
   "metadata": {},
   "outputs": [],
   "source": []
  }
 ]
}