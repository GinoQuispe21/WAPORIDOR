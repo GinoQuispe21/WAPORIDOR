{
 "cells": [
  {
   "cell_type": "code",
   "execution_count": 1,
   "metadata": {
    "tags": []
   },
   "outputs": [
    {
     "output_type": "stream",
     "name": "stdout",
     "text": "importing Jupyter notebook from player.ipynb\nimporting Jupyter notebook from convert.ipynb\nimporting Jupyter notebook from nodeDelete.ipynb\nimporting Jupyter notebook from backtracking.ipynb\n"
    }
   ],
   "source": [
    "import import_ipynb\n",
    "import player as pl"
   ]
  },
  {
   "cell_type": "code",
   "execution_count": 2,
   "metadata": {},
   "outputs": [],
   "source": [
    "class Wall:\n",
    "    def __init__(self, x, y, color, orientation):\n",
    "        self.x = x\n",
    "        self.y = y\n",
    "        self.color = color\n",
    "        self.used = False\n",
    "        self.orientation = orientation"
   ]
  },
  {
   "cell_type": "code",
   "execution_count": 3,
   "metadata": {},
   "outputs": [],
   "source": [
    "def addWalls(nop):\n",
    "    initState = [[-2, 3], [18, 3], [3, -3], [3, 19]]\n",
    "    for p in pl.players:\n",
    "        j = p.id - 1\n",
    "        for i in range(20//nop):\n",
    "            if (j < 2): #first and second, puts walls on the side\n",
    "                wall = Wall(initState[j][0], initState[j][1] + i, p.color, 'h')\n",
    "            else: #third and fourth, puts walls on top and bottom\n",
    "                wall = Wall(initState[j][0] + i, initState[j][1], p.color, 'v')\n",
    "            p.add_wall(wall)"
   ]
  },
  {
   "cell_type": "code",
   "execution_count": 4,
   "metadata": {},
   "outputs": [],
   "source": [
    "def drawWalls(ax):\n",
    "    for p in pl.players:\n",
    "        for i in range(len(p.walls)):\n",
    "            if (p.walls[i].orientation == 'h'):\n",
    "                ax.text(p.walls[i].x, p.walls[i].y, u'\\u268A', size=90, ha='center', va='baseline', color=p.walls[i].color)\n",
    "            else:\n",
    "                ax.text(p.walls[i].x, p.walls[i].y, u'\\u2759', size=70, ha='center', va='center', color=p.walls[i].color)"
   ]
  },
  {
   "cell_type": "code",
   "execution_count": null,
   "metadata": {},
   "outputs": [],
   "source": []
  }
 ],
 "metadata": {
  "kernelspec": {
   "display_name": "Python 3",
   "language": "python",
   "name": "python3"
  },
  "language_info": {
   "codemirror_mode": {
    "name": "ipython",
    "version": 3
   },
   "file_extension": ".py",
   "mimetype": "text/x-python",
   "name": "python",
   "nbconvert_exporter": "python",
   "pygments_lexer": "ipython3",
   "version": "3.8.3-final"
  }
 },
 "nbformat": 4,
 "nbformat_minor": 2
}