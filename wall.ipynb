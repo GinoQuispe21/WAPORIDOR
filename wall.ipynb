{
 "metadata": {
  "language_info": {
   "codemirror_mode": {
    "name": "ipython",
    "version": 3
   },
   "file_extension": ".py",
   "mimetype": "text/x-python",
   "name": "python",
   "nbconvert_exporter": "python",
   "pygments_lexer": "ipython3",
   "version": "3.8.3-final"
  },
  "orig_nbformat": 2,
  "kernelspec": {
   "name": "python_defaultSpec_1600108568428",
   "display_name": "Python 3.8.3 64-bit ('base': conda)"
  }
 },
 "nbformat": 4,
 "nbformat_minor": 2,
 "cells": [
  {
   "cell_type": "code",
   "execution_count": 1,
   "metadata": {
    "tags": []
   },
   "outputs": [
    {
     "output_type": "stream",
     "name": "stdout",
     "text": "importing Jupyter notebook from player.ipynb\n"
    }
   ],
   "source": [
    "import import_ipynb\n",
    "import player as pl"
   ]
  },
  {
   "cell_type": "code",
   "execution_count": 2,
   "metadata": {},
   "outputs": [],
   "source": [
    "class Wall:\n",
    "    def __init__(self, x, y, color):\n",
    "        self.x = x\n",
    "        self.y = y\n",
    "        self.color = color\n",
    "        self.used = False"
   ]
  },
  {
   "cell_type": "code",
   "execution_count": 1,
   "metadata": {},
   "outputs": [],
   "source": [
    "def addWalls(nop):\n",
    "    initState = [[-1, 3], [17, 3], [3, -1], [3, 17]]\n",
    "    for p in pl.players:\n",
    "        j = p.id - 1\n",
    "        for i in range(20//nop):\n",
    "            if (j < 2): #first and second, puts walls on the side\n",
    "                wall = Wall(initState[j][0], initState[j][1] + i, p.color)\n",
    "            else: #third and fourth, puts walls on top and bottom\n",
    "                wall = Wall(initState[j][0] + i, initState[j][1], p.color)\n",
    "            p.add_wall(wall)"
   ]
  },
  {
   "cell_type": "code",
   "execution_count": 4,
   "metadata": {},
   "outputs": [],
   "source": [
    "def drawWalls(ax):\n",
    "    for p in pl.players:\n",
    "        for i in range(len(p.walls)):\n",
    "            if (p.id <= 2):\n",
    "                ax.text(p.walls[i].x, p.walls[i].y, u'\\u268A', size=30, ha='center', va='baseline', color=p.walls[i].color)\n",
    "            else:\n",
    "                ax.text(p.walls[i].x, p.walls[i].y, u'\\u2759', size=20, ha='center', va='center', color=p.walls[i].color)"
   ]
  },
  {
   "cell_type": "code",
   "execution_count": null,
   "metadata": {},
   "outputs": [],
   "source": []
  }
 ]
}