{
 "metadata": {
  "language_info": {
   "codemirror_mode": {
    "name": "ipython",
    "version": 3
   },
   "file_extension": ".py",
   "mimetype": "text/x-python",
   "name": "python",
   "nbconvert_exporter": "python",
   "pygments_lexer": "ipython3",
   "version": "3.8.3-final"
  },
  "orig_nbformat": 2,
  "kernelspec": {
   "name": "python_defaultSpec_1600574890231",
   "display_name": "Python 3.8.3 64-bit ('base': conda)"
  }
 },
 "nbformat": 4,
 "nbformat_minor": 2,
 "cells": [
  {
   "cell_type": "code",
   "execution_count": 26,
   "metadata": {},
   "outputs": [],
   "source": [
    "adj =  [[1, 3],\n",
    "        [0, 2, 4],\n",
    "        [1, 5],\n",
    "        [0, 4, 6],\n",
    "        [1, 3, 5, 7],\n",
    "        [2, 4, 8],\n",
    "        [3, 7],\n",
    "        [4, 6, 8],\n",
    "        [5, 7]]\n",
    "n = 0\n",
    "visited = []\n",
    "finish_line = [2, 5, 8]\n",
    "path = set()\n",
    "cont = []\n",
    "\n",
    "for i in range(len(adj)):\n",
    "    visited.append(False)\n",
    "\n",
    "def dfs(v):\n",
    "    visited[v] = True\n",
    "    print(\"I'm in node:\", v)\n",
    "    if(len(cont) == 0):    \n",
    "        path.add(v)\n",
    "        for el in finish_line:\n",
    "            if(v == el):\n",
    "                print(\"The path is:\", path)\n",
    "                cont.append(\"Bailarina 77\")\n",
    "        for u in adj[v]:\n",
    "            if (visited[u] == False):\n",
    "                dfs(u)"
   ]
  },
  {
   "cell_type": "code",
   "execution_count": 27,
   "metadata": {
    "tags": []
   },
   "outputs": [
    {
     "output_type": "stream",
     "name": "stdout",
     "text": "I'm in node: 0\nI'm in node: 1\nI'm in node: 2\nThe path is: {0, 1, 2}\nI'm in node: 5\nI'm in node: 4\nI'm in node: 3\nThe path that the bot will take is: {0, 1, 2}\n"
    }
   ],
   "source": [
    "dfs(0)\n",
    "print(\"The path that the bot will take is:\", path)"
   ]
  },
  {
   "cell_type": "code",
   "execution_count": null,
   "metadata": {},
   "outputs": [],
   "source": []
  }
 ]
}