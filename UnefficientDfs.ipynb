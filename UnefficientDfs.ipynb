{
 "metadata": {
  "language_info": {
   "codemirror_mode": {
    "name": "ipython",
    "version": 3
   },
   "file_extension": ".py",
   "mimetype": "text/x-python",
   "name": "python",
   "nbconvert_exporter": "python",
   "pygments_lexer": "ipython3",
   "version": "3.8.3-final"
  },
  "orig_nbformat": 2,
  "kernelspec": {
   "name": "python_defaultSpec_1600791264111",
   "display_name": "Python 3.8.3 64-bit ('base': conda)"
  }
 },
 "nbformat": 4,
 "nbformat_minor": 2,
 "cells": [
  {
   "cell_type": "code",
   "execution_count": 1,
   "metadata": {
    "tags": []
   },
   "outputs": [
    {
     "output_type": "stream",
     "name": "stdout",
     "text": "Requirement already satisfied: import-ipynb in c:\\users\\dell\\anaconda3\\lib\\site-packages (0.1.3)\nNote: you may need to restart the kernel to use updated packages.\n"
    }
   ],
   "source": [
    "pip install import-ipynb"
   ]
  },
  {
   "cell_type": "code",
   "execution_count": 2,
   "metadata": {
    "tags": []
   },
   "outputs": [
    {
     "output_type": "stream",
     "name": "stdout",
     "text": "importing Jupyter notebook from AdjacencyList.ipynb\n"
    }
   ],
   "source": [
    "import import_ipynb\n",
    "import AdjacencyList as adja"
   ]
  },
  {
   "cell_type": "code",
   "execution_count": 3,
   "metadata": {
    "tags": []
   },
   "outputs": [
    {
     "output_type": "stream",
     "name": "stdout",
     "text": "[[1, 9], [0, 2, 10], [1, 3, 11], [2, 4, 12], [3, 5, 13], [4, 6, 14], [5, 7, 15], [6, 8, 16], [7, 17], [0, 10, 18], [1, 9, 11, 19], [2, 10, 12, 20], [3, 11, 13, 21], [4, 12, 14, 22], [5, 13, 15, 23], [6, 14, 16, 24], [7, 15, 17, 25], [8, 16, 26], [9, 19, 27], [10, 18, 20, 28], [11, 19, 21, 29], [12, 20, 22, 30], [13, 21, 23, 31], [14, 22, 24, 32], [15, 23, 25, 33], [16, 24, 26, 34], [17, 25, 35], [18, 28, 36], [19, 27, 29, 37], [20, 28, 30, 38], [21, 29, 31, 39], [22, 30, 32, 40], [23, 31, 33, 41], [24, 32, 34, 42], [25, 33, 35, 43], [26, 34, 44], [27, 37, 45], [28, 36, 38, 46], [29, 37, 39, 47], [30, 38, 40, 48], [31, 39, 41, 49], [32, 40, 42, 50], [33, 41, 43, 51], [34, 42, 44, 52], [35, 43, 53], [36, 46, 54], [37, 45, 47, 55], [38, 46, 48, 56], [39, 47, 49, 57], [40, 48, 50, 58], [41, 49, 51, 59], [42, 50, 52, 60], [43, 51, 53, 61], [44, 52, 62], [45, 55, 63], [46, 54, 56, 64], [47, 55, 57, 65], [48, 56, 58, 66], [49, 57, 59, 67], [50, 58, 60, 68], [51, 59, 61, 69], [52, 60, 62, 70], [53, 61, 71], [54, 64, 72], [55, 63, 65, 73], [56, 64, 66, 74], [57, 65, 67, 75], [58, 66, 68, 76], [59, 67, 69, 77], [60, 68, 70, 78], [61, 69, 71, 79], [62, 70, 80], [63, 73], [64, 72, 74], [65, 73, 75], [66, 74, 76], [67, 75, 77], [68, 76, 78], [69, 77, 79], [70, 78, 80], [71, 79], [1, 9], [0, 2, 10], [1, 3, 11], [2, 4, 12], [3, 5, 13], [4, 6, 14], [5, 7, 15], [6, 8, 16], [7, 17], [0, 10, 18], [1, 9, 11, 19], [2, 10, 12, 20], [3, 11, 13, 21], [4, 12, 14, 22], [5, 13, 15, 23], [6, 14, 16, 24], [7, 15, 17, 25], [8, 16, 26], [9, 19, 27], [10, 18, 20, 28], [11, 19, 21, 29], [12, 20, 22, 30], [13, 21, 23, 31], [14, 22, 24, 32], [15, 23, 25, 33], [16, 24, 26, 34], [17, 25, 35], [18, 28, 36], [19, 27, 29, 37], [20, 28, 30, 38], [21, 29, 31, 39], [22, 30, 32, 40], [23, 31, 33, 41], [24, 32, 34, 42], [25, 33, 35, 43], [26, 34, 44], [27, 37, 45], [28, 36, 38, 46], [29, 37, 39, 47], [30, 38, 40, 48], [31, 39, 41, 49], [32, 40, 42, 50], [33, 41, 43, 51], [34, 42, 44, 52], [35, 43, 53], [36, 46, 54], [37, 45, 47, 55], [38, 46, 48, 56], [39, 47, 49, 57], [40, 48, 50, 58], [41, 49, 51, 59], [42, 50, 52, 60], [43, 51, 53, 61], [44, 52, 62], [45, 55, 63], [46, 54, 56, 64], [47, 55, 57, 65], [48, 56, 58, 66], [49, 57, 59, 67], [50, 58, 60, 68], [51, 59, 61, 69], [52, 60, 62, 70], [53, 61, 71], [54, 64, 72], [55, 63, 65, 73], [56, 64, 66, 74], [57, 65, 67, 75], [58, 66, 68, 76], [59, 67, 69, 77], [60, 68, 70, 78], [61, 69, 71, 79], [62, 70, 80], [63, 73], [64, 72, 74], [65, 73, 75], [66, 74, 76], [67, 75, 77], [68, 76, 78], [69, 77, 79], [70, 78, 80], [71, 79]]\n"
    }
   ],
   "source": [
    "adj = adja.generateAdjacencyList()\n",
    "print(adj)\n",
    "n = 0\n",
    "visited = []\n",
    "finish_line = [8,17,26,35,44,53,62,71,80]\n",
    "paths = []\n",
    "path = set()\n",
    "shortest = []\n",
    "\n",
    "for i in range(len(adj)):\n",
    "    visited.append(False)\n",
    "\n",
    "def dfs(v):\n",
    "    if(v == 0):\n",
    "        for i in range(len(visited)):\n",
    "            visited[i] = False\n",
    "        path.clear()\n",
    "    visited[v] = True\n",
    "    path.add(v)\n",
    "    print(\"I'm in node:\", v)\n",
    "    \n",
    "    goal = 0\n",
    "    go_back = False\n",
    "    for elem in finish_line:\n",
    "        if(v == elem):\n",
    "            goal = v        \n",
    "            go_back = True\n",
    "\n",
    "    if (goal != 0):\n",
    "        print(\"Found a finish line!\")\n",
    "        finish_line.remove(goal)\n",
    "        if(len(finish_line) == 0):\n",
    "            print(\"Search is over!\")\n",
    "            print(\"Recursing back!\")\n",
    "            return True\n",
    "        shortest.append((len(path) - 1))\n",
    "        for el in path:\n",
    "            paths.append(el)\n",
    "            visited[el] = False\n",
    "        #print(path)\n",
    "        path.clear()\n",
    "\n",
    "    if(go_back == False and len(finish_line) != 0):\n",
    "        for u in adj[v]:\n",
    "            if(visited[u] == False):\n",
    "                print(\"Im in node\", v, \"entering node\", u)\n",
    "                dfs(u)\n",
    "                print(\"Im leaving node\", u, \"entering node\", v)\n",
    "    if(go_back == True and len(finish_line) != 0):\n",
    "        print(\"Im in node\", v, \"entering node\", 0)\n",
    "        dfs(0)\n",
    "        print(\"Im leaving node\", 0, \"entering node\", v)"
   ]
  },
  {
   "cell_type": "code",
   "execution_count": 4,
   "metadata": {
    "tags": [
     "outputPrepend"
    ]
   },
   "outputs": [
    {
     "output_type": "stream",
     "name": "stdout",
     "text": "26\nIm in node 26 entering node 35\nI'm in node: 35\nIm in node 35 entering node 34\nI'm in node: 34\nIm in node 34 entering node 33\nI'm in node: 33\nIm in node 33 entering node 32\nI'm in node: 32\nIm in node 32 entering node 31\nI'm in node: 31\nIm in node 31 entering node 30\nI'm in node: 30\nIm in node 30 entering node 29\nI'm in node: 29\nIm in node 29 entering node 28\nI'm in node: 28\nIm in node 28 entering node 27\nI'm in node: 27\nIm in node 27 entering node 36\nI'm in node: 36\nIm in node 36 entering node 37\nI'm in node: 37\nIm in node 37 entering node 38\nI'm in node: 38\nIm in node 38 entering node 39\nI'm in node: 39\nIm in node 39 entering node 40\nI'm in node: 40\nIm in node 40 entering node 41\nI'm in node: 41\nIm in node 41 entering node 42\nI'm in node: 42\nIm in node 42 entering node 43\nI'm in node: 43\nIm in node 43 entering node 44\nI'm in node: 44\nIm in node 44 entering node 53\nI'm in node: 53\nIm in node 53 entering node 52\nI'm in node: 52\nIm in node 52 entering node 51\nI'm in node: 51\nIm in node 51 entering node 50\nI'm in node: 50\nIm in node 50 entering node 49\nI'm in node: 49\nIm in node 49 entering node 48\nI'm in node: 48\nIm in node 48 entering node 47\nI'm in node: 47\nIm in node 47 entering node 46\nI'm in node: 46\nIm in node 46 entering node 45\nI'm in node: 45\nIm in node 45 entering node 54\nI'm in node: 54\nIm in node 54 entering node 55\nI'm in node: 55\nIm in node 55 entering node 56\nI'm in node: 56\nIm in node 56 entering node 57\nI'm in node: 57\nIm in node 57 entering node 58\nI'm in node: 58\nIm in node 58 entering node 59\nI'm in node: 59\nIm in node 59 entering node 60\nI'm in node: 60\nIm in node 60 entering node 61\nI'm in node: 61\nIm in node 61 entering node 62\nI'm in node: 62\nIm in node 62 entering node 71\nI'm in node: 71\nFound a finish line!\nIm in node 71 entering node 0\nI'm in node: 0\nIm in node 0 entering node 1\nI'm in node: 1\nIm in node 1 entering node 2\nI'm in node: 2\nIm in node 2 entering node 3\nI'm in node: 3\nIm in node 3 entering node 4\nI'm in node: 4\nIm in node 4 entering node 5\nI'm in node: 5\nIm in node 5 entering node 6\nI'm in node: 6\nIm in node 6 entering node 7\nI'm in node: 7\nIm in node 7 entering node 8\nI'm in node: 8\nIm in node 8 entering node 17\nI'm in node: 17\nIm in node 17 entering node 16\nI'm in node: 16\nIm in node 16 entering node 15\nI'm in node: 15\nIm in node 15 entering node 14\nI'm in node: 14\nIm in node 14 entering node 13\nI'm in node: 13\nIm in node 13 entering node 12\nI'm in node: 12\nIm in node 12 entering node 11\nI'm in node: 11\nIm in node 11 entering node 10\nI'm in node: 10\nIm in node 10 entering node 9\nI'm in node: 9\nIm in node 9 entering node 18\nI'm in node: 18\nIm in node 18 entering node 19\nI'm in node: 19\nIm in node 19 entering node 20\nI'm in node: 20\nIm in node 20 entering node 21\nI'm in node: 21\nIm in node 21 entering node 22\nI'm in node: 22\nIm in node 22 entering node 23\nI'm in node: 23\nIm in node 23 entering node 24\nI'm in node: 24\nIm in node 24 entering node 25\nI'm in node: 25\nIm in node 25 entering node 26\nI'm in node: 26\nIm in node 26 entering node 35\nI'm in node: 35\nIm in node 35 entering node 34\nI'm in node: 34\nIm in node 34 entering node 33\nI'm in node: 33\nIm in node 33 entering node 32\nI'm in node: 32\nIm in node 32 entering node 31\nI'm in node: 31\nIm in node 31 entering node 30\nI'm in node: 30\nIm in node 30 entering node 29\nI'm in node: 29\nIm in node 29 entering node 28\nI'm in node: 28\nIm in node 28 entering node 27\nI'm in node: 27\nIm in node 27 entering node 36\nI'm in node: 36\nIm in node 36 entering node 37\nI'm in node: 37\nIm in node 37 entering node 38\nI'm in node: 38\nIm in node 38 entering node 39\nI'm in node: 39\nIm in node 39 entering node 40\nI'm in node: 40\nIm in node 40 entering node 41\nI'm in node: 41\nIm in node 41 entering node 42\nI'm in node: 42\nIm in node 42 entering node 43\nI'm in node: 43\nIm in node 43 entering node 44\nI'm in node: 44\nIm in node 44 entering node 53\nI'm in node: 53\nIm in node 53 entering node 52\nI'm in node: 52\nIm in node 52 entering node 51\nI'm in node: 51\nIm in node 51 entering node 50\nI'm in node: 50\nIm in node 50 entering node 49\nI'm in node: 49\nIm in node 49 entering node 48\nI'm in node: 48\nIm in node 48 entering node 47\nI'm in node: 47\nIm in node 47 entering node 46\nI'm in node: 46\nIm in node 46 entering node 45\nI'm in node: 45\nIm in node 45 entering node 54\nI'm in node: 54\nIm in node 54 entering node 55\nI'm in node: 55\nIm in node 55 entering node 56\nI'm in node: 56\nIm in node 56 entering node 57\nI'm in node: 57\nIm in node 57 entering node 58\nI'm in node: 58\nIm in node 58 entering node 59\nI'm in node: 59\nIm in node 59 entering node 60\nI'm in node: 60\nIm in node 60 entering node 61\nI'm in node: 61\nIm in node 61 entering node 62\nI'm in node: 62\nIm in node 62 entering node 71\nI'm in node: 71\nIm in node 71 entering node 70\nI'm in node: 70\nIm in node 70 entering node 69\nI'm in node: 69\nIm in node 69 entering node 68\nI'm in node: 68\nIm in node 68 entering node 67\nI'm in node: 67\nIm in node 67 entering node 66\nI'm in node: 66\nIm in node 66 entering node 65\nI'm in node: 65\nIm in node 65 entering node 64\nI'm in node: 64\nIm in node 64 entering node 63\nI'm in node: 63\nIm in node 63 entering node 72\nI'm in node: 72\nIm in node 72 entering node 73\nI'm in node: 73\nIm in node 73 entering node 74\nI'm in node: 74\nIm in node 74 entering node 75\nI'm in node: 75\nIm in node 75 entering node 76\nI'm in node: 76\nIm in node 76 entering node 77\nI'm in node: 77\nIm in node 77 entering node 78\nI'm in node: 78\nIm in node 78 entering node 79\nI'm in node: 79\nIm in node 79 entering node 80\nI'm in node: 80\nFound a finish line!\nSearch is over!\nRecursing back!\nIm leaving node 80 entering node 79\nIm leaving node 79 entering node 78\nIm leaving node 78 entering node 77\nIm leaving node 77 entering node 76\nIm leaving node 76 entering node 75\nIm leaving node 75 entering node 74\nIm leaving node 74 entering node 73\nIm leaving node 73 entering node 72\nIm leaving node 72 entering node 63\nIm leaving node 63 entering node 64\nIm leaving node 64 entering node 65\nIm leaving node 65 entering node 66\nIm leaving node 66 entering node 67\nIm leaving node 67 entering node 68\nIm leaving node 68 entering node 69\nIm leaving node 69 entering node 70\nIm leaving node 70 entering node 71\nIm leaving node 71 entering node 62\nIm leaving node 62 entering node 61\nIm leaving node 61 entering node 60\nIm leaving node 60 entering node 59\nIm leaving node 59 entering node 58\nIm leaving node 58 entering node 57\nIm leaving node 57 entering node 56\nIm leaving node 56 entering node 55\nIm leaving node 55 entering node 54\nIm leaving node 54 entering node 45\nIm leaving node 45 entering node 46\nIm leaving node 46 entering node 47\nIm leaving node 47 entering node 48\nIm leaving node 48 entering node 49\nIm leaving node 49 entering node 50\nIm leaving node 50 entering node 51\nIm leaving node 51 entering node 52\nIm leaving node 52 entering node 53\nIm leaving node 53 entering node 44\nIm leaving node 44 entering node 43\nIm leaving node 43 entering node 42\nIm leaving node 42 entering node 41\nIm leaving node 41 entering node 40\nIm leaving node 40 entering node 39\nIm leaving node 39 entering node 38\nIm leaving node 38 entering node 37\nIm leaving node 37 entering node 36\nIm leaving node 36 entering node 27\nIm leaving node 27 entering node 28\nIm leaving node 28 entering node 29\nIm leaving node 29 entering node 30\nIm leaving node 30 entering node 31\nIm leaving node 31 entering node32\nIm leaving node 32 entering node 33\nIm leaving node 33 entering node 34\nIm leaving node 34 entering node 35\nIm leaving node 35 entering node 26\nIm leaving node 26 entering node 25\nIm leaving node 25 entering node 24\nIm leaving node 24 entering node 23\nIm leaving node 23 entering node 22\nIm leaving node 22 entering node 21\nIm leaving node 21 entering node 20\nIm leaving node 20 entering node 19\nIm leaving node 19 entering node 18\nIm leaving node 18 entering node 9\nIm leaving node 9 entering node 10\nIm leaving node 10 entering node 11\nIm leaving node 11 entering node 12\nIm leaving node 12 entering node 13\nIm leaving node 13 entering node 14\nIm leaving node 14 entering node 15\nIm leaving node 15 entering node 16\nIm leaving node 16 entering node 17\nIm leaving node 17 entering node 8\nIm leaving node 8 entering node 7\nIm leaving node 7 entering node 6\nIm leaving node 6 entering node 5\nIm leaving node 5 entering node 4\nIm leaving node 4 entering node 3\nIm leaving node 3 entering node 2\nIm leaving node 2 entering node 1\nIm leaving node 1 entering node 0\nIm leaving node 0 entering node 71\nIm leaving node 71 entering node 62\nIm leaving node 62 entering node 61\nIm leaving node 61 entering node 60\nIm leaving node 60 entering node 59\nIm leaving node 59 entering node 58\nIm leaving node 58 entering node 57\nIm leaving node 57 entering node 56\nIm leaving node 56 entering node 55\nIm leaving node 55 entering node 54\nIm leaving node 54 entering node 45\nIm leaving node 45 entering node 46\nIm leaving node 46 entering node 47\nIm leaving node 47 entering node 48\nIm leaving node 48 entering node 49\nIm leaving node 49 entering node 50\nIm leaving node 50 entering node 51\nIm leaving node 51 entering node 52\nIm leaving node 52 entering node 53\nIm leaving node 53 entering node 44\nIm leaving node 44 entering node 43\nIm leaving node 43 entering node 42\nIm leaving node 42 entering node 41\nIm leaving node 41 entering node 40\nIm leaving node 40 entering node 39\nIm leaving node 39 entering node 38\nIm leaving node 38 entering node 37\nIm leaving node 37 entering node 36\nIm leaving node 36 entering node 27\nIm leaving node 27 entering node 28\nIm leaving node 28 entering node 29\nIm leaving node 29 entering node 30\nIm leaving node 30 entering node 31\nIm leaving node 31 entering node 32\nIm leaving node 32 entering node 33\nIm leaving node 33 entering node 34\nIm leaving node 34 entering node 35\nIm leaving node 35 entering node 26\nIm leaving node 26 entering node 25\nIm leaving node 25 entering node 24\nIm leaving node 24 entering node 23\nIm leaving node 23 entering node 22\nIm leaving node 22 entering node 21\nIm leaving node 21 entering node 20\nIm leaving node 20 entering node 19\nIm leaving node 19 entering node 18\nIm leaving node 18 entering node 9\nIm leaving node 9 entering node 10\nIm leaving node 10 entering node 11\nIm leaving node 11 entering node 12\nIm leaving node 12 entering node 13\nIm leaving node 13 entering node 14\nIm leaving node 14 entering node 15\nIm leaving node 15 entering node 16\nIm leaving node 16 entering node 17\nIm leaving node 17 entering node 8\nIm leaving node 8 entering node 7\nIm leaving node 7 entering node 6\nIm leaving node 6 entering node 5\nIm leaving node 5 entering node 4\nIm leaving node 4 entering node 3\nIm leaving node 3 entering node 2\nIm leaving node 2 entering node 1\nIm leaving node 1 entering node 0\nIm leaving node 0 entering node 62\nIm leaving node 62 entering node 61\nIm leaving node 61 entering node 60\nIm leaving node 60 entering node 59\nIm leaving node 59 entering node 58\nIm leaving node 58 entering node 57\nIm leaving node 57 entering node 56\nIm leaving node 56 entering node 55\nIm leaving node 55 entering node 54\nIm leaving node 54 entering node 45\nIm leaving node 45 entering node 46\nIm leaving node 46 entering node 47\nIm leaving node 47 entering node 48\nIm leaving node 48 entering node 49\nIm leaving node 49 entering node 50\nIm leaving node 50 entering node 51\nIm leaving node 51 entering node 52\nIm leaving node 52 entering node 53\nIm leaving node 53 entering node 44\nIm leaving node 44 entering node 43\nIm leaving node 43 entering node 42\nIm leaving node 42 entering node 41\nIm leaving node 41 entering node 40\nIm leaving node 40 entering node 39\nIm leaving node 39 entering node 38\nIm leaving node 38 entering node 37\nIm leaving node 37 entering node 36\nIm leaving node 36 entering node 27\nIm leaving node 27 entering node 28\nIm leaving node 28 entering node 29\nIm leaving node 29 entering node 30\nIm leaving node 30 entering node 31\nIm leaving node 31 entering node 32\nIm leaving node 32 entering node 33\nIm leaving node 33 entering node 34\nIm leaving node 34 entering node 35\nIm leaving node 35 entering node 26\nIm leaving node 26 entering node 25\nIm leaving node 25 entering node 24\nIm leaving node 24 entering node 23\nIm leaving node 23 entering node 22\nIm leaving node 22 entering node 21\nIm leaving node 21 entering node 20\nIm leaving node 20 entering node 19\nIm leaving node 19 entering node 18\nIm leaving node 18 entering node 9\nIm leaving node 9 entering node 10\nIm leaving node 10 entering node 11\nIm leaving node 11 entering node 12\nIm leaving node 12 entering node 13\nIm leaving node 13 entering node 14\nIm leaving node 14 entering node 15\nIm leaving node 15 entering node 16\nIm leaving node 16 entering node 17\nIm leaving node 17 entering node 8\nIm leaving node 8 entering node 7\nIm leaving node 7 entering node 6\nIm leaving node 6 entering node 5\nIm leaving node 5 entering node 4\nIm leaving node 4 entering node 3\nIm leaving node 3 entering node 2\nIm leaving node 2 entering node 1\nIm leaving node 1 entering node 0\nIm leaving node 0 entering node 53\nIm leaving node 53 entering node 44\nIm leaving node 44 entering node 43\nIm leaving node 43 entering node 42\nIm leaving node 42 entering node 41\nIm leaving node 41 entering node 40\nIm leaving node 40 entering node 39\nIm leaving node 39 entering node 38\nIm leaving node 38 entering node 37\nIm leaving node 37 entering node 36\nIm leaving node 36 entering node 27\nIm leaving node 27 entering node 28\nIm leaving node 28 entering node 29\nIm leaving node 29 entering node 30\nIm leaving node 30 entering node 31\nIm leaving node 31 entering node 32\nIm leaving node 32 entering node 33\nIm leaving node 33 entering node 34\nIm leaving node 34 entering node 35\nIm leaving node 35 entering node 26\nIm leaving node 26 entering node 25\nIm leaving node 25 entering node 24\nIm leaving node 24 entering node 23\nIm leaving node 23 entering node 22\nIm leaving node 22 entering node 21\nIm leaving node 21 entering node 20\nIm leaving node 20 entering node 19\nIm leaving node 19 entering node 18\nIm leaving node 18 entering node 9\nIm leaving node 9 entering node 10\nIm leaving node 10 entering node 11\nIm leaving node 11 entering node 12\nIm leaving node 12 entering node 13\nIm leaving node 13 entering node 14\nIm leaving node 14 entering node 15\nIm leaving node 15 entering node 16\nIm leaving node 16 entering node 17\nIm leaving node 17 entering node 8\nIm leaving node 8 entering node 7\nIm leaving node 7 entering node 6\nIm leaving node 6 entering node 5\nIm leaving node 5 entering node 4\nIm leaving node 4 entering node 3\nIm leaving node 3 entering node 2\nIm leaving node 2 entering node 1\nIm leaving node 1 entering node 0\nIm leaving node 0 entering node 44\nIm leaving node 44 entering node 43\nIm leaving node 43 entering node 42\nIm leaving node 42 entering node 41\nIm leaving node 41 entering node 40\nIm leaving node 40 entering node 39\nIm leaving node 39 entering node 38\nIm leaving node 38 entering node 37\nIm leaving node 37 entering node 36\nIm leaving node 36 entering node 27\nIm leaving node 27 entering node 28\nIm leaving node 28 entering node 29\nIm leaving node 29 entering node 30\nIm leaving node 30 entering node 31\nIm leaving node 31 entering node 32\nIm leaving node 32 entering node 33\nIm leaving node 33 entering node 34\nIm leaving node 34 entering node 35\nIm leaving node 35 entering node 26\nIm leaving node 26 entering node 25\nIm leaving node 25 entering node 24\nIm leaving node 24 entering node 23\nIm leaving node 23 entering node 22\nIm leaving node 22 entering node 21\nIm leaving node 21 entering node 20\nIm leaving node 20 entering node 19\nIm leaving node 19 entering node 18\nIm leaving node 18 entering node 9\nIm leaving node 9 entering node 10\nIm leaving node 10 entering node 11\nIm leaving node 11 entering node 12\nIm leaving node 12 entering node 13\nIm leaving node 13 entering node 14\nIm leaving node 14 entering node 15\nIm leaving node 15 entering node 16\nIm leaving node 16 entering node 17\nIm leaving node 17 entering node 8\nIm leaving node 8 entering node 7\nIm leaving node 7 entering node 6\nIm leaving node 6 entering node 5\nIm leaving node 5 entering node 4\nIm leaving node 4 entering node 3\nIm leaving node 3 entering node 2\nIm leaving node 2 entering node 1\nIm leaving node 1 entering node 0\nIm leaving node 0 entering node 35\nIm leaving node 35 entering node 26\nIm leaving node 26 entering node 25\nIm leaving node 25 entering node 24\nIm leaving node 24 entering node 23\nIm leaving node 23 entering node 22\nIm leaving node 22 entering node 21\nIm leaving node 21 entering node 20\nIm leaving node 20 entering node 19\nIm leaving node 19 entering node 18\nIm leaving node 18 entering node 9\nIm leaving node 9 entering node 10\nIm leaving node 10 entering node 11\nIm leaving node 11 entering node 12\nIm leaving node 12 entering node 13\nIm leaving node 13 entering node 14\nIm leaving node 14 entering node 15\nIm leaving node 15 entering node 16\nIm leaving node 16 entering node 17\nIm leaving node 17 entering node 8\nIm leaving node 8 entering node 7\nIm leaving node 7 entering node 6\nIm leaving node 6 entering node 5\nIm leaving node 5 entering node 4\nIm leaving node 4 entering node 3\nIm leaving node 3 entering node 2\nIm leaving node 2 entering node 1\nIm leaving node 1 entering node 0\nIm leaving node 0 entering node 26\nIm leaving node 26 entering node 25\nIm leaving node 25 entering node 24\nIm leaving node 24 entering node 23\nIm leaving node 23 entering node 22\nIm leaving node 22 entering node 21\nIm leaving node 21 entering node 20\nIm leaving node 20 entering node 19\nIm leaving node 19 entering node 18\nIm leaving node 18 entering node 9\nIm leaving node 9 entering node 10\nIm leaving node 10 entering node 11\nIm leaving node 11 entering node 12\nIm leaving node 12 entering node 13\nIm leaving node 13 entering node 14\nIm leaving node 14 entering node 15\nIm leaving node 15 entering node 16\nIm leaving node 16 entering node 17\nIm leaving node 17 entering node 8\nIm leaving node 8 entering node 7\nIm leaving node 7 entering node 6\nIm leaving node 6 entering node 5\nIm leaving node 5 entering node 4\nIm leaving node 4 entering node 3\nIm leaving node 3 entering node 2\nIm leaving node 2 entering node 1\nIm leaving node 1 entering node 0\nIm leaving node 0 entering node 17\nIm leaving node 17 entering node 8\nIm leaving node 8 entering node 7\nIm leaving node 7 entering node 6\nIm leaving node 6 entering node 5\nIm leaving node 5 entering node 4\nIm leaving node 4 entering node 3\nIm leaving node 3 entering node 2\nIm leaving node 2 entering node 1\nIm leaving node 1 entering node 0\nIm leaving node 0 entering node 8\nIm leaving node 8 entering node 7\nIm leaving node 7 entering node 6\nIm leaving node 6 entering node 5\nIm leaving node 5 entering node 4\nIm leaving node 4 entering node 3\nIm leaving node 3 entering node 2\nIm leaving node 2 entering node 1\nIm leaving node 1 entering node 0\n[True, True, True, True, True, True, True, True, True, True, True, True, True, True, True, True, True, True, True, True, True, True, True, True, True, True, True, True, True, True, True, True, True, True, True, True, True, True, True, True, True, True, True, True, True, True, True, True, True, True, True, True, True, True, True, True, True, True, True, True, True, True, True, True, True, True, True, True, True, True, True, True, True, True, True, True, True, True, True, True, True, False, False, False, False, False, False, False, False, False, False, False, False, False, False, False, False, False, False, False, False, False, False, False, False, False, False, False, False, False, False, False, False, False, False, False, False, False, False, False, False, False, False, False, False, False, False, False, False, False, False, False, False, False, False, False, False, False, False, False, False, False, False, False, False, False, False, False, False, False, False, False, False, False, False, False, False, False, False, False, False, False]\nThe shortest path was: 8 spaces long\n[8, 9, 26, 27, 44, 45, 62, 63]\nThis was the path taken:\n0 -> 1 -> 2 -> 3 -> 4 -> 5 -> 6 -> 7 -> 8 ->"
    }
   ],
   "source": [
    "dfs(79)\n",
    "print(visited)\n",
    "mini = shortest[0]\n",
    "pos = 0\n",
    "for i in range(len(shortest)):\n",
    "    if(shortest[i] < mini):\n",
    "        mini = shortest[i]\n",
    "        pos = i\n",
    "print(\"The shortest path was:\", mini, \"spaces long\")\n",
    "print(shortest)\n",
    "print(\"This was the path taken:\")\n",
    "for i in range(pos, mini+1):\n",
    "    print(paths[i], \"->\", end=\" \")\n"
   ]
  },
  {
   "cell_type": "code",
   "execution_count": null,
   "metadata": {},
   "outputs": [],
   "source": []
  }
 ]
}