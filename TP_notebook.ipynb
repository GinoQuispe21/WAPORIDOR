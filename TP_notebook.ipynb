{
 "metadata": {
  "language_info": {
   "codemirror_mode": {
    "name": "ipython",
    "version": 3
   },
   "file_extension": ".py",
   "mimetype": "text/x-python",
   "name": "python",
   "nbconvert_exporter": "python",
   "pygments_lexer": "ipython3",
   "version": "3.8.3-final"
  },
  "orig_nbformat": 2,
  "kernelspec": {
   "name": "python_defaultSpec_1600293071830",
   "display_name": "Python 3.8.3 64-bit ('base': conda)"
  }
 },
 "nbformat": 4,
 "nbformat_minor": 2,
 "cells": [
  {
   "source": [
    "# Trabajo Parcial\n",
    "\n",
    "## Introducción:\n",
    "\n",
    "Quoridor es un juego de mesa que se puede jugar de entre 2 a 4 jugadores en un tablero similar al de ajedrez o damas. Este juego fue creado en el año 1997 en Francia por Mirko Marchesi luego de 2 años de haberlo desarrollado. El juego obtuvo mucha fama al ganar el premio Mensa Mind Game el mismo año de su lanzamiento. \n",
    "\n",
    "El tablero de Quoridor a diferencia del de ajedrez o damas consta de una cuadrícula de 9 x 9 (81 casillas en total). Cada jugador controla un peón y debe lograr que este cruce al lado opuesto para ganar. Al inicio de la partida los peones son colocados al centro de la fila inicial y son posicionados en frente del oponente. Además, cada jugador cuenta con una cantidad determinada de bloques que pueden usar para obstruir el camino del oponente con finalidad de que tome más turnos para llegar a su meta, esto siempre en cuando no se encierre al oponente, ya que no es válido dejar al oponente sin un camino libre para llegar a su meta. \n",
    "\n",
    "Respecto a la cantidad de bloques que posee un jugador, el total de 20 bloques son repartidos equitativamente entre la cantidad de jugadores, es decir, si hay 2 jugadores cada uno tiene la cantidad de 10 bloques o si hay 4 jugadores cada uno tendrá 5 bloques. Cabe recalcar que el grosor de un bloque obstruye 2 casillas del tablero. \n",
    "\n",
    "En el presente trabajo se desarrollará el juego anteriormente mencionado usando los conocimientos del curso de Complejidad Algorítmica, usando los enfoques y paradigmas de programación y tomando en cuenta la importancia de los algoritmos.\n",
    "\n",
    "## Estado de Arte:\n",
    "\n",
    "Como ha sido mencionado anteriormente, el objetivo de Quoridor, es que un jugador llegue al otro extremo del que empezó, por lo que en cada jugada, se debe buscar el camino más óptimo para ir, cumpliendo con las restricciones del juego, ya sea no pasar por encima de paredes o solo realizar una jugada por turno. Actualmente existen distintos algoritmos o técnicas relacionados a la búsqueda de caminos, y en esta sección haremos mención de alguno de ellos que probablemente sean utilizados en el desarrollo de nuestro proyecto.\n",
    "\n",
    "#### Algoritmo de Dijkstra: \n",
    "Este algoritmo desarrollado por Edsger Dijkstra en 1959, consiste en encontrar el camino más corto, desde un vértice a otros pertenecientes a un grafo. Si bien este algoritmo trabaja con pesos en las aristas, este puede ser utilizado con aristas de peso 1 para encontrar el camino más corto hacia el destino. Uno de los usos que se le ha dado a este algoritmo es en el campo de la telemática, en la que el algoritmo puede ser utilizado en grafos de gran cantidad de nodos de manera eficiente.\n",
    "\n",
    "#### Algoritmo de búsqueda A: \n",
    "Este algoritmo, realiza el problema de encontrar el camino más corto, con la ayuda de una heurística para agilizar la búsqueda. EL algoritmo en el mejor de los casos, puede resolver el problema de forma lineal. Sin embargo, cuando se encuentra en el peor escenario, la búsqueda se realiza en tiempo exponencial. \n",
    "\n",
    "Si bien existen algoritmos que resuelven el problema, en el curso se han visto otras técnicas que podremos utilizar ya sea Backtracking, Búsqueda por anchura y por profundidad en grafos, Divide y vencerás, entre otros que nos ayudarán a tener una mayor visión de caminos para el correcto funcionamiento del juego.\n",
    "\n",
    "\n",
    "## Metodología:\n",
    "\t\n",
    "Con respecto a la metodología utilizada para resolver el problema y validar los resultados, se ha empezado con el planteamiento del problema: ¿Cómo hacer un bot que pueda jugar Quoridor? Posteriormente nos planteamos: ¿Qué algoritmos debemos utilizar para que el bot funcione de forma correcta? \n",
    "\n",
    "Con estas dos preguntas iniciales empezamos una investigación con respecto a algoritmos de grafos, algoritmos para hallar el camino más corto y algoritmos de backtracking para resolver este tipo de problemas. Con esta información se procedió a escoger tres algoritmos para la resolución de problema y se dividió el trabajo de tal forma que cada integrante investigue, implemente y valide una resolución al problema planteado por el presente trabajo.\n",
    "\n",
    "Posteriormente, después de haber investigado sobre el funcionamiento correcto de cada algoritmo, se procedió a integrar al proyecto. Debido a que somos tres estudiantes, se utilizó la herramienta de control de versiones: Git, para tener un seguimiento de las partes que avanza cada integrante y poder retornar a alguna versión anterior en caso se haya modificado alguna parte del código que anteriormente funcionaba de forma correcta.\n",
    "\n",
    "Finalmente, después de haber implementado los tres algoritmos a la rama principal del proyecto, se procedió a probarlo. Para esta parte se utilizaron una serie de pruebas unitarias, para validar el comportamiento de cada función del problema utilizando pequeños inputs de datos. Gracias a las pruebas unitarias se pudo comprobar el correcto funcionamiento del proyecto implementado.\n"
   ],
   "cell_type": "markdown",
   "metadata": {}
  }
 ]
}