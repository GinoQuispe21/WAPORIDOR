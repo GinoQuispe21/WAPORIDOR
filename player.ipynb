{
 "cells": [
  {
   "cell_type": "code",
   "execution_count": 1,
   "metadata": {},
   "outputs": [],
   "source": [
    "players = []"
   ]
  },
  {
   "cell_type": "code",
   "execution_count": 2,
   "metadata": {
    "tags": []
   },
   "outputs": [
    {
     "name": "stdout",
     "output_type": "stream",
     "text": [
      "importing Jupyter notebook from convert.ipynb\n"
     ]
    }
   ],
   "source": [
    "import import_ipynb\n",
    "import convert as con"
   ]
  },
  {
   "cell_type": "code",
   "execution_count": 3,
   "metadata": {},
   "outputs": [
    {
     "name": "stdout",
     "output_type": "stream",
     "text": [
      "importing Jupyter notebook from nodeDelete.ipynb\n"
     ]
    }
   ],
   "source": [
    "import import_ipynb\n",
    "import nodeDelete as nd"
   ]
  },
  {
   "cell_type": "code",
   "execution_count": 4,
   "metadata": {},
   "outputs": [],
   "source": [
    "class Player:\n",
    "    def __init__(self, x, y, color, idy):\n",
    "        self.id = idy\n",
    "        self.x = x\n",
    "        self.y = y\n",
    "        self.color = color\n",
    "        self.walls = []\n",
    "\n",
    "    def move_left(self):\n",
    "        posx = self.x-1\n",
    "        posy = self.y\n",
    "        \n",
    "        for p in players:\n",
    "            for i in range(len(p.walls)):\n",
    "                if p.walls[i].x == posx and p.walls[i].y == posy:\n",
    "                    print(\"Can't move left, there's a big wall\")\n",
    "                    return\n",
    "                \n",
    "        print(\"Player: \", self.id, \"moved left\")\n",
    "        self.x = self.x - 2\n",
    "                    \n",
    "    def move_right(self):\n",
    "        posx = self.x+1\n",
    "        posy = self.y\n",
    "        \n",
    "        for p in players:\n",
    "            for i in range(len(p.walls)):\n",
    "                if p.walls[i].x == posx and p.walls[i].y == posy:\n",
    "                    print(\"Can't move right, there's a big wall\")\n",
    "                    return\n",
    "                \n",
    "        print(\"Player: \", self.id, \"moved right\")\n",
    "        self.x = self.x + 2\n",
    "\n",
    "    def move_up(self):\n",
    "        posx = self.x\n",
    "        posy = self.y-1\n",
    "        \n",
    "        for p in players:\n",
    "            for i in range(len(p.walls)):\n",
    "                if p.walls[i].x == posx and p.walls[i].y == posy:\n",
    "                    print(\"Can't move up, there's a big wall\")\n",
    "                    return\n",
    "        \n",
    "        print(\"Player: \", self.id, \"moved up\")\n",
    "        self.y = self.y - 2\n",
    "\n",
    "    def move_down(self):\n",
    "        posx = self.x\n",
    "        posy = self.y+1\n",
    "        \n",
    "        for p in players:\n",
    "            for i in range(len(p.walls)):\n",
    "                if p.walls[i].x == posx and p.walls[i].y == posy:\n",
    "                    print(\"Can't move down, there's a big wall\")\n",
    "                    return\n",
    "        \n",
    "        print(\"Player: \", self.id, \"moved down\")\n",
    "        self.y = self.y + 2\n",
    "\n",
    "    def move_from_path(self, path):\n",
    "        if(len(path) - 1 > 0):\n",
    "            path.pop(0) #erasing actual position\n",
    "            posx, posy = con.convertNodeToCoord(path[0])\n",
    "            print(\"Player: \", self.id, \"moved using the path\")\n",
    "            self.x = posx\n",
    "            self.y = posy\n",
    "    \n",
    "    def add_wall(self, wall):\n",
    "        self.walls.append(wall)\n",
    "\n",
    "    def place_wall(self, x, y, adj):\n",
    "        n = len(self.walls)\n",
    "        node1, node2 = nd.deleteNodeConn(x,y)\n",
    "        adj[node1].remove(node2)\n",
    "        adj[node2].remove(node1)\n",
    "        if x % 2 == 0 and y % 2 == 0: #only in odd can place a wall\n",
    "            print(\"Can't place a wall\")\n",
    "            return\n",
    "        cont = 0\n",
    "        for i in range(n):\n",
    "            if (self.walls[i].used == False):\n",
    "                self.walls[i].used = True\n",
    "                self.walls[i].x = x\n",
    "                self.walls[i].y = y\n",
    "                print(\"Player\", self.id, \"has:\", n - (cont + 1), \"walls left\")\n",
    "                break\n",
    "            else:\n",
    "                cont+=1\n",
    "        return adj"
   ]
  },
  {
   "cell_type": "code",
   "execution_count": 5,
   "metadata": {},
   "outputs": [],
   "source": [
    "class Bot(Player):\n",
    "    def __init__(self, x, y, color, idy, algorithm):\n",
    "        super().__init__(x, y, color, idy)\n",
    "        self.algorithm = algorithm\n",
    "\n",
    "    def dfs(self):\n",
    "        print(\"hey hey dfs go woosh!!\")\n",
    "\n",
    "    def bfs(self):\n",
    "        print(\"hey hey bfs, with b, dont get confused!!\")\n",
    "\n",
    "    def backtracking(self):\n",
    "        print(\"what am I doin here?\")"
   ]
  },
  {
   "cell_type": "code",
   "execution_count": null,
   "metadata": {},
   "outputs": [],
   "source": []
  }
 ],
 "metadata": {
  "kernelspec": {
   "display_name": "Python 3",
   "language": "python",
   "name": "python3"
  },
  "language_info": {
   "codemirror_mode": {
    "name": "ipython",
    "version": 3
   },
   "file_extension": ".py",
   "mimetype": "text/x-python",
   "name": "python",
   "nbconvert_exporter": "python",
   "pygments_lexer": "ipython3",
   "version": "3.8.3"
  }
 },
 "nbformat": 4,
 "nbformat_minor": 2
}
