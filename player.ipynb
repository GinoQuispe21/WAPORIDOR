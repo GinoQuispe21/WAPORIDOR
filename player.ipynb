{
 "metadata": {
  "language_info": {
   "codemirror_mode": {
    "name": "ipython",
    "version": 3
   },
   "file_extension": ".py",
   "mimetype": "text/x-python",
   "name": "python",
   "nbconvert_exporter": "python",
   "pygments_lexer": "ipython3",
   "version": "3.8.3-final"
  },
  "orig_nbformat": 2,
  "kernelspec": {
   "name": "python_defaultSpec_1600050740973",
   "display_name": "Python 3.8.3 64-bit ('base': conda)"
  }
 },
 "nbformat": 4,
 "nbformat_minor": 2,
 "cells": [
  {
   "cell_type": "code",
   "execution_count": 1,
   "metadata": {},
   "outputs": [],
   "source": [
    "players = []"
   ]
  },
  {
   "cell_type": "code",
   "execution_count": 2,
   "metadata": {},
   "outputs": [],
   "source": [
    "class Player:\n",
    "    def __init__(self, x, y, color, idy):\n",
    "        self.id = idy\n",
    "        self.x = x\n",
    "        self.y = y\n",
    "        self.color = color\n",
    "        self.walls = []\n",
    "\n",
    "    def move_left(self):\n",
    "        posx = self.x-1\n",
    "        posy = self.y\n",
    "        \n",
    "        for p in players:\n",
    "            for i in range(len(p.walls)):\n",
    "                if p.walls[i].x == posx and p.walls[i].y == posy:\n",
    "                    print(\"Can't move left, there's a big wall\")\n",
    "                    return\n",
    "                \n",
    "        print(\"Player: \", self.id, \"moved left\")\n",
    "        self.x = self.x - 2\n",
    "                    \n",
    "    def move_right(self):\n",
    "        posx = self.x+1\n",
    "        posy = self.y\n",
    "        \n",
    "        for p in players:\n",
    "            for i in range(len(p.walls)):\n",
    "                if p.walls[i].x == posx and p.walls[i].y == posy:\n",
    "                    print(\"Can't move right, there's a big wall\")\n",
    "                    return\n",
    "                \n",
    "        print(\"Player: \", self.id, \"moved right\")\n",
    "        self.x = self.x + 2\n",
    "\n",
    "    def move_up(self):\n",
    "        posx = self.x\n",
    "        posy = self.y-1\n",
    "        \n",
    "        for p in players:\n",
    "            for i in range(len(p.walls)):\n",
    "                if p.walls[i].x == posx and p.walls[i].y == posy:\n",
    "                    print(\"Can't move up, there's a big wall\")\n",
    "                    return\n",
    "        \n",
    "        print(\"Player: \", self.id, \"moved up\")\n",
    "        self.y = self.y - 2\n",
    "\n",
    "    def move_down(self):\n",
    "        posx = self.x\n",
    "        posy = self.y+1\n",
    "        \n",
    "        for p in players:\n",
    "            for i in range(len(p.walls)):\n",
    "                if p.walls[i].x == posx and p.walls[i].y == posy:\n",
    "                    print(\"Can't move down, there's a big wall\")\n",
    "                    return\n",
    "        \n",
    "        print(\"Player: \", self.id, \"moved down\")\n",
    "        self.y = self.y + 2\n",
    "    \n",
    "    def add_wall(self, wall):\n",
    "        self.walls.append(wall)\n",
    "\n",
    "    def place_wall(self, x, y):\n",
    "        n = len(self.walls)\n",
    "        if x % 2 == 0 and y % 2 == 0: #only in odd can place a wall\n",
    "            print(\"Can't place a wall\")\n",
    "            return\n",
    "        cont = 0\n",
    "        for i in range(n):\n",
    "            if (self.walls[i].used == False):\n",
    "                self.walls[i].used = True\n",
    "                self.walls[i].x = x\n",
    "                self.walls[i].y = y\n",
    "                print(\"Player\", self.id, \"has:\", n - (cont + 1), \"walls left\")\n",
    "                break\n",
    "            else:\n",
    "                cont+=1"
   ]
  },
  {
   "cell_type": "code",
   "execution_count": 3,
   "metadata": {},
   "outputs": [],
   "source": [
    "def addPlayers(nop):\n",
    "    initState = [[0, 8, 'royalblue'], [16,8,'limegreen'], \n",
    "                 [8, 0, 'gold'],     [8, 16, 'deeppink']]\n",
    "\n",
    "    for i in range(nop):\n",
    "        p = Player(initState[i][0], initState[i][1], initState[i][2], i+1)\n",
    "        players.append(p)"
   ]
  },
  {
   "cell_type": "code",
   "execution_count": 4,
   "metadata": {},
   "outputs": [],
   "source": [
    "def drawPlayers(ax):\n",
    "    for p in players:\n",
    "        ax.text(p.x, p.y, u'\\u265F', size=30, \n",
    "        ha='center', va='center', color=p.color)"
   ]
  },
  {
   "cell_type": "code",
   "execution_count": null,
   "metadata": {},
   "outputs": [],
   "source": []
  }
 ]
}