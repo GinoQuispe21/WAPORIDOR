{
 "cells": [
  {
   "cell_type": "code",
   "execution_count": 1,
   "metadata": {},
   "outputs": [],
   "source": [
    "players = []"
   ]
  },
  {
   "cell_type": "code",
   "execution_count": 2,
   "metadata": {
    "tags": []
   },
   "outputs": [
    {
     "output_type": "stream",
     "name": "stdout",
     "text": "importing Jupyter notebook from convert.ipynb\n"
    }
   ],
   "source": [
    "import import_ipynb\n",
    "import convert as con"
   ]
  },
  {
   "cell_type": "code",
   "execution_count": 3,
   "metadata": {
    "tags": []
   },
   "outputs": [
    {
     "output_type": "stream",
     "name": "stdout",
     "text": "importing Jupyter notebook from nodeDelete.ipynb\n"
    }
   ],
   "source": [
    "import import_ipynb\n",
    "import nodeDelete as nd"
   ]
  },
  {
   "cell_type": "code",
   "execution_count": 4,
   "metadata": {
    "tags": []
   },
   "outputs": [
    {
     "output_type": "stream",
     "name": "stdout",
     "text": "importing Jupyter notebook from backtracking.ipynb\n"
    }
   ],
   "source": [
    "import import_ipynb\n",
    "import backtracking as bk"
   ]
  },
  {
   "cell_type": "code",
   "execution_count": 5,
   "metadata": {},
   "outputs": [],
   "source": [
    "class Player:\n",
    "    def __init__(self, x, y, color, idy):\n",
    "        self.id = idy\n",
    "        self.x = x\n",
    "        self.y = y\n",
    "        self.color = color\n",
    "        self.walls = []\n",
    "\n",
    "    def move_left(self):\n",
    "        posx = self.x-1\n",
    "        posy = self.y\n",
    "        \n",
    "        for p in players:\n",
    "            for i in range(len(p.walls)):\n",
    "                if p.walls[i].x == posx and p.walls[i].y == posy:\n",
    "                    print(\"Can't move left, there's a big wall\")\n",
    "                    return\n",
    "                \n",
    "        print(\"Player: \", self.id, \"moved left\")\n",
    "        self.x = self.x - 2\n",
    "                    \n",
    "    def move_right(self):\n",
    "        posx = self.x+1\n",
    "        posy = self.y\n",
    "        \n",
    "        for p in players:\n",
    "            for i in range(len(p.walls)):\n",
    "                if p.walls[i].x == posx and p.walls[i].y == posy:\n",
    "                    print(\"Can't move right, there's a big wall\")\n",
    "                    return\n",
    "                \n",
    "        print(\"Player: \", self.id, \"moved right\")\n",
    "        self.x = self.x + 2\n",
    "\n",
    "    def move_up(self):\n",
    "        posx = self.x\n",
    "        posy = self.y-1\n",
    "        \n",
    "        for p in players:\n",
    "            for i in range(len(p.walls)):\n",
    "                if p.walls[i].x == posx and p.walls[i].y == posy:\n",
    "                    print(\"Can't move up, there's a big wall\")\n",
    "                    return\n",
    "        \n",
    "        print(\"Player: \", self.id, \"moved up\")\n",
    "        self.y = self.y - 2\n",
    "\n",
    "    def move_down(self):\n",
    "        posx = self.x\n",
    "        posy = self.y+1\n",
    "        \n",
    "        for p in players:\n",
    "            for i in range(len(p.walls)):\n",
    "                if p.walls[i].x == posx and p.walls[i].y == posy:\n",
    "                    print(\"Can't move down, there's a big wall\")\n",
    "                    return\n",
    "        \n",
    "        print(\"Player: \", self.id, \"moved down\")\n",
    "        self.y = self.y + 2\n",
    "\n",
    "    def move_from_path(self, path):\n",
    "        if(len(path) - 1 > 0):\n",
    "            path.pop(0) #erasing actual position\n",
    "            posx, posy = con.convertNodeToCoord(path[0])\n",
    "            print(\"Player: \", self.id, \"moved using the path\")\n",
    "            self.x = posx\n",
    "            self.y = posy\n",
    "    \n",
    "    def think_greedy(self, path):\n",
    "        self.move_from_path(self, path)\n",
    "\n",
    "    def move_from_path_bk(self, path):\n",
    "        if(len(path) - 1 >= 0):\n",
    "             tup = path.pop(0)\n",
    "             print(tup[1], tup[0])\n",
    "             print(\"Player: \", self.id, \"moved using the path\")\n",
    "             self.x = tup[0]\n",
    "             self.y = tup[1]\n",
    "\n",
    "    def add_wall(self, wall):\n",
    "        self.walls.append(wall)\n",
    "\n",
    "    def place_wall(self, x, y, adj, mat, orientation):\n",
    "        \n",
    "        if x % 2 == 0 and y % 2 == 0: #only in odd can place a wall\n",
    "            print(\"Can't place a wall\")\n",
    "            return\n",
    "\n",
    "        if x % 2 != 0 and y % 2 != 0:\n",
    "            n = len(self.walls)\n",
    "            mx = mat\n",
    "            node1, node2, node3, node4 = nd.deleteNodeConn(x,y, orientation)\n",
    "            adj[node1].remove(node2)\n",
    "            adj[node2].remove(node1)\n",
    "            adj[node3].remove(node4)\n",
    "            adj[node4].remove(node3)\n",
    "            mx = bk.place_wall_backtracking(mat, y, x, orientation)\n",
    "   \n",
    "            cont = 0\n",
    "            for i in range(n):\n",
    "                if (self.walls[i].used == False):\n",
    "                    self.walls[i].used = True\n",
    "                    self.walls[i].x = x \n",
    "                    self.walls[i].y = y\n",
    "                    self.walls[i].orientation = orientation\n",
    "                    print(\"Player\", self.id, \"has:\", n - (cont + 1), \"walls left\")\n",
    "                    break\n",
    "                else:\n",
    "                    cont+=1     \n",
    "            return adj, mx\n",
    "        else:\n",
    "            print(\"Please, enter a odd value\")\n",
    "            return\n",
    "        return\n"
   ]
  },
  {
   "cell_type": "code",
   "execution_count": 6,
   "metadata": {},
   "outputs": [],
   "source": [
    "class Bot(Player):\n",
    "    def __init__(self, x, y, color, idy, algorithm):\n",
    "        super().__init__(x, y, color, idy)\n",
    "        self.algorithm = algorithm\n",
    "\n",
    "    def dfs(self):\n",
    "        print(\"hey hey dfs go woosh!!\")\n",
    "\n",
    "    def bfs(self):\n",
    "        print(\"hey hey bfs, with b, dont get confused!!\")\n",
    "\n",
    "    def backtracking(self):\n",
    "        print(\"what am I doin here?\")"
   ]
  },
  {
   "cell_type": "code",
   "execution_count": null,
   "metadata": {},
   "outputs": [],
   "source": []
  }
 ],
 "metadata": {
  "kernelspec": {
   "display_name": "Python 3",
   "language": "python",
   "name": "python3"
  },
  "language_info": {
   "codemirror_mode": {
    "name": "ipython",
    "version": 3
   },
   "file_extension": ".py",
   "mimetype": "text/x-python",
   "name": "python",
   "nbconvert_exporter": "python",
   "pygments_lexer": "ipython3",
   "version": "3.8.3-final"
  }
 },
 "nbformat": 4,
 "nbformat_minor": 2
}