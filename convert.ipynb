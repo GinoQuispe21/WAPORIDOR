{
 "metadata": {
  "language_info": {
   "codemirror_mode": {
    "name": "ipython",
    "version": 3
   },
   "file_extension": ".py",
   "mimetype": "text/x-python",
   "name": "python",
   "nbconvert_exporter": "python",
   "pygments_lexer": "ipython3",
   "version": "3.8.3-final"
  },
  "orig_nbformat": 2,
  "kernelspec": {
   "name": "python_defaultSpec_1600792586079",
   "display_name": "Python 3.8.3 64-bit ('base': conda)"
  }
 },
 "nbformat": 4,
 "nbformat_minor": 2,
 "cells": [
  {
   "cell_type": "code",
   "execution_count": 24,
   "metadata": {},
   "outputs": [],
   "source": [
    "def convertNodeToCoord(node):\n",
    "    x = 0\n",
    "    y = 0\n",
    "    x = (node % 9)*2\n",
    "    y = node//9\n",
    "    y = y * 2\n",
    "    return x, y"
   ]
  },
  {
   "cell_type": "code",
   "execution_count": 25,
   "metadata": {},
   "outputs": [],
   "source": [
    "def convertCoordToNode(x, y):\n",
    "    x = x // 2\n",
    "    y = y // 2\n",
    "    node = y*9 + x\n",
    "    return node"
   ]
  }
 ]
}