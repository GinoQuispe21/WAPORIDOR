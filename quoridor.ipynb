{
 "metadata": {
  "language_info": {
   "codemirror_mode": {
    "name": "ipython",
    "version": 3
   },
   "file_extension": ".py",
   "mimetype": "text/x-python",
   "name": "python",
   "nbconvert_exporter": "python",
   "pygments_lexer": "ipython3",
   "version": "3.8.3-final"
  },
  "orig_nbformat": 2,
  "kernelspec": {
   "name": "python_defaultSpec_1599872969386",
   "display_name": "Python 3.8.3 64-bit ('base': conda)"
  }
 },
 "nbformat": 4,
 "nbformat_minor": 2,
 "cells": [
  {
   "cell_type": "code",
   "execution_count": 144,
   "metadata": {},
   "outputs": [],
   "source": [
    "import matplotlib.pyplot as plt \n",
    "import numpy as np \n",
    "\n",
    "def addPlayers(nop, ax):\n",
    "    if (nop == 2):\n",
    "        ax.text(0, 4, u'\\u265F', size=30, ha='center', va='center')\n",
    "        ax.text(8, 4, u'\\u265F', size=30, ha='center', va='center')\n",
    "    if (nop == 4):\n",
    "        ax.text(0, 4, u'\\u265F', size=30, ha='center', va='center')\n",
    "        ax.text(8, 4, u'\\u265F', size=30, ha='center', va='center')\n",
    "        ax.text(4, 0, u'\\u265F', size=30, ha='center', va='center')\n",
    "        ax.text(4, 8, u'\\u265F', size=30, ha='center', va='center')"
   ]
  },
  {
   "cell_type": "code",
   "execution_count": 169,
   "metadata": {},
   "outputs": [],
   "source": [
    "def addWalls(nop, ax):\n",
    "    if (nop == 2):\n",
    "    #1st player's walls\n",
    "        ax.text(-1, 0, u'\\u268A', size=30, ha='center', va='center')\n",
    "        ax.text(-1, 1, u'\\u268A', size=30, ha='center', va='center')\n",
    "        ax.text(-1, 2, u'\\u268A', size=30, ha='center', va='center')\n",
    "        ax.text(-1, 3, u'\\u268A', size=30, ha='center', va='center')\n",
    "        ax.text(-1, 4, u'\\u268A', size=30, ha='center', va='center')\n",
    "        ax.text(-1, 5, u'\\u268A', size=30, ha='center', va='center')\n",
    "        ax.text(-1, 6, u'\\u268A', size=30, ha='center', va='center')\n",
    "        ax.text(-1, 7, u'\\u268A', size=30, ha='center', va='center')\n",
    "        ax.text(-1, 8, u'\\u268A', size=30, ha='center', va='center')\n",
    "        ax.text(-1, 9, u'\\u268A', size=30, ha='center', va='center')\n",
    "    #2nd player's walls\n",
    "        ax.text(9, 0, u'\\u268A', size=30, ha='center', va='center')\n",
    "        ax.text(9, 1, u'\\u268A', size=30, ha='center', va='center')\n",
    "        ax.text(9, 2, u'\\u268A', size=30, ha='center', va='center')\n",
    "        ax.text(9, 3, u'\\u268A', size=30, ha='center', va='center')\n",
    "        ax.text(9, 4, u'\\u268A', size=30, ha='center', va='center')\n",
    "        ax.text(9, 5, u'\\u268A', size=30, ha='center', va='center')\n",
    "        ax.text(9, 6, u'\\u268A', size=30, ha='center', va='center')\n",
    "        ax.text(9, 7, u'\\u268A', size=30, ha='center', va='center')\n",
    "        ax.text(9, 8, u'\\u268A', size=30, ha='center', va='center')\n",
    "        ax.text(9, 9, u'\\u268A', size=30, ha='center', va='center')\n",
    "    if (nop == 4):\n",
    "    #1st player's walls\n",
    "        ax.text(-1, 2, u'\\u268A', size=30, ha='center', va='center')\n",
    "        ax.text(-1, 3, u'\\u268A', size=30, ha='center', va='center')\n",
    "        ax.text(-1, 4, u'\\u268A', size=30, ha='center', va='center')\n",
    "        ax.text(-1, 5, u'\\u268A', size=30, ha='center', va='center')\n",
    "        ax.text(-1, 6, u'\\u268A', size=30, ha='center', va='center')\n",
    "    #2nd player's walls\n",
    "        ax.text(9, 2, u'\\u268A', size=30, ha='center', va='center')\n",
    "        ax.text(9, 3, u'\\u268A', size=30, ha='center', va='center')\n",
    "        ax.text(9, 4, u'\\u268A', size=30, ha='center', va='center')\n",
    "        ax.text(9, 5, u'\\u268A', size=30, ha='center', va='center')\n",
    "        ax.text(9, 6, u'\\u268A', size=30, ha='center', va='center')\n",
    "    #3rd player's walls\n",
    "        ax.text(2, 9, u'\\u2759', size=20, ha='center', va='center')\n",
    "        ax.text(3, 9, u'\\u2759', size=20, ha='center', va='center')\n",
    "        ax.text(4, 9, u'\\u2759', size=20, ha='center', va='center')\n",
    "        ax.text(5, 9, u'\\u2759', size=20, ha='center', va='center')\n",
    "        ax.text(6, 9, u'\\u2759', size=20, ha='center', va='center')\n",
    "    #4th player's walls\n",
    "        ax.text(2, -1, u'\\u2759', size=20, ha='center', va='center')\n",
    "        ax.text(3, -1, u'\\u2759', size=20, ha='center', va='center')\n",
    "        ax.text(4, -1, u'\\u2759', size=20, ha='center', va='center')\n",
    "        ax.text(5, -1, u'\\u2759', size=20, ha='center', va='center')\n",
    "        ax.text(6, -1, u'\\u2759', size=20, ha='center', va='center')\n",
    "\n"
   ]
  },
  {
   "cell_type": "code",
   "execution_count": 170,
   "metadata": {},
   "outputs": [],
   "source": [
    "#Nota, personaje avanza de 2 en 2, ya que se debe reservar un espacio para las paredes\n",
    "def drawQuoridorBoard(nop):\n",
    "    bo = np.zeros((18, 18, 3)) #(9, 9) = 9x9 board size\n",
    "    bo += 0.8 #opactiy of black spaces\n",
    "    bo[ ::2, ::2] = 1 #????\n",
    "    bo[1::2, 1::2] = 1 #????\n",
    "\n",
    "    fig, ax = plt.subplots(figsize=(7,7)) #figsize = size of the board\n",
    "    \n",
    "    ax.imshow(bo, interpolation='nearest')\n",
    "\n",
    "    #add players:\n",
    "    addPlayers(nop, ax)\n",
    "\n",
    "    #add walls\n",
    "    addWalls(nop, ax)\n",
    "\n",
    "    ax.set(xticks=[], yticks=[])\n",
    "    ax.axis('image')\n",
    "\n",
    "    plt.show()"
   ]
  },
  {
   "cell_type": "code",
   "execution_count": 171,
   "metadata": {
    "tags": []
   },
   "outputs": [
    {
     "output_type": "display_data",
     "data": {
      "text/plain": "<Figure size 504x504 with 1 Axes>",
      "image/svg+xml": "<?xml version=\"1.0\" encoding=\"utf-8\" standalone=\"no\"?>\r\n<!DOCTYPE svg PUBLIC \"-//W3C//DTD SVG 1.1//EN\"\r\n  \"http://www.w3.org/Graphics/SVG/1.1/DTD/svg11.dtd\">\r\n<!-- Created with matplotlib (https://matplotlib.org/) -->\r\n<svg height=\"402.367187pt\" version=\"1.1\" viewBox=\"0 0 418.938437 402.367187\" width=\"418.938437pt\" xmlns=\"http://www.w3.org/2000/svg\" xmlns:xlink=\"http://www.w3.org/1999/xlink\">\r\n <defs>\r\n  <style type=\"text/css\">\r\n*{stroke-linecap:butt;stroke-linejoin:round;}\r\n  </style>\r\n </defs>\r\n <g id=\"figure_1\">\r\n  <g id=\"patch_1\">\r\n   <path d=\"M 0 402.367187 \r\nL 418.938437 402.367187 \r\nL 418.938437 0 \r\nL 0 0 \r\nz\r\n\" style=\"fill:none;\"/>\r\n  </g>\r\n  <g id=\"axes_1\">\r\n   <g id=\"patch_2\">\r\n    <path d=\"M 31.218438 391.667187 \r\nL 411.738438 391.667187 \r\nL 411.738438 11.147187 \r\nL 31.218438 11.147187 \r\nz\r\n\" style=\"fill:#ffffff;\"/>\r\n   </g>\r\n   <g clip-path=\"url(#p0a288e0aa6)\">\r\n    <image height=\"381\" id=\"image6d8bb0e60f\" transform=\"scale(1 -1)translate(0 -381)\" width=\"381\" x=\"31.218438\" xlink:href=\"data:image/png;base64,\r\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\" y=\"-10.667187\"/>\r\n   </g>\r\n   <g id=\"matplotlib.axis_1\"/>\r\n   <g id=\"matplotlib.axis_2\"/>\r\n   <g id=\"patch_3\">\r\n    <path d=\"M 31.218438 391.667187 \r\nL 31.218438 11.147187 \r\n\" style=\"fill:none;stroke:#000000;stroke-linecap:square;stroke-linejoin:miter;stroke-width:0.8;\"/>\r\n   </g>\r\n   <g id=\"patch_4\">\r\n    <path d=\"M 411.738438 391.667187 \r\nL 411.738438 11.147187 \r\n\" style=\"fill:none;stroke:#000000;stroke-linecap:square;stroke-linejoin:miter;stroke-width:0.8;\"/>\r\n   </g>\r\n   <g id=\"patch_5\">\r\n    <path d=\"M 31.218438 391.667187 \r\nL 411.738437 391.667187 \r\n\" style=\"fill:none;stroke:#000000;stroke-linecap:square;stroke-linejoin:miter;stroke-width:0.8;\"/>\r\n   </g>\r\n   <g id=\"patch_6\">\r\n    <path d=\"M 31.218438 11.147187 \r\nL 411.738437 11.147187 \r\n\" style=\"fill:none;stroke:#000000;stroke-linecap:square;stroke-linejoin:miter;stroke-width:0.8;\"/>\r\n   </g>\r\n   <g id=\"text_1\">\r\n    <!-- ♟ -->\r\n    <defs>\r\n     <path d=\"M 15.375 -0.046875 \r\nQ 14.84375 2.734375 14.84375 5.5625 \r\nQ 14.84375 13.375 18.875 20.53125 \r\nQ 22.90625 27.6875 30.03125 31.5 \r\nQ 31.890625 32.515625 33.84375 33.25 \r\nQ 32.375 34.671875 31.34375 36.53125 \r\nQ 29.296875 40.1875 29.296875 44.1875 \r\nQ 29.296875 48.25 31.375 51.921875 \r\nQ 33.453125 55.609375 37.203125 57.671875 \r\nQ 38.53125 58.34375 39.9375 58.84375 \r\nQ 38.671875 59.765625 37.9375 61.1875 \r\nQ 36.8125 63.09375 36.8125 65.140625 \r\nQ 36.8125 67.1875 37.890625 69.0625 \r\nQ 38.96875 70.953125 40.875 71.96875 \r\nQ 42.78125 73 44.78125 73 \r\nQ 46.734375 73 48.625 71.96875 \r\nQ 50.53125 70.953125 51.625 69.0625 \r\nQ 52.734375 67.1875 52.734375 65.140625 \r\nQ 52.734375 63.09375 51.703125 61.1875 \r\nQ 50.875 59.765625 49.65625 58.796875 \r\nQ 50.984375 58.34375 52.4375 57.671875 \r\nQ 56.109375 55.609375 58.203125 51.921875 \r\nQ 60.296875 48.25 60.296875 44.1875 \r\nQ 60.296875 40.1875 58.296875 36.53125 \r\nQ 57.234375 34.671875 55.765625 33.25 \r\nQ 57.625 32.46875 59.46875 31.5 \r\nQ 66.65625 27.6875 70.703125 20.53125 \r\nQ 74.75 13.375 74.75 5.5625 \r\nQ 74.75 2.734375 74.171875 -0.046875 \r\nz\r\n\" id=\"DejaVuSans-9823\"/>\r\n    </defs>\r\n    <g transform=\"translate(28.34 114.555312)scale(0.3 -0.3)\">\r\n     <use xlink:href=\"#DejaVuSans-9823\"/>\r\n    </g>\r\n   </g>\r\n   <g id=\"text_2\">\r\n    <!-- ♟ -->\r\n    <g transform=\"translate(197.46 114.555312)scale(0.3 -0.3)\">\r\n     <use xlink:href=\"#DejaVuSans-9823\"/>\r\n    </g>\r\n   </g>\r\n   <g id=\"text_3\">\r\n    <!-- ⚊ -->\r\n    <defs>\r\n     <path d=\"M 8.296875 9.765625 \r\nL 81.34375 9.765625 \r\nL 81.34375 0 \r\nL 8.296875 0 \r\nz\r\n\" id=\"DejaVuSans-9866\"/>\r\n    </defs>\r\n    <g transform=\"translate(7.2 29.995312)scale(0.3 -0.3)\">\r\n     <use xlink:href=\"#DejaVuSans-9866\"/>\r\n    </g>\r\n   </g>\r\n   <g id=\"text_4\">\r\n    <!-- ⚊ -->\r\n    <g transform=\"translate(7.2 51.135312)scale(0.3 -0.3)\">\r\n     <use xlink:href=\"#DejaVuSans-9866\"/>\r\n    </g>\r\n   </g>\r\n   <g id=\"text_5\">\r\n    <!-- ⚊ -->\r\n    <g transform=\"translate(7.2 72.275312)scale(0.3 -0.3)\">\r\n     <use xlink:href=\"#DejaVuSans-9866\"/>\r\n    </g>\r\n   </g>\r\n   <g id=\"text_6\">\r\n    <!-- ⚊ -->\r\n    <g transform=\"translate(7.2 93.415312)scale(0.3 -0.3)\">\r\n     <use xlink:href=\"#DejaVuSans-9866\"/>\r\n    </g>\r\n   </g>\r\n   <g id=\"text_7\">\r\n    <!-- ⚊ -->\r\n    <g transform=\"translate(7.2 114.555312)scale(0.3 -0.3)\">\r\n     <use xlink:href=\"#DejaVuSans-9866\"/>\r\n    </g>\r\n   </g>\r\n   <g id=\"text_8\">\r\n    <!-- ⚊ -->\r\n    <g transform=\"translate(7.2 135.695312)scale(0.3 -0.3)\">\r\n     <use xlink:href=\"#DejaVuSans-9866\"/>\r\n    </g>\r\n   </g>\r\n   <g id=\"text_9\">\r\n    <!-- ⚊ -->\r\n    <g transform=\"translate(7.2 156.835312)scale(0.3 -0.3)\">\r\n     <use xlink:href=\"#DejaVuSans-9866\"/>\r\n    </g>\r\n   </g>\r\n   <g id=\"text_10\">\r\n    <!-- ⚊ -->\r\n    <g transform=\"translate(7.2 177.975312)scale(0.3 -0.3)\">\r\n     <use xlink:href=\"#DejaVuSans-9866\"/>\r\n    </g>\r\n   </g>\r\n   <g id=\"text_11\">\r\n    <!-- ⚊ -->\r\n    <g transform=\"translate(7.2 199.115312)scale(0.3 -0.3)\">\r\n     <use xlink:href=\"#DejaVuSans-9866\"/>\r\n    </g>\r\n   </g>\r\n   <g id=\"text_12\">\r\n    <!-- ⚊ -->\r\n    <g transform=\"translate(7.2 220.255312)scale(0.3 -0.3)\">\r\n     <use xlink:href=\"#DejaVuSans-9866\"/>\r\n    </g>\r\n   </g>\r\n   <g id=\"text_13\">\r\n    <!-- ⚊ -->\r\n    <g transform=\"translate(218.6 29.995312)scale(0.3 -0.3)\">\r\n     <use xlink:href=\"#DejaVuSans-9866\"/>\r\n    </g>\r\n   </g>\r\n   <g id=\"text_14\">\r\n    <!-- ⚊ -->\r\n    <g transform=\"translate(218.6 51.135312)scale(0.3 -0.3)\">\r\n     <use xlink:href=\"#DejaVuSans-9866\"/>\r\n    </g>\r\n   </g>\r\n   <g id=\"text_15\">\r\n    <!-- ⚊ -->\r\n    <g transform=\"translate(218.6 72.275312)scale(0.3 -0.3)\">\r\n     <use xlink:href=\"#DejaVuSans-9866\"/>\r\n    </g>\r\n   </g>\r\n   <g id=\"text_16\">\r\n    <!-- ⚊ -->\r\n    <g transform=\"translate(218.6 93.415312)scale(0.3 -0.3)\">\r\n     <use xlink:href=\"#DejaVuSans-9866\"/>\r\n    </g>\r\n   </g>\r\n   <g id=\"text_17\">\r\n    <!-- ⚊ -->\r\n    <g transform=\"translate(218.6 114.555312)scale(0.3 -0.3)\">\r\n     <use xlink:href=\"#DejaVuSans-9866\"/>\r\n    </g>\r\n   </g>\r\n   <g id=\"text_18\">\r\n    <!-- ⚊ -->\r\n    <g transform=\"translate(218.6 135.695312)scale(0.3 -0.3)\">\r\n     <use xlink:href=\"#DejaVuSans-9866\"/>\r\n    </g>\r\n   </g>\r\n   <g id=\"text_19\">\r\n    <!-- ⚊ -->\r\n    <g transform=\"translate(218.6 156.835312)scale(0.3 -0.3)\">\r\n     <use xlink:href=\"#DejaVuSans-9866\"/>\r\n    </g>\r\n   </g>\r\n   <g id=\"text_20\">\r\n    <!-- ⚊ -->\r\n    <g transform=\"translate(218.6 177.975312)scale(0.3 -0.3)\">\r\n     <use xlink:href=\"#DejaVuSans-9866\"/>\r\n    </g>\r\n   </g>\r\n   <g id=\"text_21\">\r\n    <!-- ⚊ -->\r\n    <g transform=\"translate(218.6 199.115312)scale(0.3 -0.3)\">\r\n     <use xlink:href=\"#DejaVuSans-9866\"/>\r\n    </g>\r\n   </g>\r\n   <g id=\"text_22\">\r\n    <!-- ⚊ -->\r\n    <g transform=\"translate(218.6 220.255312)scale(0.3 -0.3)\">\r\n     <use xlink:href=\"#DejaVuSans-9866\"/>\r\n    </g>\r\n   </g>\r\n  </g>\r\n </g>\r\n <defs>\r\n  <clipPath id=\"p0a288e0aa6\">\r\n   <rect height=\"380.52\" width=\"380.52\" x=\"31.218438\" y=\"11.147187\"/>\r\n  </clipPath>\r\n </defs>\r\n</svg>\r\n",
      "image/png": "[encoded data removed]"
     },
     "metadata": {}
    }
   ],
   "source": [
    "#note: Quoridor can only be played by either 2 or 4 players\n",
    "#It is imposible to play with 3 players due to the amount of walls\n",
    "#20 is the amount of walls that should be divided into the number of players\n",
    "#Ergo, it can only be played by a divisble by 10 number of players (2 or 4)\n",
    "nop = 2 #number of players\n",
    "\n",
    "drawQuoridorBoard(nop)"
   ]
  },
  {
   "cell_type": "code",
   "execution_count": null,
   "metadata": {},
   "outputs": [],
   "source": []
  }
 ]
}