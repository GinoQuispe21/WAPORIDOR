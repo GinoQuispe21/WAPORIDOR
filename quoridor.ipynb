{
 "metadata": {
  "language_info": {
   "codemirror_mode": {
    "name": "ipython",
    "version": 3
   },
   "file_extension": ".py",
   "mimetype": "text/x-python",
   "name": "python",
   "nbconvert_exporter": "python",
   "pygments_lexer": "ipython3",
   "version": "3.8.3-final"
  },
  "orig_nbformat": 2,
  "kernelspec": {
   "name": "python_defaultSpec_1599872969386",
   "display_name": "Python 3.8.3 64-bit ('base': conda)"
  }
 },
 "nbformat": 4,
 "nbformat_minor": 2,
 "cells": [
  {
   "cell_type": "code",
   "execution_count": 112,
   "metadata": {},
   "outputs": [],
   "source": [
    "import matplotlib.pyplot as plt \n",
    "import numpy as np \n",
    "\n",
    "\n",
    "#Nota, personaje avanza de 2 en 2, ya que se debe reservar un espacio para las paredes\n",
    "def drawQuoridorBoard(nop, walls):\n",
    "    #n = len(board)\n",
    "    bo = np.zeros((9, 9, 3)) #(9, 9) = 9x9 board size\n",
    "    bo += 0.8 #opactiy of black spaces\n",
    "    bo[ ::2, ::2] = 1\n",
    "    bo[1::2, 1::2] = 1\n",
    "\n",
    "    fig, ax = plt.subplots()\n",
    "    ax.imshow(bo, interpolation='nearest')\n",
    "\n",
    "    #add players:\n",
    "    ax.text(0, 4, u'\\u265F', size=30, ha='center', va='center')\n",
    "    ax.text(8, 4, u'\\u265F', size=30, ha='center', va='center')\n",
    "    ax.text(4, 0, u'\\u265F', size=30, ha='center', va='center')\n",
    "    ax.text(4, 8, u'\\u265F', size=30, ha='center', va='center')\n",
    "\n",
    "    #add walls\n",
    "    #horizontal wall\n",
    "    ax.text(-1, 2, u'\\u268A', size=30, ha='center', va='center')\n",
    "    ax.text(-1, 3, u'\\u268A', size=30, ha='center', va='center')\n",
    "    ax.text(-1, 4, u'\\u268A', size=30, ha='center', va='center')\n",
    "    ax.text(-1, 5, u'\\u268A', size=30, ha='center', va='center')\n",
    "    ax.text(-1, 6, u'\\u268A', size=30, ha='center', va='center')\n",
    "\n",
    "    ax.text(9, 2, u'\\u268A', size=30, ha='center', va='center')\n",
    "    ax.text(9, 3, u'\\u268A', size=30, ha='center', va='center')\n",
    "    ax.text(9, 4, u'\\u268A', size=30, ha='center', va='center')\n",
    "    ax.text(9, 5, u'\\u268A', size=30, ha='center', va='center')\n",
    "    ax.text(9, 6, u'\\u268A', size=30, ha='center', va='center')\n",
    "\n",
    "    #vertical wall \\u2759\n",
    "    ax.text(2, 9, u'\\u2759', size=20, ha='center', va='center')\n",
    "    ax.text(3, 9, u'\\u2759', size=20, ha='center', va='center')\n",
    "    ax.text(4, 9, u'\\u2759', size=20, ha='center', va='center')\n",
    "    ax.text(5, 9, u'\\u2759', size=20, ha='center', va='center')\n",
    "    ax.text(6, 9, u'\\u2759', size=20, ha='center', va='center')\n",
    "\n",
    "    ax.text(2, -1, u'\\u2759', size=20, ha='center', va='center')\n",
    "    ax.text(3, -1, u'\\u2759', size=20, ha='center', va='center')\n",
    "    ax.text(4, -1, u'\\u2759', size=20, ha='center', va='center')\n",
    "    ax.text(5, -1, u'\\u2759', size=20, ha='center', va='center')\n",
    "    ax.text(6, -1, u'\\u2759', size=20, ha='center', va='center')\n",
    "\n",
    "    ax.set(xticks=[], yticks=[])\n",
    "    ax.axis('image')\n",
    "\n",
    "    plt.show()"
   ]
  },
  {
   "cell_type": "code",
   "execution_count": 113,
   "metadata": {
    "tags": []
   },
   "outputs": [
    {
     "output_type": "display_data",
     "data": {
      "text/plain": "<Figure size 432x288 with 1 Axes>",
      "image/svg+xml": "<?xml version=\"1.0\" encoding=\"utf-8\" standalone=\"no\"?>\r\n<!DOCTYPE svg PUBLIC \"-//W3C//DTD SVG 1.1//EN\"\r\n  \"http://www.w3.org/Graphics/SVG/1.1/DTD/svg11.dtd\">\r\n<!-- Created with matplotlib (https://matplotlib.org/) -->\r\n<svg height=\"256.35875pt\" version=\"1.1\" viewBox=\"0 0 282.896875 256.35875\" width=\"282.896875pt\" xmlns=\"http://www.w3.org/2000/svg\" xmlns:xlink=\"http://www.w3.org/1999/xlink\">\r\n <defs>\r\n  <style type=\"text/css\">\r\n*{stroke-linecap:butt;stroke-linejoin:round;}\r\n  </style>\r\n </defs>\r\n <g id=\"figure_1\">\r\n  <g id=\"patch_1\">\r\n   <path d=\"M 0 256.35875 \r\nL 282.896875 256.35875 \r\nL 282.896875 0 \r\nL 0 0 \r\nz\r\n\" style=\"fill:none;\"/>\r\n  </g>\r\n  <g id=\"axes_1\">\r\n   <g id=\"patch_2\">\r\n    <path d=\"M 32.728437 227.077187 \r\nL 250.168437 227.077187 \r\nL 250.168437 9.637187 \r\nL 32.728437 9.637187 \r\nz\r\n\" style=\"fill:#ffffff;\"/>\r\n   </g>\r\n   <g clip-path=\"url(#p64bceb3310)\">\r\n    <image height=\"218\" id=\"imagef9f05e5333\" transform=\"scale(1 -1)translate(0 -218)\" width=\"218\" x=\"32.728437\" xlink:href=\"data:image/png;base64,\r\niVBORw0KGgoAAAANSUhEUgAAANoAAADaCAYAAADAHVzbAAAABHNCSVQICAgIfAhkiAAAAwlJREFUeJzt3MGNJEEIAEHmNB6N/yasTZwVlRJShAHd8EjVj8/u7jz09/f38vPz+/2efn/m/g7X55+5v8O/p18HZkZokBAaBIQGAaFBQGgQEBoEhAYBoUFAaBAQGgSEBgGhQUBoEBAaBIQGAaFBQGgQEBoEhAYBoUFAaBAQGgS+1+/lvZ5/5v4O1+efub+DFw0CQoOA0CAgNAgIDQJCg4DQICA0CAgNAkKDgNAgIDQICA0CQoOA0CAgNAgIDQJCg4DQICA0CAgNAkKDgNAg8NndffmD6zcLZ+7vcH3+mfs7eNEgIDQICA0CQoOA0CAgNAgIDQJCg4DQICA0CAgNAkKDgNAgIDQICA0CQoOA0CAgNAgIDQJCg4DQICA0CAgNAkKDwPf6YcrX88/c3+H6/DP3d/CiQUBoEBAaBIQGAaFBQGgQEBoEhAYBoUFAaBAQGgSEBgGhQUBoEBAaBIQGAaFBQGgQEBoEhAYBoUFAaBAQGgQ+u7svf3D9ZuHM/R2uzz9zfwcvGgSEBgGhQUBoEBAaBIQGAaFBQGgQEBoEhAYBoUFAaBAQGgSEBgGhQUBoEBAaBIQGAaFBQGgQEBoEhAYBoUHge/1e3uv5Z+7vcH3+mfs7eNEgIDQICA0CQoOA0CAgNAgIDQJCg4DQICA0CAgNAkKDgNAgIDQICA0CQoOA0CAgNAgIDQJCg4DQICA0CAgNAp/d3Zc/uH6zcOb+Dtfnn7m/gxcNAkKDgNAgIDQICA0CQoOA0CAgNAgIDQJCg4DQICA0CAgNAkKDgNAgIDQICA0CQoOA0CAgNAgIDQJCg4DQICA0CHyvH6Z8Pf/M/R2uzz9zfwcvGgSEBgGhQUBoEBAaBIQGAaFBQGgQEBoEhAYBoUFAaBAQGgSEBgGhQUBoEBAaBIQGAaFBQGgQEBoEhAYBoUHgs7v78gfXbxbO3N/h+vwz93fwokFAaBAQGgSEBgGhQUBoEBAaBIQGAaFBQGgQEBoEhAYBoUFAaBAQGgSEBgGhQUBoEBAaBIQGAaFBQGgQEBoE/gP79ItACc21gQAAAABJRU5ErkJggg==\" y=\"-9.077187\"/>\r\n   </g>\r\n   <g id=\"matplotlib.axis_1\"/>\r\n   <g id=\"matplotlib.axis_2\"/>\r\n   <g id=\"patch_3\">\r\n    <path d=\"M 32.728437 227.077188 \r\nL 32.728437 9.637187 \r\n\" style=\"fill:none;stroke:#000000;stroke-linecap:square;stroke-linejoin:miter;stroke-width:0.8;\"/>\r\n   </g>\r\n   <g id=\"patch_4\">\r\n    <path d=\"M 250.168437 227.077188 \r\nL 250.168437 9.637187 \r\n\" style=\"fill:none;stroke:#000000;stroke-linecap:square;stroke-linejoin:miter;stroke-width:0.8;\"/>\r\n   </g>\r\n   <g id=\"patch_5\">\r\n    <path d=\"M 32.728437 227.077187 \r\nL 250.168438 227.077187 \r\n\" style=\"fill:none;stroke:#000000;stroke-linecap:square;stroke-linejoin:miter;stroke-width:0.8;\"/>\r\n   </g>\r\n   <g id=\"patch_6\">\r\n    <path d=\"M 32.728437 9.637187 \r\nL 250.168438 9.637187 \r\n\" style=\"fill:none;stroke:#000000;stroke-linecap:square;stroke-linejoin:miter;stroke-width:0.8;\"/>\r\n   </g>\r\n   <g id=\"text_1\">\r\n    <!-- ♟ -->\r\n    <defs>\r\n     <path d=\"M 15.375 -0.046875 \r\nQ 14.84375 2.734375 14.84375 5.5625 \r\nQ 14.84375 13.375 18.875 20.53125 \r\nQ 22.90625 27.6875 30.03125 31.5 \r\nQ 31.890625 32.515625 33.84375 33.25 \r\nQ 32.375 34.671875 31.34375 36.53125 \r\nQ 29.296875 40.1875 29.296875 44.1875 \r\nQ 29.296875 48.25 31.375 51.921875 \r\nQ 33.453125 55.609375 37.203125 57.671875 \r\nQ 38.53125 58.34375 39.9375 58.84375 \r\nQ 38.671875 59.765625 37.9375 61.1875 \r\nQ 36.8125 63.09375 36.8125 65.140625 \r\nQ 36.8125 67.1875 37.890625 69.0625 \r\nQ 38.96875 70.953125 40.875 71.96875 \r\nQ 42.78125 73 44.78125 73 \r\nQ 46.734375 73 48.625 71.96875 \r\nQ 50.53125 70.953125 51.625 69.0625 \r\nQ 52.734375 67.1875 52.734375 65.140625 \r\nQ 52.734375 63.09375 51.703125 61.1875 \r\nQ 50.875 59.765625 49.65625 58.796875 \r\nQ 50.984375 58.34375 52.4375 57.671875 \r\nQ 56.109375 55.609375 58.203125 51.921875 \r\nQ 60.296875 48.25 60.296875 44.1875 \r\nQ 60.296875 40.1875 58.296875 36.53125 \r\nQ 57.234375 34.671875 55.765625 33.25 \r\nQ 57.625 32.46875 59.46875 31.5 \r\nQ 66.65625 27.6875 70.703125 20.53125 \r\nQ 74.75 13.375 74.75 5.5625 \r\nQ 74.75 2.734375 74.171875 -0.046875 \r\nz\r\n\" id=\"DejaVuSans-9823\"/>\r\n    </defs>\r\n    <g transform=\"translate(31.36 126.635312)scale(0.3 -0.3)\">\r\n     <use xlink:href=\"#DejaVuSans-9823\"/>\r\n    </g>\r\n   </g>\r\n   <g id=\"text_2\">\r\n    <!-- ♟ -->\r\n    <g transform=\"translate(224.64 126.635312)scale(0.3 -0.3)\">\r\n     <use xlink:href=\"#DejaVuSans-9823\"/>\r\n    </g>\r\n   </g>\r\n   <g id=\"text_3\">\r\n    <!-- ♟ -->\r\n    <g transform=\"translate(128 29.995312)scale(0.3 -0.3)\">\r\n     <use xlink:href=\"#DejaVuSans-9823\"/>\r\n    </g>\r\n   </g>\r\n   <g id=\"text_4\">\r\n    <!-- ♟ -->\r\n    <g transform=\"translate(128 223.275312)scale(0.3 -0.3)\">\r\n     <use xlink:href=\"#DejaVuSans-9823\"/>\r\n    </g>\r\n   </g>\r\n   <g id=\"text_5\">\r\n    <!-- ⚊ -->\r\n    <defs>\r\n     <path d=\"M 8.296875 9.765625 \r\nL 81.34375 9.765625 \r\nL 81.34375 0 \r\nL 8.296875 0 \r\nz\r\n\" id=\"DejaVuSans-9866\"/>\r\n    </defs>\r\n    <g transform=\"translate(7.2 78.315312)scale(0.3 -0.3)\">\r\n     <use xlink:href=\"#DejaVuSans-9866\"/>\r\n    </g>\r\n   </g>\r\n   <g id=\"text_6\">\r\n    <!-- ⚊ -->\r\n    <g transform=\"translate(7.2 102.475312)scale(0.3 -0.3)\">\r\n     <use xlink:href=\"#DejaVuSans-9866\"/>\r\n    </g>\r\n   </g>\r\n   <g id=\"text_7\">\r\n    <!-- ⚊ -->\r\n    <g transform=\"translate(7.2 126.635312)scale(0.3 -0.3)\">\r\n     <use xlink:href=\"#DejaVuSans-9866\"/>\r\n    </g>\r\n   </g>\r\n   <g id=\"text_8\">\r\n    <!-- ⚊ -->\r\n    <g transform=\"translate(7.2 150.795312)scale(0.3 -0.3)\">\r\n     <use xlink:href=\"#DejaVuSans-9866\"/>\r\n    </g>\r\n   </g>\r\n   <g id=\"text_9\">\r\n    <!-- ⚊ -->\r\n    <g transform=\"translate(7.2 174.955312)scale(0.3 -0.3)\">\r\n     <use xlink:href=\"#DejaVuSans-9866\"/>\r\n    </g>\r\n   </g>\r\n   <g id=\"text_10\">\r\n    <!-- ⚊ -->\r\n    <g transform=\"translate(248.8 78.315312)scale(0.3 -0.3)\">\r\n     <use xlink:href=\"#DejaVuSans-9866\"/>\r\n    </g>\r\n   </g>\r\n   <g id=\"text_11\">\r\n    <!-- ⚊ -->\r\n    <g transform=\"translate(248.8 102.475312)scale(0.3 -0.3)\">\r\n     <use xlink:href=\"#DejaVuSans-9866\"/>\r\n    </g>\r\n   </g>\r\n   <g id=\"text_12\">\r\n    <!-- ⚊ -->\r\n    <g transform=\"translate(248.8 126.635312)scale(0.3 -0.3)\">\r\n     <use xlink:href=\"#DejaVuSans-9866\"/>\r\n    </g>\r\n   </g>\r\n   <g id=\"text_13\">\r\n    <!-- ⚊ -->\r\n    <g transform=\"translate(248.8 150.795312)scale(0.3 -0.3)\">\r\n     <use xlink:href=\"#DejaVuSans-9866\"/>\r\n    </g>\r\n   </g>\r\n   <g id=\"text_14\">\r\n    <!-- ⚊ -->\r\n    <g transform=\"translate(248.8 174.955312)scale(0.3 -0.3)\">\r\n     <use xlink:href=\"#DejaVuSans-9866\"/>\r\n    </g>\r\n   </g>\r\n   <g id=\"text_15\">\r\n    <!-- ❙ -->\r\n    <defs>\r\n     <path d=\"M 50.203125 75.984375 \r\nL 50.203125 -24.03125 \r\nL 33.59375 -24.03125 \r\nL 33.59375 75.984375 \r\nz\r\n\" id=\"DejaVuSans-10073\"/>\r\n    </defs>\r\n    <g transform=\"translate(84.74875 244.3525)scale(0.2 -0.2)\">\r\n     <use xlink:href=\"#DejaVuSans-10073\"/>\r\n    </g>\r\n   </g>\r\n   <g id=\"text_16\">\r\n    <!-- ❙ -->\r\n    <g transform=\"translate(108.90875 244.3525)scale(0.2 -0.2)\">\r\n     <use xlink:href=\"#DejaVuSans-10073\"/>\r\n    </g>\r\n   </g>\r\n   <g id=\"text_17\">\r\n    <!-- ❙ -->\r\n    <g transform=\"translate(133.06875 244.3525)scale(0.2 -0.2)\">\r\n     <use xlink:href=\"#DejaVuSans-10073\"/>\r\n    </g>\r\n   </g>\r\n   <g id=\"text_18\">\r\n    <!-- ❙ -->\r\n    <g transform=\"translate(157.22875 244.3525)scale(0.2 -0.2)\">\r\n     <use xlink:href=\"#DejaVuSans-10073\"/>\r\n    </g>\r\n   </g>\r\n   <g id=\"text_19\">\r\n    <!-- ❙ -->\r\n    <g transform=\"translate(181.38875 244.3525)scale(0.2 -0.2)\">\r\n     <use xlink:href=\"#DejaVuSans-10073\"/>\r\n    </g>\r\n   </g>\r\n  </g>\r\n </g>\r\n <defs>\r\n  <clipPath id=\"p64bceb3310\">\r\n   <rect height=\"217.44\" width=\"217.44\" x=\"32.728437\" y=\"9.637187\"/>\r\n  </clipPath>\r\n </defs>\r\n</svg>\r\n",
      "image/png": "[encoded data removed]"
     },
     "metadata": {}
    }
   ],
   "source": [
    "nop = 2 #number of players\n",
    "\n",
    "drawQuoridorBoard(nop, walls)"
   ]
  },
  {
   "cell_type": "code",
   "execution_count": null,
   "metadata": {},
   "outputs": [],
   "source": []
  }
 ]
}