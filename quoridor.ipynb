{
 "metadata": {
  "language_info": {
   "codemirror_mode": {
    "name": "ipython",
    "version": 3
   },
   "file_extension": ".py",
   "mimetype": "text/x-python",
   "name": "python",
   "nbconvert_exporter": "python",
   "pygments_lexer": "ipython3",
   "version": "3.8.3-final"
  },
  "orig_nbformat": 2,
  "kernelspec": {
   "name": "python_defaultSpec_1600017711912",
   "display_name": "Python 3.8.3 64-bit ('base': conda)"
  }
 },
 "nbformat": 4,
 "nbformat_minor": 2,
 "cells": [
  {
   "cell_type": "code",
   "execution_count": 1,
   "metadata": {},
   "outputs": [],
   "source": [
    "import matplotlib.pyplot as plt \n",
    "import numpy as np \n"
   ]
  },
  {
   "cell_type": "code",
   "execution_count": 2,
   "metadata": {},
   "outputs": [],
   "source": [
    "class Wall:\n",
    "    def __init__(self, x, y):\n",
    "        self.x = x\n",
    "        self.y = y\n",
    "    "
   ]
  },
  {
   "cell_type": "code",
   "execution_count": 3,
   "metadata": {},
   "outputs": [],
   "source": [
    "class Player:\n",
    "    def __init__(self, x, y, color, idy, n_walls):\n",
    "        self.id = idy\n",
    "        self.x = x\n",
    "        self.y = y\n",
    "        self.color = color\n",
    "        self.walls = []\n",
    "        self.n_walls = n_walls\n",
    "\n",
    "    def move_left(self):\n",
    "        print(\"Player: \", self.id, \"moved left\")\n",
    "        self.x = self.x - 2\n",
    "\n",
    "    def move_right(self):\n",
    "        print(\"Player: \", self.id, \"moved right\")\n",
    "        self.x = self.x + 2\n",
    "\n",
    "    def move_up(self):\n",
    "        print(\"Player: \", self.id, \"moved up\")\n",
    "        self.y = self.y - 2\n",
    "\n",
    "    def move_down(self):\n",
    "        print(\"Player: \", self.id, \"moved down\")\n",
    "        self.y = self.y - 2\n",
    "    \n",
    "    def add_wall(self, wall):\n",
    "        self.walls.append(wall)\n",
    "\n",
    "    def place_wall(self, x, y):\n",
    "        if (self.n_walls != 0):\n",
    "            self.n_walls = self.n_walls - 1\n",
    "            print(\"You have \", self.n_walls, \" left\")\n",
    "        else:\n",
    "            print(\"You don't have any walls left!!\")\n"
   ]
  },
  {
   "cell_type": "code",
   "execution_count": 4,
   "metadata": {},
   "outputs": [],
   "source": [
    "players = []\n",
    "def addPlayers(nop):\n",
    "    initState = [[0, 8, 'royalblue'], [16,8,'limegreen'], \n",
    "                 [8, 0, 'gold'],     [8, 16, 'deeppink']]\n",
    "\n",
    "    for i in range(nop):\n",
    "        p = Player(initState[i][0], initState[i][1], initState[i][2], i+1, 20//nop)\n",
    "        players.append(p)\n",
    "\n",
    "def drawPlayers(ax):\n",
    "    for p in players:\n",
    "        ax.text(p.x, p.y, u'\\u265F', size=30, \n",
    "        ha='center', va='center', color=p.color)"
   ]
  },
  {
   "cell_type": "code",
   "execution_count": 5,
   "metadata": {},
   "outputs": [],
   "source": [
    "def addWalls(nop):\n",
    "    initState = [[-1, 3], [17, 3], [3, 17], [3, -1]]\n",
    "    for p in players:\n",
    "        j = p.id - 1\n",
    "        for i in range(20//nop):\n",
    "            if (j < 2): #first and second, puts walls on the side\n",
    "                wall = Wall(initState[j][0], initState[j][1] + i)\n",
    "            else: #third and fourth, puts walls on top and bottom\n",
    "                wall = Wall(initState[j][0] + i, initState[j][1])\n",
    "            p.add_wall(wall)\n",
    "\n",
    "def drawWalls(ax):\n",
    "    for p in players:\n",
    "        for i in range(len(p.walls)):\n",
    "            if (p.id <= 2):\n",
    "                ax.text(p.walls[i].x, p.walls[i].y, u'\\u268A', size=30, ha='center',                va='baseline')\n",
    "            else:\n",
    "                ax.text(p.walls[i].x, p.walls[i].y, u'\\u2759', size=20, ha='center',                va='center')\n"
   ]
  },
  {
   "cell_type": "code",
   "execution_count": 6,
   "metadata": {},
   "outputs": [],
   "source": [
    "#Nota, personaje avanza de 2 en 2, ya que se debe reservar un espacio para las paredes\n",
    "def drawQuoridorBoard(nop):\n",
    "    bo = np.zeros((17, 17, 3)) #(9, 9) = 9x9 board size + spaces between for walls\n",
    "    #total of 17x17 board\n",
    "    bo += 0.8 #opactiy of black spaces\n",
    "    bo[ ::2, ::2] = 1\n",
    "    bo[0::2, 0::2] = 1\n",
    "\n",
    "    fig, ax = plt.subplots(figsize=(7,7)) #figsize = size of the board\n",
    "    ax.imshow(bo, interpolation='nearest')\n",
    "\n",
    "    #add players:\n",
    "    addPlayers(nop)\n",
    "    drawPlayers(ax)\n",
    "\n",
    "    #add walls:\n",
    "    addWalls(nop)\n",
    "    drawWalls(ax)\n",
    "\n",
    "    ax.set(xticks=[], yticks=[])\n",
    "    ax.axis('image')\n",
    "\n",
    "    plt.show()"
   ]
  },
  {
   "cell_type": "code",
   "execution_count": 7,
   "metadata": {},
   "outputs": [],
   "source": [
    "def game():\n",
    "    bo = np.zeros((17, 17, 3)) #(9, 9) = 9x9 board size + spaces between for walls\n",
    "    #total of 17x17 board\n",
    "    bo += 0.8 #opactiy of black spaces\n",
    "    bo[ ::2, ::2] = 1\n",
    "    bo[0::2, 0::2] = 1\n",
    "\n",
    "    fig, ax = plt.subplots(figsize=(7,7)) #figsize = size of the board\n",
    "    ax.imshow(bo, interpolation='nearest')\n",
    "\n",
    "    #since the game already started, you just draw the players\n",
    "    drawPlayers(ax)\n",
    "\n",
    "    #just draw the walls\n",
    "    drawWalls(ax)\n",
    "\n",
    "    ax.set(xticks=[], yticks=[])\n",
    "    ax.axis('image')\n",
    "\n",
    "    plt.show()"
   ]
  },
  {
   "cell_type": "code",
   "execution_count": 8,
   "metadata": {
    "tags": []
   },
   "outputs": [
    {
     "output_type": "display_data",
     "data": {
      "text/plain": "<Figure size 504x504 with 1 Axes>",
      "image/svg+xml": "<?xml version=\"1.0\" encoding=\"utf-8\" standalone=\"no\"?>\r\n<!DOCTYPE svg PUBLIC \"-//W3C//DTD SVG 1.1//EN\"\r\n  \"http://www.w3.org/Graphics/SVG/1.1/DTD/svg11.dtd\">\r\n<!-- Created with matplotlib (https://matplotlib.org/) -->\r\n<svg height=\"437.306654pt\" version=\"1.1\" viewBox=\"0 0 444.200404 437.306654\" width=\"444.200404pt\" xmlns=\"http://www.w3.org/2000/svg\" xmlns:xlink=\"http://www.w3.org/1999/xlink\">\r\n <defs>\r\n  <style type=\"text/css\">\r\n*{stroke-linecap:butt;stroke-linejoin:round;}\r\n  </style>\r\n </defs>\r\n <g id=\"figure_1\">\r\n  <g id=\"patch_1\">\r\n   <path d=\"M 0 437.306654 \r\nL 444.200404 437.306654 \r\nL 444.200404 0 \r\nL 0 0 \r\nz\r\n\" style=\"fill:none;\"/>\r\n  </g>\r\n  <g id=\"axes_1\">\r\n   <g id=\"patch_2\">\r\n    <path d=\"M 31.840202 408.913327 \r\nL 412.360202 408.913327 \r\nL 412.360202 28.393327 \r\nL 31.840202 28.393327 \r\nz\r\n\" style=\"fill:#ffffff;\"/>\r\n   </g>\r\n   <g clip-path=\"url(#pbb69f87b8c)\">\r\n    <image height=\"381\" id=\"image8ab939d3aa\" transform=\"scale(1 -1)translate(0 -381)\" width=\"381\" x=\"31.840202\" xlink:href=\"data:image/png;base64,\r\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\" y=\"-27.913327\"/>\r\n   </g>\r\n   <g id=\"matplotlib.axis_1\"/>\r\n   <g id=\"matplotlib.axis_2\"/>\r\n   <g id=\"patch_3\">\r\n    <path d=\"M 31.840202 408.913327 \r\nL 31.840202 28.393327 \r\n\" style=\"fill:none;stroke:#000000;stroke-linecap:square;stroke-linejoin:miter;stroke-width:0.8;\"/>\r\n   </g>\r\n   <g id=\"patch_4\">\r\n    <path d=\"M 412.360202 408.913327 \r\nL 412.360202 28.393327 \r\n\" style=\"fill:none;stroke:#000000;stroke-linecap:square;stroke-linejoin:miter;stroke-width:0.8;\"/>\r\n   </g>\r\n   <g id=\"patch_5\">\r\n    <path d=\"M 31.840202 408.913327 \r\nL 412.360202 408.913327 \r\n\" style=\"fill:none;stroke:#000000;stroke-linecap:square;stroke-linejoin:miter;stroke-width:0.8;\"/>\r\n   </g>\r\n   <g id=\"patch_6\">\r\n    <path d=\"M 31.840202 28.393327 \r\nL 412.360202 28.393327 \r\n\" style=\"fill:none;stroke:#000000;stroke-linecap:square;stroke-linejoin:miter;stroke-width:0.8;\"/>\r\n   </g>\r\n   <g id=\"text_1\">\r\n    <!-- ♟ -->\r\n    <defs>\r\n     <path d=\"M 15.375 -0.046875 \r\nQ 14.84375 2.734375 14.84375 5.5625 \r\nQ 14.84375 13.375 18.875 20.53125 \r\nQ 22.90625 27.6875 30.03125 31.5 \r\nQ 31.890625 32.515625 33.84375 33.25 \r\nQ 32.375 34.671875 31.34375 36.53125 \r\nQ 29.296875 40.1875 29.296875 44.1875 \r\nQ 29.296875 48.25 31.375 51.921875 \r\nQ 33.453125 55.609375 37.203125 57.671875 \r\nQ 38.53125 58.34375 39.9375 58.84375 \r\nQ 38.671875 59.765625 37.9375 61.1875 \r\nQ 36.8125 63.09375 36.8125 65.140625 \r\nQ 36.8125 67.1875 37.890625 69.0625 \r\nQ 38.96875 70.953125 40.875 71.96875 \r\nQ 42.78125 73 44.78125 73 \r\nQ 46.734375 73 48.625 71.96875 \r\nQ 50.53125 70.953125 51.625 69.0625 \r\nQ 52.734375 67.1875 52.734375 65.140625 \r\nQ 52.734375 63.09375 51.703125 61.1875 \r\nQ 50.875 59.765625 49.65625 58.796875 \r\nQ 50.984375 58.34375 52.4375 57.671875 \r\nQ 56.109375 55.609375 58.203125 51.921875 \r\nQ 60.296875 48.25 60.296875 44.1875 \r\nQ 60.296875 40.1875 58.296875 36.53125 \r\nQ 57.234375 34.671875 55.765625 33.25 \r\nQ 57.625 32.46875 59.46875 31.5 \r\nQ 66.65625 27.6875 70.703125 20.53125 \r\nQ 74.75 13.375 74.75 5.5625 \r\nQ 74.75 2.734375 74.171875 -0.046875 \r\nz\r\n\" id=\"DejaVuSans-9823\"/>\r\n    </defs>\r\n    <g style=\"fill:#4169e1;\" transform=\"translate(29.583529 226.931452)scale(0.3 -0.3)\">\r\n     <use xlink:href=\"#DejaVuSans-9823\"/>\r\n    </g>\r\n   </g>\r\n   <g id=\"text_2\">\r\n    <!-- ♟ -->\r\n    <g style=\"fill:#32cd32;\" transform=\"translate(387.72 226.931452)scale(0.3 -0.3)\">\r\n     <use xlink:href=\"#DejaVuSans-9823\"/>\r\n    </g>\r\n   </g>\r\n   <g id=\"text_3\">\r\n    <!-- ♟ -->\r\n    <g style=\"fill:#ffd700;\" transform=\"translate(208.651765 47.863217)scale(0.3 -0.3)\">\r\n     <use xlink:href=\"#DejaVuSans-9823\"/>\r\n    </g>\r\n   </g>\r\n   <g id=\"text_4\">\r\n    <!-- ♟ -->\r\n    <g style=\"fill:#ff1493;\" transform=\"translate(208.651765 405.999687)scale(0.3 -0.3)\">\r\n     <use xlink:href=\"#DejaVuSans-9823\"/>\r\n    </g>\r\n   </g>\r\n   <g id=\"text_5\">\r\n    <!-- ⚊ -->\r\n    <defs>\r\n     <path d=\"M 8.296875 9.765625 \r\nL 81.34375 9.765625 \r\nL 81.34375 0 \r\nL 8.296875 0 \r\nz\r\n\" id=\"DejaVuSans-9866\"/>\r\n    </defs>\r\n    <g transform=\"translate(7.2 106.73568)scale(0.3 -0.3)\">\r\n     <use xlink:href=\"#DejaVuSans-9866\"/>\r\n    </g>\r\n   </g>\r\n   <g id=\"text_6\">\r\n    <!-- ⚊ -->\r\n    <g transform=\"translate(7.2 129.11921)scale(0.3 -0.3)\">\r\n     <use xlink:href=\"#DejaVuSans-9866\"/>\r\n    </g>\r\n   </g>\r\n   <g id=\"text_7\">\r\n    <!-- ⚊ -->\r\n    <g transform=\"translate(7.2 151.502739)scale(0.3 -0.3)\">\r\n     <use xlink:href=\"#DejaVuSans-9866\"/>\r\n    </g>\r\n   </g>\r\n   <g id=\"text_8\">\r\n    <!-- ⚊ -->\r\n    <g transform=\"translate(7.2 173.886268)scale(0.3 -0.3)\">\r\n     <use xlink:href=\"#DejaVuSans-9866\"/>\r\n    </g>\r\n   </g>\r\n   <g id=\"text_9\">\r\n    <!-- ⚊ -->\r\n    <g transform=\"translate(7.2 196.269798)scale(0.3 -0.3)\">\r\n     <use xlink:href=\"#DejaVuSans-9866\"/>\r\n    </g>\r\n   </g>\r\n   <g id=\"text_10\">\r\n    <!-- ⚊ -->\r\n    <g transform=\"translate(410.103529 106.73568)scale(0.3 -0.3)\">\r\n     <use xlink:href=\"#DejaVuSans-9866\"/>\r\n    </g>\r\n   </g>\r\n   <g id=\"text_11\">\r\n    <!-- ⚊ -->\r\n    <g transform=\"translate(410.103529 129.11921)scale(0.3 -0.3)\">\r\n     <use xlink:href=\"#DejaVuSans-9866\"/>\r\n    </g>\r\n   </g>\r\n   <g id=\"text_12\">\r\n    <!-- ⚊ -->\r\n    <g transform=\"translate(410.103529 151.502739)scale(0.3 -0.3)\">\r\n     <use xlink:href=\"#DejaVuSans-9866\"/>\r\n    </g>\r\n   </g>\r\n   <g id=\"text_13\">\r\n    <!-- ⚊ -->\r\n    <g transform=\"translate(410.103529 173.886268)scale(0.3 -0.3)\">\r\n     <use xlink:href=\"#DejaVuSans-9866\"/>\r\n    </g>\r\n   </g>\r\n   <g id=\"text_14\">\r\n    <!-- ⚊ -->\r\n    <g transform=\"translate(410.103529 196.269798)scale(0.3 -0.3)\">\r\n     <use xlink:href=\"#DejaVuSans-9866\"/>\r\n    </g>\r\n   </g>\r\n   <g id=\"text_15\">\r\n    <!-- ❙ -->\r\n    <defs>\r\n     <path d=\"M 50.203125 75.984375 \r\nL 50.203125 -24.03125 \r\nL 33.59375 -24.03125 \r\nL 33.59375 75.984375 \r\nz\r\n\" id=\"DejaVuSans-10073\"/>\r\n    </defs>\r\n    <g transform=\"translate(101.802868 425.300404)scale(0.2 -0.2)\">\r\n     <use xlink:href=\"#DejaVuSans-10073\"/>\r\n    </g>\r\n   </g>\r\n   <g id=\"text_16\">\r\n    <!-- ❙ -->\r\n    <g transform=\"translate(124.186397 425.300404)scale(0.2 -0.2)\">\r\n     <use xlink:href=\"#DejaVuSans-10073\"/>\r\n    </g>\r\n   </g>\r\n   <g id=\"text_17\">\r\n    <!-- ❙ -->\r\n    <g transform=\"translate(146.569926 425.300404)scale(0.2 -0.2)\">\r\n     <use xlink:href=\"#DejaVuSans-10073\"/>\r\n    </g>\r\n   </g>\r\n   <g id=\"text_18\">\r\n    <!-- ❙ -->\r\n    <g transform=\"translate(168.953456 425.300404)scale(0.2 -0.2)\">\r\n     <use xlink:href=\"#DejaVuSans-10073\"/>\r\n    </g>\r\n   </g>\r\n   <g id=\"text_19\">\r\n    <!-- ❙ -->\r\n    <g transform=\"translate(191.336985 425.300404)scale(0.2 -0.2)\">\r\n     <use xlink:href=\"#DejaVuSans-10073\"/>\r\n    </g>\r\n   </g>\r\n   <g id=\"text_20\">\r\n    <!-- ❙ -->\r\n    <g transform=\"translate(101.802868 22.396875)scale(0.2 -0.2)\">\r\n     <use xlink:href=\"#DejaVuSans-10073\"/>\r\n    </g>\r\n   </g>\r\n   <g id=\"text_21\">\r\n    <!-- ❙ -->\r\n    <g transform=\"translate(124.186397 22.396875)scale(0.2 -0.2)\">\r\n     <use xlink:href=\"#DejaVuSans-10073\"/>\r\n    </g>\r\n   </g>\r\n   <g id=\"text_22\">\r\n    <!-- ❙ -->\r\n    <g transform=\"translate(146.569926 22.396875)scale(0.2 -0.2)\">\r\n     <use xlink:href=\"#DejaVuSans-10073\"/>\r\n    </g>\r\n   </g>\r\n   <g id=\"text_23\">\r\n    <!-- ❙ -->\r\n    <g transform=\"translate(168.953456 22.396875)scale(0.2 -0.2)\">\r\n     <use xlink:href=\"#DejaVuSans-10073\"/>\r\n    </g>\r\n   </g>\r\n   <g id=\"text_24\">\r\n    <!-- ❙ -->\r\n    <g transform=\"translate(191.336985 22.396875)scale(0.2 -0.2)\">\r\n     <use xlink:href=\"#DejaVuSans-10073\"/>\r\n    </g>\r\n   </g>\r\n  </g>\r\n </g>\r\n <defs>\r\n  <clipPath id=\"pbb69f87b8c\">\r\n   <rect height=\"380.52\" width=\"380.52\" x=\"31.840202\" y=\"28.393327\"/>\r\n  </clipPath>\r\n </defs>\r\n</svg>\r\n",
      "image/png": "[encoded data removed]"
     },
     "metadata": {}
    },
    {
     "output_type": "stream",
     "name": "stdout",
     "text": "Player:  1 moved up\n"
    }
   ],
   "source": [
    "#note: Quoridor can only be played by either 2 or 4 players\n",
    "#It is imposible to play with 3 players due to the amount of walls\n",
    "#20 is the amount of walls that should be divided into the number of players\n",
    "#Ergo, it can only be played by a divisble by 10 number of players (2 or 4)\n",
    "\n",
    "nop = 4 #number of players\n",
    "\n",
    "drawQuoridorBoard(nop)\n",
    "players[0].move_up()\n",
    "game()\n",
    "players[1].move_up()\n",
    "game()\n",
    "players[2].move_left()\n",
    "game()\n",
    "players[3].move_up()\n",
    "game()"
   ]
  },
  {
   "cell_type": "code",
   "execution_count": null,
   "metadata": {},
   "outputs": [],
   "source": []
  }
 ]
}