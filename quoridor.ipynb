{
 "cells": [
  {
   "cell_type": "code",
   "execution_count": 1,
   "metadata": {},
   "outputs": [],
   "source": [
    "import matplotlib.pyplot as plt \n",
    "import numpy as np"
   ]
  },
  {
   "cell_type": "code",
   "execution_count": 2,
   "metadata": {
    "tags": []
   },
   "outputs": [
    {
     "output_type": "stream",
     "name": "stdout",
     "text": "Requirement already satisfied: import-ipynb in c:\\users\\dell\\anaconda3\\lib\\site-packages (0.1.3)Note: you may need to restart the kernel to use updated packages.\n\n"
    }
   ],
   "source": [
    "pip install import-ipynb"
   ]
  },
  {
   "cell_type": "code",
   "execution_count": 3,
   "metadata": {
    "tags": []
   },
   "outputs": [
    {
     "output_type": "stream",
     "name": "stdout",
     "text": "importing Jupyter notebook from player.ipynb\n"
    }
   ],
   "source": [
    "import import_ipynb\n",
    "import player as p"
   ]
  },
  {
   "cell_type": "code",
   "execution_count": 4,
   "metadata": {
    "tags": []
   },
   "outputs": [
    {
     "output_type": "stream",
     "name": "stdout",
     "text": "importing Jupyter notebook from wall.ipynb\n"
    }
   ],
   "source": [
    "import import_ipynb\n",
    "import wall as w"
   ]
  },
  {
   "cell_type": "code",
   "execution_count": 5,
   "metadata": {},
   "outputs": [],
   "source": [
    "class Game:\n",
    "    def __init__(self, nop):\n",
    "        self.nop = nop\n",
    "    \n",
    "    #Note, character goes by 2 spaces, because one space is for the walls\n",
    "    def drawQuoridorBoard(self):\n",
    "        bo = np.zeros((17, 17, 3)) #(9, 9) = 9x9 board size + spaces between for walls\n",
    "        #total of 17x17 board\n",
    "        bo += 0.8 #opactiy of black spaces\n",
    "        bo[ ::2, ::2] = 1\n",
    "        bo[0::2, 0::2] = 1\n",
    "\n",
    "        fig, ax = plt.subplots(figsize=(7,7)) #figsize = size of the board\n",
    "        ax.imshow(bo, interpolation='nearest')\n",
    "\n",
    "        #add players:\n",
    "        p.addPlayers(self.nop)\n",
    "        p.drawPlayers(ax)\n",
    "\n",
    "        #add walls:\n",
    "        w.addWalls(self.nop)\n",
    "        w.drawWalls(ax)\n",
    "\n",
    "        ax.set(xticks=[], yticks=[])\n",
    "        ax.axis('image')\n",
    "\n",
    "        plt.show()\n",
    "        \n",
    "    def game(self):\n",
    "        bo = np.zeros((17, 17, 3)) #(9, 9) = 9x9 board size + spaces between for walls\n",
    "        #total of 17x17 board\n",
    "        bo += 0.8 #opactiy of black spaces\n",
    "        bo[ ::2, ::2] = 1\n",
    "        bo[0::2, 0::2] = 1\n",
    "\n",
    "        fig, ax = plt.subplots(figsize=(7,7)) #figsize = size of the board\n",
    "        ax.imshow(bo, interpolation='nearest')\n",
    "\n",
    "        #since the game already started, you just draw the players\n",
    "        p.drawPlayers(ax)\n",
    "\n",
    "        #just draw the walls\n",
    "        w.drawWalls(ax)\n",
    "\n",
    "        #checks if a player reached the opposite side\n",
    "        self.checkWinner()\n",
    "\n",
    "        ax.set(xticks=[], yticks=[])\n",
    "        ax.axis('image')\n",
    "\n",
    "        plt.show()\n",
    "\n",
    "    def checkWinner(self):\n",
    "        finish_line = [16,0,16,0]\n",
    "        for pl in p.players:\n",
    "            i = pl.id - 1\n",
    "            if (pl.id <= 2):\n",
    "                if(pl.x == finish_line[i]):\n",
    "                    print(\"GAME OVER\")\n",
    "                    print(\"Player\", pl.id, \"wins\")\n",
    "            else:\n",
    "                if(pl.y == finish_line[i]):\n",
    "                    print(\"GAME OVER\")\n",
    "                    print(\"Player\", pl.id, \"wins\")"
   ]
  },
  {
   "cell_type": "code",
   "execution_count": 6,
   "metadata": {
    "tags": []
   },
   "outputs": [
    {
     "output_type": "display_data",
     "data": {
      "text/plain": "<Figure size 504x504 with 1 Axes>",
      "image/svg+xml": "<?xml version=\"1.0\" encoding=\"utf-8\" standalone=\"no\"?>\r\n<!DOCTYPE svg PUBLIC \"-//W3C//DTD SVG 1.1//EN\"\r\n  \"http://www.w3.org/Graphics/SVG/1.1/DTD/svg11.dtd\">\r\n<!-- Created with matplotlib (https://matplotlib.org/) -->\r\n<svg height=\"437.306654pt\" version=\"1.1\" viewBox=\"0 0 444.200404 437.306654\" width=\"444.200404pt\" xmlns=\"http://www.w3.org/2000/svg\" xmlns:xlink=\"http://www.w3.org/1999/xlink\">\r\n <defs>\r\n  <style type=\"text/css\">\r\n*{stroke-linecap:butt;stroke-linejoin:round;}\r\n  </style>\r\n </defs>\r\n <g id=\"figure_1\">\r\n  <g id=\"patch_1\">\r\n   <path d=\"M 0 437.306654 \r\nL 444.200404 437.306654 \r\nL 444.200404 0 \r\nL 0 0 \r\nz\r\n\" style=\"fill:none;\"/>\r\n  </g>\r\n  <g id=\"axes_1\">\r\n   <g id=\"patch_2\">\r\n    <path d=\"M 31.840202 408.913327 \r\nL 412.360202 408.913327 \r\nL 412.360202 28.393327 \r\nL 31.840202 28.393327 \r\nz\r\n\" style=\"fill:#ffffff;\"/>\r\n   </g>\r\n   <g clip-path=\"url(#p3f76bad668)\">\r\n    <image height=\"381\" id=\"image33edd1e78b\" transform=\"scale(1 -1)translate(0 -381)\" width=\"381\" x=\"31.840202\" xlink:href=\"data:image/png;base64,\r\niVBORw0KGgoAAAANSUhEUgAAAX0AAAF9CAYAAADoebhRAAAABHNCSVQICAgIfAhkiAAABp5JREFUeJzt1sGt4zAQBcHRpqT8M5Bi4j9aCdBeoasCGLwD0eCx1lqzwX3fO87OzMx5nlvu2vyxa++MzU9vexczNj+9cfO/LVcB+C+JPkCI6AOEiD5AiOgDhIg+QIjoA4SIPkCI6AOEiD5AiOgDhIg+QIjoA4SIPkCI6AOEiD5AiOgDhIg+QIjoA4SIPkCI6AOEHNd1rV+PAOA7/PQBQkQfIET0AUJEHyBE9AFCRB8gRPQBQkQfIET0AUJEHyBE9AFCRB8gRPQBQkQfIET0AUJEHyBE9AFCRB8gRPQBQkQfIET0AUJEHyDkWGutHYfv+95xdmZmzvPcctfmj117Z2x+etu7mLH56Y2b/fQBQkQfIET0AUJEHyBE9AFCRB8gRPQBQkQfIET0AUJEHyBE9AFCRB8gRPQBQkQfIET0AUJEHyBE9AFCRB8gRPQBQkQfIET0AUKO67rWr0cA8B1++gAhog8QIvoAIaIPECL6ACGiDxAi+gAhog8QIvoAIaIPECL6ACGiDxAi+gAhog8QIvoAIaIPECL6ACGiDxAi+gAhog8QIvoAIaIPEHKstdaOw/d97zg7MzPneW65a/PHrr0zNj+97V3M2Pz0xs1++gAhog8QIvoAIaIPECL6ACGiDxAi+gAhog8QIvoAIaIPECL6ACGiDxAi+gAhog8QIvoAIaIPECL6ACGiDxAi+gAhog8QIvoAIcd1XevXIwD4Dj99gBDRBwgRfYAQ0QcIEX2AENEHCBF9gBDRBwgRfYAQ0QcIEX2AENEHCBF9gBDRBwgRfYAQ0QcIEX2AENEHCBF9gBDRBwgRfYAQ0QcIOdZaa8fh+753nJ2ZmfM8t9y1+WPX3hmbn972LmZsfnrjZj99gBDRBwgRfYAQ0QcIEX2AENEHCBF9gBDRBwgRfYAQ0QcIEX2AENEHCBF9gBDRBwgRfYAQ0QcIEX2AENEHCBF9gBDRBwgRfYCQ47qu9esRAHyHnz5AiOgDhIg+QIjoA4SIPkCI6AOEiD5AiOgDhIg+QIjoA4SIPkCI6AOEiD5AiOgDhIg+QIjoA4SIPkCI6AOEiD5AiOgDhIg+QMix1lo7Dt/3vePszMyc57nlrs0fu/bO2Pz0tncxY/PTGzf76QOEiD5AiOgDhIg+QIjoA4SIPkCI6AOEiD5AiOgDhIg+QIjoA4SIPkCI6AOEiD5AiOgDhIg+QIjoA4SIPkCI6AOEiD5AiOgDhIg+QMhxXdf69QgAvsNPHyBE9AFCRB8gRPQBQkQfIET0AUJEHyBE9AFCRB8gRPQBQkQfIET0AUJEHyBE9AFCRB8gRPQBQkQfIET0AUJEHyBE9AFCRB8g5FhrrR2H7/vecXZmZs7z3HLX5o9de2dsfnrbu5ix+emNm/30AUJEHyBE9AFCRB8gRPQBQkQfIET0AUJEHyBE9AFCRB8gRPQBQkQfIET0AUJEHyBE9AFCRB8gRPQBQkQfIET0AUJEHyBE9AFCRB8g5Liua/16BADf4acPECL6ACGiDxAi+gAhog8QIvoAIaIPECL6ACGiDxAi+gAhog8QIvoAIaIPECL6ACGiDxAi+gAhog8QIvoAIaIPECL6ACGiDxByrLXWjsP3fe84OzMz53luuWvzx669MzY/ve1dzNj89MbNfvoAIaIPECL6ACGiDxAi+gAhog8QIvoAIaIPECL6ACGiDxAi+gAhog8QIvoAIaIPECL6ACGiDxAi+gAhog8QIvoAIaIPECL6ACHHdV3r1yMA+A4/fYAQ0QcIEX2AENEHCBF9gBDRBwgRfYAQ0QcIEX2AENEHCBF9gBDRBwgRfYAQ0QcIEX2AENEHCBF9gBDRBwgRfYAQ0QcIEX2AENEHCDnWWmvH4fu+d5ydmZnzPLfctflj194Zm5/e9i5mbH5642Y/fYAQ0QcIEX2AENEHCBF9gBDRBwgRfYAQ0QcIEX2AENEHCBF9gBDRBwgRfYAQ0QcIEX2AENEHCBF9gBDRBwgRfYAQ0QcIEX2AkOO6rvXrEQB8h58+QIjoA4SIPkCI6AOEiD5AiOgDhIg+QIjoA4SIPkCI6AOEiD5AiOgDhIg+QIjoA4SIPkCI6AOEiD5AiOgDhIg+QIjoA4SIPkCI6AOEHGuttePwfd87zs7MzHmeW+7a/LFr74zNT297FzM2P71xs58+QIjoA4SIPkCI6AOEiD5AiOgDhIg+QIjoA4SIPkCI6AOEiD5AiOgDhIg+QIjoA4SIPkCI6AOEiD5AiOgDhIg+QIjoA4SIPkDIH9YWGe3hfN7mAAAAAElFTkSuQmCC\" y=\"-27.913327\"/>\r\n   </g>\r\n   <g id=\"matplotlib.axis_1\"/>\r\n   <g id=\"matplotlib.axis_2\"/>\r\n   <g id=\"patch_3\">\r\n    <path d=\"M 31.840202 408.913327 \r\nL 31.840202 28.393327 \r\n\" style=\"fill:none;stroke:#000000;stroke-linecap:square;stroke-linejoin:miter;stroke-width:0.8;\"/>\r\n   </g>\r\n   <g id=\"patch_4\">\r\n    <path d=\"M 412.360202 408.913327 \r\nL 412.360202 28.393327 \r\n\" style=\"fill:none;stroke:#000000;stroke-linecap:square;stroke-linejoin:miter;stroke-width:0.8;\"/>\r\n   </g>\r\n   <g id=\"patch_5\">\r\n    <path d=\"M 31.840202 408.913327 \r\nL 412.360202 408.913327 \r\n\" style=\"fill:none;stroke:#000000;stroke-linecap:square;stroke-linejoin:miter;stroke-width:0.8;\"/>\r\n   </g>\r\n   <g id=\"patch_6\">\r\n    <path d=\"M 31.840202 28.393327 \r\nL 412.360202 28.393327 \r\n\" style=\"fill:none;stroke:#000000;stroke-linecap:square;stroke-linejoin:miter;stroke-width:0.8;\"/>\r\n   </g>\r\n   <g id=\"text_1\">\r\n    <!-- ♟ -->\r\n    <defs>\r\n     <path d=\"M 15.375 -0.046875 \r\nQ 14.84375 2.734375 14.84375 5.5625 \r\nQ 14.84375 13.375 18.875 20.53125 \r\nQ 22.90625 27.6875 30.03125 31.5 \r\nQ 31.890625 32.515625 33.84375 33.25 \r\nQ 32.375 34.671875 31.34375 36.53125 \r\nQ 29.296875 40.1875 29.296875 44.1875 \r\nQ 29.296875 48.25 31.375 51.921875 \r\nQ 33.453125 55.609375 37.203125 57.671875 \r\nQ 38.53125 58.34375 39.9375 58.84375 \r\nQ 38.671875 59.765625 37.9375 61.1875 \r\nQ 36.8125 63.09375 36.8125 65.140625 \r\nQ 36.8125 67.1875 37.890625 69.0625 \r\nQ 38.96875 70.953125 40.875 71.96875 \r\nQ 42.78125 73 44.78125 73 \r\nQ 46.734375 73 48.625 71.96875 \r\nQ 50.53125 70.953125 51.625 69.0625 \r\nQ 52.734375 67.1875 52.734375 65.140625 \r\nQ 52.734375 63.09375 51.703125 61.1875 \r\nQ 50.875 59.765625 49.65625 58.796875 \r\nQ 50.984375 58.34375 52.4375 57.671875 \r\nQ 56.109375 55.609375 58.203125 51.921875 \r\nQ 60.296875 48.25 60.296875 44.1875 \r\nQ 60.296875 40.1875 58.296875 36.53125 \r\nQ 57.234375 34.671875 55.765625 33.25 \r\nQ 57.625 32.46875 59.46875 31.5 \r\nQ 66.65625 27.6875 70.703125 20.53125 \r\nQ 74.75 13.375 74.75 5.5625 \r\nQ 74.75 2.734375 74.171875 -0.046875 \r\nz\r\n\" id=\"DejaVuSans-9823\"/>\r\n    </defs>\r\n    <g style=\"fill:#4169e1;\" transform=\"translate(29.583529 226.931452)scale(0.3 -0.3)\">\r\n     <use xlink:href=\"#DejaVuSans-9823\"/>\r\n    </g>\r\n   </g>\r\n   <g id=\"text_2\">\r\n    <!-- ♟ -->\r\n    <g style=\"fill:#32cd32;\" transform=\"translate(387.72 226.931452)scale(0.3 -0.3)\">\r\n     <use xlink:href=\"#DejaVuSans-9823\"/>\r\n    </g>\r\n   </g>\r\n   <g id=\"text_3\">\r\n    <!-- ♟ -->\r\n    <g style=\"fill:#ffd700;\" transform=\"translate(208.651765 47.863217)scale(0.3 -0.3)\">\r\n     <use xlink:href=\"#DejaVuSans-9823\"/>\r\n    </g>\r\n   </g>\r\n   <g id=\"text_4\">\r\n    <!-- ♟ -->\r\n    <g style=\"fill:#ff1493;\" transform=\"translate(208.651765 405.999687)scale(0.3 -0.3)\">\r\n     <use xlink:href=\"#DejaVuSans-9823\"/>\r\n    </g>\r\n   </g>\r\n   <g id=\"text_5\">\r\n    <!-- ⚊ -->\r\n    <defs>\r\n     <path d=\"M 8.296875 9.765625 \r\nL 81.34375 9.765625 \r\nL 81.34375 0 \r\nL 8.296875 0 \r\nz\r\n\" id=\"DejaVuSans-9866\"/>\r\n    </defs>\r\n    <g style=\"fill:#4169e1;\" transform=\"translate(7.2 106.73568)scale(0.3 -0.3)\">\r\n     <use xlink:href=\"#DejaVuSans-9866\"/>\r\n    </g>\r\n   </g>\r\n   <g id=\"text_6\">\r\n    <!-- ⚊ -->\r\n    <g style=\"fill:#4169e1;\" transform=\"translate(7.2 129.11921)scale(0.3 -0.3)\">\r\n     <use xlink:href=\"#DejaVuSans-9866\"/>\r\n    </g>\r\n   </g>\r\n   <g id=\"text_7\">\r\n    <!-- ⚊ -->\r\n    <g style=\"fill:#4169e1;\" transform=\"translate(7.2 151.502739)scale(0.3 -0.3)\">\r\n     <use xlink:href=\"#DejaVuSans-9866\"/>\r\n    </g>\r\n   </g>\r\n   <g id=\"text_8\">\r\n    <!-- ⚊ -->\r\n    <g style=\"fill:#4169e1;\" transform=\"translate(7.2 173.886268)scale(0.3 -0.3)\">\r\n     <use xlink:href=\"#DejaVuSans-9866\"/>\r\n    </g>\r\n   </g>\r\n   <g id=\"text_9\">\r\n    <!-- ⚊ -->\r\n    <g style=\"fill:#4169e1;\" transform=\"translate(7.2 196.269798)scale(0.3 -0.3)\">\r\n     <use xlink:href=\"#DejaVuSans-9866\"/>\r\n    </g>\r\n   </g>\r\n   <g id=\"text_10\">\r\n    <!-- ⚊ -->\r\n    <g style=\"fill:#32cd32;\" transform=\"translate(410.103529 106.73568)scale(0.3 -0.3)\">\r\n     <use xlink:href=\"#DejaVuSans-9866\"/>\r\n    </g>\r\n   </g>\r\n   <g id=\"text_11\">\r\n    <!-- ⚊ -->\r\n    <g style=\"fill:#32cd32;\" transform=\"translate(410.103529 129.11921)scale(0.3 -0.3)\">\r\n     <use xlink:href=\"#DejaVuSans-9866\"/>\r\n    </g>\r\n   </g>\r\n   <g id=\"text_12\">\r\n    <!-- ⚊ -->\r\n    <g style=\"fill:#32cd32;\" transform=\"translate(410.103529 151.502739)scale(0.3 -0.3)\">\r\n     <use xlink:href=\"#DejaVuSans-9866\"/>\r\n    </g>\r\n   </g>\r\n   <g id=\"text_13\">\r\n    <!-- ⚊ -->\r\n    <g style=\"fill:#32cd32;\" transform=\"translate(410.103529 173.886268)scale(0.3 -0.3)\">\r\n     <use xlink:href=\"#DejaVuSans-9866\"/>\r\n    </g>\r\n   </g>\r\n   <g id=\"text_14\">\r\n    <!-- ⚊ -->\r\n    <g style=\"fill:#32cd32;\" transform=\"translate(410.103529 196.269798)scale(0.3 -0.3)\">\r\n     <use xlink:href=\"#DejaVuSans-9866\"/>\r\n    </g>\r\n   </g>\r\n   <g id=\"text_15\">\r\n    <!-- ❙ -->\r\n    <defs>\r\n     <path d=\"M 50.203125 75.984375 \r\nL 50.203125 -24.03125 \r\nL 33.59375 -24.03125 \r\nL 33.59375 75.984375 \r\nz\r\n\" id=\"DejaVuSans-10073\"/>\r\n    </defs>\r\n    <g style=\"fill:#ffd700;\" transform=\"translate(101.802868 22.396875)scale(0.2 -0.2)\">\r\n     <use xlink:href=\"#DejaVuSans-10073\"/>\r\n    </g>\r\n   </g>\r\n   <g id=\"text_16\">\r\n    <!-- ❙ -->\r\n    <g style=\"fill:#ffd700;\" transform=\"translate(124.186397 22.396875)scale(0.2 -0.2)\">\r\n     <use xlink:href=\"#DejaVuSans-10073\"/>\r\n    </g>\r\n   </g>\r\n   <g id=\"text_17\">\r\n    <!-- ❙ -->\r\n    <g style=\"fill:#ffd700;\" transform=\"translate(146.569926 22.396875)scale(0.2 -0.2)\">\r\n     <use xlink:href=\"#DejaVuSans-10073\"/>\r\n    </g>\r\n   </g>\r\n   <g id=\"text_18\">\r\n    <!-- ❙ -->\r\n    <g style=\"fill:#ffd700;\" transform=\"translate(168.953456 22.396875)scale(0.2 -0.2)\">\r\n     <use xlink:href=\"#DejaVuSans-10073\"/>\r\n    </g>\r\n   </g>\r\n   <g id=\"text_19\">\r\n    <!-- ❙ -->\r\n    <g style=\"fill:#ffd700;\" transform=\"translate(191.336985 22.396875)scale(0.2 -0.2)\">\r\n     <use xlink:href=\"#DejaVuSans-10073\"/>\r\n    </g>\r\n   </g>\r\n   <g id=\"text_20\">\r\n    <!-- ❙ -->\r\n    <g style=\"fill:#ff1493;\" transform=\"translate(101.802868 425.300404)scale(0.2 -0.2)\">\r\n     <use xlink:href=\"#DejaVuSans-10073\"/>\r\n    </g>\r\n   </g>\r\n   <g id=\"text_21\">\r\n    <!-- ❙ -->\r\n    <g style=\"fill:#ff1493;\" transform=\"translate(124.186397 425.300404)scale(0.2 -0.2)\">\r\n     <use xlink:href=\"#DejaVuSans-10073\"/>\r\n    </g>\r\n   </g>\r\n   <g id=\"text_22\">\r\n    <!-- ❙ -->\r\n    <g style=\"fill:#ff1493;\" transform=\"translate(146.569926 425.300404)scale(0.2 -0.2)\">\r\n     <use xlink:href=\"#DejaVuSans-10073\"/>\r\n    </g>\r\n   </g>\r\n   <g id=\"text_23\">\r\n    <!-- ❙ -->\r\n    <g style=\"fill:#ff1493;\" transform=\"translate(168.953456 425.300404)scale(0.2 -0.2)\">\r\n     <use xlink:href=\"#DejaVuSans-10073\"/>\r\n    </g>\r\n   </g>\r\n   <g id=\"text_24\">\r\n    <!-- ❙ -->\r\n    <g style=\"fill:#ff1493;\" transform=\"translate(191.336985 425.300404)scale(0.2 -0.2)\">\r\n     <use xlink:href=\"#DejaVuSans-10073\"/>\r\n    </g>\r\n   </g>\r\n  </g>\r\n </g>\r\n <defs>\r\n  <clipPath id=\"p3f76bad668\">\r\n   <rect height=\"380.52\" width=\"380.52\" x=\"31.840202\" y=\"28.393327\"/>\r\n  </clipPath>\r\n </defs>\r\n</svg>\r\n",
      "image/png": "[encoded data removed]"
     },
     "metadata": {}
    },
    {
     "output_type": "stream",
     "name": "stdout",
     "text": "Player 3 has: 4 walls left\n"
    },
    {
     "output_type": "display_data",
     "data": {
      "text/plain": "<Figure size 504x504 with 1 Axes>",
      "image/svg+xml": "<?xml version=\"1.0\" encoding=\"utf-8\" standalone=\"no\"?>\r\n<!DOCTYPE svg PUBLIC \"-//W3C//DTD SVG 1.1//EN\"\r\n  \"http://www.w3.org/Graphics/SVG/1.1/DTD/svg11.dtd\">\r\n<!-- Created with matplotlib (https://matplotlib.org/) -->\r\n<svg height=\"437.306654pt\" version=\"1.1\" viewBox=\"0 0 444.200404 437.306654\" width=\"444.200404pt\" xmlns=\"http://www.w3.org/2000/svg\" xmlns:xlink=\"http://www.w3.org/1999/xlink\">\r\n <defs>\r\n  <style type=\"text/css\">\r\n*{stroke-linecap:butt;stroke-linejoin:round;}\r\n  </style>\r\n </defs>\r\n <g id=\"figure_1\">\r\n  <g id=\"patch_1\">\r\n   <path d=\"M 0 437.306654 \r\nL 444.200404 437.306654 \r\nL 444.200404 0 \r\nL 0 0 \r\nz\r\n\" style=\"fill:none;\"/>\r\n  </g>\r\n  <g id=\"axes_1\">\r\n   <g id=\"patch_2\">\r\n    <path d=\"M 31.840202 408.913327 \r\nL 412.360202 408.913327 \r\nL 412.360202 28.393327 \r\nL 31.840202 28.393327 \r\nz\r\n\" style=\"fill:#ffffff;\"/>\r\n   </g>\r\n   <g clip-path=\"url(#p8d6b513143)\">\r\n    <image height=\"381\" id=\"imageb58b4a7d80\" transform=\"scale(1 -1)translate(0 -381)\" width=\"381\" x=\"31.840202\" xlink:href=\"data:image/png;base64,\r\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\" y=\"-27.913327\"/>\r\n   </g>\r\n   <g id=\"matplotlib.axis_1\"/>\r\n   <g id=\"matplotlib.axis_2\"/>\r\n   <g id=\"patch_3\">\r\n    <path d=\"M 31.840202 408.913327 \r\nL 31.840202 28.393327 \r\n\" style=\"fill:none;stroke:#000000;stroke-linecap:square;stroke-linejoin:miter;stroke-width:0.8;\"/>\r\n   </g>\r\n   <g id=\"patch_4\">\r\n    <path d=\"M 412.360202 408.913327 \r\nL 412.360202 28.393327 \r\n\" style=\"fill:none;stroke:#000000;stroke-linecap:square;stroke-linejoin:miter;stroke-width:0.8;\"/>\r\n   </g>\r\n   <g id=\"patch_5\">\r\n    <path d=\"M 31.840202 408.913327 \r\nL 412.360202 408.913327 \r\n\" style=\"fill:none;stroke:#000000;stroke-linecap:square;stroke-linejoin:miter;stroke-width:0.8;\"/>\r\n   </g>\r\n   <g id=\"patch_6\">\r\n    <path d=\"M 31.840202 28.393327 \r\nL 412.360202 28.393327 \r\n\" style=\"fill:none;stroke:#000000;stroke-linecap:square;stroke-linejoin:miter;stroke-width:0.8;\"/>\r\n   </g>\r\n   <g id=\"text_1\">\r\n    <!-- ♟ -->\r\n    <defs>\r\n     <path d=\"M 15.375 -0.046875 \r\nQ 14.84375 2.734375 14.84375 5.5625 \r\nQ 14.84375 13.375 18.875 20.53125 \r\nQ 22.90625 27.6875 30.03125 31.5 \r\nQ 31.890625 32.515625 33.84375 33.25 \r\nQ 32.375 34.671875 31.34375 36.53125 \r\nQ 29.296875 40.1875 29.296875 44.1875 \r\nQ 29.296875 48.25 31.375 51.921875 \r\nQ 33.453125 55.609375 37.203125 57.671875 \r\nQ 38.53125 58.34375 39.9375 58.84375 \r\nQ 38.671875 59.765625 37.9375 61.1875 \r\nQ 36.8125 63.09375 36.8125 65.140625 \r\nQ 36.8125 67.1875 37.890625 69.0625 \r\nQ 38.96875 70.953125 40.875 71.96875 \r\nQ 42.78125 73 44.78125 73 \r\nQ 46.734375 73 48.625 71.96875 \r\nQ 50.53125 70.953125 51.625 69.0625 \r\nQ 52.734375 67.1875 52.734375 65.140625 \r\nQ 52.734375 63.09375 51.703125 61.1875 \r\nQ 50.875 59.765625 49.65625 58.796875 \r\nQ 50.984375 58.34375 52.4375 57.671875 \r\nQ 56.109375 55.609375 58.203125 51.921875 \r\nQ 60.296875 48.25 60.296875 44.1875 \r\nQ 60.296875 40.1875 58.296875 36.53125 \r\nQ 57.234375 34.671875 55.765625 33.25 \r\nQ 57.625 32.46875 59.46875 31.5 \r\nQ 66.65625 27.6875 70.703125 20.53125 \r\nQ 74.75 13.375 74.75 5.5625 \r\nQ 74.75 2.734375 74.171875 -0.046875 \r\nz\r\n\" id=\"DejaVuSans-9823\"/>\r\n    </defs>\r\n    <g style=\"fill:#4169e1;\" transform=\"translate(29.583529 226.931452)scale(0.3 -0.3)\">\r\n     <use xlink:href=\"#DejaVuSans-9823\"/>\r\n    </g>\r\n   </g>\r\n   <g id=\"text_2\">\r\n    <!-- ♟ -->\r\n    <g style=\"fill:#32cd32;\" transform=\"translate(387.72 226.931452)scale(0.3 -0.3)\">\r\n     <use xlink:href=\"#DejaVuSans-9823\"/>\r\n    </g>\r\n   </g>\r\n   <g id=\"text_3\">\r\n    <!-- ♟ -->\r\n    <g style=\"fill:#ffd700;\" transform=\"translate(208.651765 47.863217)scale(0.3 -0.3)\">\r\n     <use xlink:href=\"#DejaVuSans-9823\"/>\r\n    </g>\r\n   </g>\r\n   <g id=\"text_4\">\r\n    <!-- ♟ -->\r\n    <g style=\"fill:#ff1493;\" transform=\"translate(208.651765 405.999687)scale(0.3 -0.3)\">\r\n     <use xlink:href=\"#DejaVuSans-9823\"/>\r\n    </g>\r\n   </g>\r\n   <g id=\"text_5\">\r\n    <!-- ⚊ -->\r\n    <defs>\r\n     <path d=\"M 8.296875 9.765625 \r\nL 81.34375 9.765625 \r\nL 81.34375 0 \r\nL 8.296875 0 \r\nz\r\n\" id=\"DejaVuSans-9866\"/>\r\n    </defs>\r\n    <g style=\"fill:#4169e1;\" transform=\"translate(7.2 106.73568)scale(0.3 -0.3)\">\r\n     <use xlink:href=\"#DejaVuSans-9866\"/>\r\n    </g>\r\n   </g>\r\n   <g id=\"text_6\">\r\n    <!-- ⚊ -->\r\n    <g style=\"fill:#4169e1;\" transform=\"translate(7.2 129.11921)scale(0.3 -0.3)\">\r\n     <use xlink:href=\"#DejaVuSans-9866\"/>\r\n    </g>\r\n   </g>\r\n   <g id=\"text_7\">\r\n    <!-- ⚊ -->\r\n    <g style=\"fill:#4169e1;\" transform=\"translate(7.2 151.502739)scale(0.3 -0.3)\">\r\n     <use xlink:href=\"#DejaVuSans-9866\"/>\r\n    </g>\r\n   </g>\r\n   <g id=\"text_8\">\r\n    <!-- ⚊ -->\r\n    <g style=\"fill:#4169e1;\" transform=\"translate(7.2 173.886268)scale(0.3 -0.3)\">\r\n     <use xlink:href=\"#DejaVuSans-9866\"/>\r\n    </g>\r\n   </g>\r\n   <g id=\"text_9\">\r\n    <!-- ⚊ -->\r\n    <g style=\"fill:#4169e1;\" transform=\"translate(7.2 196.269798)scale(0.3 -0.3)\">\r\n     <use xlink:href=\"#DejaVuSans-9866\"/>\r\n    </g>\r\n   </g>\r\n   <g id=\"text_10\">\r\n    <!-- ⚊ -->\r\n    <g style=\"fill:#32cd32;\" transform=\"translate(410.103529 106.73568)scale(0.3 -0.3)\">\r\n     <use xlink:href=\"#DejaVuSans-9866\"/>\r\n    </g>\r\n   </g>\r\n   <g id=\"text_11\">\r\n    <!-- ⚊ -->\r\n    <g style=\"fill:#32cd32;\" transform=\"translate(410.103529 129.11921)scale(0.3 -0.3)\">\r\n     <use xlink:href=\"#DejaVuSans-9866\"/>\r\n    </g>\r\n   </g>\r\n   <g id=\"text_12\">\r\n    <!-- ⚊ -->\r\n    <g style=\"fill:#32cd32;\" transform=\"translate(410.103529 151.502739)scale(0.3 -0.3)\">\r\n     <use xlink:href=\"#DejaVuSans-9866\"/>\r\n    </g>\r\n   </g>\r\n   <g id=\"text_13\">\r\n    <!-- ⚊ -->\r\n    <g style=\"fill:#32cd32;\" transform=\"translate(410.103529 173.886268)scale(0.3 -0.3)\">\r\n     <use xlink:href=\"#DejaVuSans-9866\"/>\r\n    </g>\r\n   </g>\r\n   <g id=\"text_14\">\r\n    <!-- ⚊ -->\r\n    <g style=\"fill:#32cd32;\" transform=\"translate(410.103529 196.269798)scale(0.3 -0.3)\">\r\n     <use xlink:href=\"#DejaVuSans-9866\"/>\r\n    </g>\r\n   </g>\r\n   <g id=\"text_15\">\r\n    <!-- ❙ -->\r\n    <defs>\r\n     <path d=\"M 50.203125 75.984375 \r\nL 50.203125 -24.03125 \r\nL 33.59375 -24.03125 \r\nL 33.59375 75.984375 \r\nz\r\n\" id=\"DejaVuSans-10073\"/>\r\n    </defs>\r\n    <g style=\"fill:#ffd700;\" transform=\"translate(57.035809 111.930993)scale(0.2 -0.2)\">\r\n     <use xlink:href=\"#DejaVuSans-10073\"/>\r\n    </g>\r\n   </g>\r\n   <g id=\"text_16\">\r\n    <!-- ❙ -->\r\n    <g style=\"fill:#ffd700;\" transform=\"translate(124.186397 22.396875)scale(0.2 -0.2)\">\r\n     <use xlink:href=\"#DejaVuSans-10073\"/>\r\n    </g>\r\n   </g>\r\n   <g id=\"text_17\">\r\n    <!-- ❙ -->\r\n    <g style=\"fill:#ffd700;\" transform=\"translate(146.569926 22.396875)scale(0.2 -0.2)\">\r\n     <use xlink:href=\"#DejaVuSans-10073\"/>\r\n    </g>\r\n   </g>\r\n   <g id=\"text_18\">\r\n    <!-- ❙ -->\r\n    <g style=\"fill:#ffd700;\" transform=\"translate(168.953456 22.396875)scale(0.2 -0.2)\">\r\n     <use xlink:href=\"#DejaVuSans-10073\"/>\r\n    </g>\r\n   </g>\r\n   <g id=\"text_19\">\r\n    <!-- ❙ -->\r\n    <g style=\"fill:#ffd700;\" transform=\"translate(191.336985 22.396875)scale(0.2 -0.2)\">\r\n     <use xlink:href=\"#DejaVuSans-10073\"/>\r\n    </g>\r\n   </g>\r\n   <g id=\"text_20\">\r\n    <!-- ❙ -->\r\n    <g style=\"fill:#ff1493;\" transform=\"translate(101.802868 425.300404)scale(0.2 -0.2)\">\r\n     <use xlink:href=\"#DejaVuSans-10073\"/>\r\n    </g>\r\n   </g>\r\n   <g id=\"text_21\">\r\n    <!-- ❙ -->\r\n    <g style=\"fill:#ff1493;\" transform=\"translate(124.186397 425.300404)scale(0.2 -0.2)\">\r\n     <use xlink:href=\"#DejaVuSans-10073\"/>\r\n    </g>\r\n   </g>\r\n   <g id=\"text_22\">\r\n    <!-- ❙ -->\r\n    <g style=\"fill:#ff1493;\" transform=\"translate(146.569926 425.300404)scale(0.2 -0.2)\">\r\n     <use xlink:href=\"#DejaVuSans-10073\"/>\r\n    </g>\r\n   </g>\r\n   <g id=\"text_23\">\r\n    <!-- ❙ -->\r\n    <g style=\"fill:#ff1493;\" transform=\"translate(168.953456 425.300404)scale(0.2 -0.2)\">\r\n     <use xlink:href=\"#DejaVuSans-10073\"/>\r\n    </g>\r\n   </g>\r\n   <g id=\"text_24\">\r\n    <!-- ❙ -->\r\n    <g style=\"fill:#ff1493;\" transform=\"translate(191.336985 425.300404)scale(0.2 -0.2)\">\r\n     <use xlink:href=\"#DejaVuSans-10073\"/>\r\n    </g>\r\n   </g>\r\n  </g>\r\n </g>\r\n <defs>\r\n  <clipPath id=\"p8d6b513143\">\r\n   <rect height=\"380.52\" width=\"380.52\" x=\"31.840202\" y=\"28.393327\"/>\r\n  </clipPath>\r\n </defs>\r\n</svg>\r\n",
      "image/png": "[encoded data removed]"
     },
     "metadata": {}
    }
   ],
   "source": [
    "#note: Quoridor can only be played by either 2 or 4 players\n",
    "#It is imposible to play with 3 players due to the amount of walls\n",
    "#20 is the amount of walls that should be divided into the number of players\n",
    "#Ergo, it can only be played by a divisble by 10 number of players (2 or 4)\n",
    "\n",
    "nop = 4 #number of players\n",
    "\n",
    "g = Game(nop)\n",
    "g.drawQuoridorBoard()\n",
    "p.players[2].place_wall(1, 3)\n",
    "g.game()\n"
   ]
  },
  {
   "cell_type": "code",
   "execution_count": null,
   "metadata": {},
   "outputs": [],
   "source": []
  }
 ],
 "metadata": {
  "kernelspec": {
   "display_name": "Python 3",
   "language": "python",
   "name": "python3"
  },
  "language_info": {
   "codemirror_mode": {
    "name": "ipython",
    "version": 3
   },
   "file_extension": ".py",
   "mimetype": "text/x-python",
   "name": "python",
   "nbconvert_exporter": "python",
   "pygments_lexer": "ipython3",
   "version": "3.8.3-final"
  }
 },
 "nbformat": 4,
 "nbformat_minor": 2
}