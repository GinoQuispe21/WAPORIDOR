{
 "cells": [
  {
   "cell_type": "code",
   "execution_count": 6,
   "metadata": {},
   "outputs": [],
   "source": [
    "import matplotlib.pyplot as plt \n",
    "import numpy as np"
   ]
  },
  {
   "cell_type": "code",
   "execution_count": 7,
   "metadata": {},
   "outputs": [],
   "source": [
    "class Wall:\n",
    "    def __init__(self, x, y, color):\n",
    "        self.x = x\n",
    "        self.y = y\n",
    "        self.color = color\n",
    "        self.used = False\n",
    "    "
   ]
  },
  {
   "cell_type": "code",
   "execution_count": 8,
   "metadata": {},
   "outputs": [],
   "source": [
    "class Player:\n",
    "    def __init__(self, x, y, color, idy):\n",
    "        self.id = idy\n",
    "        self.x = x\n",
    "        self.y = y\n",
    "        self.color = color\n",
    "        self.walls = []\n",
    "\n",
    "    def move_left(self):\n",
    "        print(\"Player: \", self.id, \"moved left\")\n",
    "        self.x = self.x - 2\n",
    "\n",
    "    def move_right(self):\n",
    "        print(\"Player: \", self.id, \"moved right\")\n",
    "        self.x = self.x + 2\n",
    "\n",
    "    def move_up(self):\n",
    "        print(\"Player: \", self.id, \"moved up\")\n",
    "        self.y = self.y - 2\n",
    "\n",
    "    def move_down(self):\n",
    "        print(\"Player: \", self.id, \"moved down\")\n",
    "        self.y = self.y - 2\n",
    "    \n",
    "    def add_wall(self, wall):\n",
    "        self.walls.append(wall)\n",
    "\n",
    "    def place_wall(self, x, y):\n",
    "        n = len(self.walls)\n",
    "        if x % 2 == 0 or y % 2 == 0: #only in odd can place a wall\n",
    "            print(\"Can't place a wall\")\n",
    "            return\n",
    "        cont = 0\n",
    "        for i in range(n):\n",
    "            if (self.walls[i].used == False):\n",
    "                self.walls[i].used = True\n",
    "                self.walls[i].x = x\n",
    "                self.walls[i].y = y\n",
    "                print(\"Player\", self.id, \"has:\", n - (cont + 1), \"walls left\")\n",
    "                break\n",
    "            else:\n",
    "                cont+=1\n"
   ]
  },
  {
   "cell_type": "code",
   "execution_count": 9,
   "metadata": {},
   "outputs": [],
   "source": [
    "players = []\n",
    "def addPlayers(nop):\n",
    "    initState = [[0, 8, 'royalblue'], [16,8,'limegreen'], \n",
    "                 [8, 0, 'gold'],     [8, 16, 'deeppink']]\n",
    "\n",
    "    for i in range(nop):\n",
    "        p = Player(initState[i][0], initState[i][1], initState[i][2], i+1)\n",
    "        players.append(p)\n",
    "\n",
    "def drawPlayers(ax):\n",
    "    for p in players:\n",
    "        ax.text(p.x, p.y, u'\\u265F', size=30, \n",
    "        ha='center', va='center', color=p.color)"
   ]
  },
  {
   "cell_type": "code",
   "execution_count": 10,
   "metadata": {},
   "outputs": [],
   "source": [
    "def addWalls(nop):\n",
    "    initState = [[-1, 3], [17, 3], [3, 17], [3, -1]]\n",
    "    for p in players:\n",
    "        j = p.id - 1\n",
    "        for i in range(20//nop):\n",
    "            if (j < 2): #first and second, puts walls on the side\n",
    "                wall = Wall(initState[j][0], initState[j][1] + i, p.color)\n",
    "            else: #third and fourth, puts walls on top and bottom\n",
    "                wall = Wall(initState[j][0] + i, initState[j][1], p.color)\n",
    "            p.add_wall(wall)\n",
    "\n",
    "def drawWalls(ax):\n",
    "    for p in players:\n",
    "        for i in range(len(p.walls)):\n",
    "            if (p.id <= 2):\n",
    "                ax.text(p.walls[i].x, p.walls[i].y, u'\\u268A', size=30, ha='center',                va='baseline', color=p.walls[i].color)\n",
    "            else:\n",
    "                ax.text(p.walls[i].x, p.walls[i].y, u'\\u2759', size=20, ha='center',                va='center', color=p.walls[i].color)\n"
   ]
  },
  {
   "cell_type": "code",
   "execution_count": 11,
   "metadata": {},
   "outputs": [],
   "source": [
    "#Note, character goes by 2 spaces, because one space is for the walls\n",
    "def drawQuoridorBoard(nop):\n",
    "    bo = np.zeros((17, 17, 3)) #(9, 9) = 9x9 board size + spaces between for walls\n",
    "    #total of 17x17 board\n",
    "    bo += 0.8 #opactiy of black spaces\n",
    "    bo[ ::2, ::2] = 1\n",
    "    bo[0::2, 0::2] = 1\n",
    "\n",
    "    fig, ax = plt.subplots(figsize=(7,7)) #figsize = size of the board\n",
    "    ax.imshow(bo, interpolation='nearest')\n",
    "\n",
    "    #add players:\n",
    "    addPlayers(nop)\n",
    "    drawPlayers(ax)\n",
    "\n",
    "    #add walls:\n",
    "    addWalls(nop)\n",
    "    drawWalls(ax)\n",
    "\n",
    "    ax.set(xticks=[], yticks=[])\n",
    "    ax.axis('image')\n",
    "\n",
    "    plt.show()"
   ]
  },
  {
   "cell_type": "code",
   "execution_count": 12,
   "metadata": {},
   "outputs": [],
   "source": [
    "def game():\n",
    "    bo = np.zeros((17, 17, 3)) #(9, 9) = 9x9 board size + spaces between for walls\n",
    "    #total of 17x17 board\n",
    "    bo += 0.8 #opactiy of black spaces\n",
    "    bo[ ::2, ::2] = 1\n",
    "    bo[0::2, 0::2] = 1\n",
    "\n",
    "    fig, ax = plt.subplots(figsize=(7,7)) #figsize = size of the board\n",
    "    ax.imshow(bo, interpolation='nearest')\n",
    "\n",
    "    #since the game already started, you just draw the players\n",
    "    drawPlayers(ax)\n",
    "\n",
    "    #just draw the walls\n",
    "    drawWalls(ax)\n",
    "\n",
    "    ax.set(xticks=[], yticks=[])\n",
    "    ax.axis('image')\n",
    "\n",
    "    plt.show()"
   ]
  },
  {
   "cell_type": "code",
   "execution_count": 13,
   "metadata": {
    "tags": []
   },
   "outputs": [
    {
     "data": {
      "image/png": "[encoded data removed]",
      "text/plain": [
       "<Figure size 504x504 with 1 Axes>"
      ]
     },
     "metadata": {},
     "output_type": "display_data"
    },
    {
     "name": "stdout",
     "output_type": "stream",
     "text": [
      "Can't place a wall\n"
     ]
    },
    {
     "data": {
      "image/png": "[encoded data removed]",
      "text/plain": [
       "<Figure size 504x504 with 1 Axes>"
      ]
     },
     "metadata": {},
     "output_type": "display_data"
    },
    {
     "name": "stdout",
     "output_type": "stream",
     "text": [
      "Can't place a wall\n"
     ]
    },
    {
     "data": {
      "image/png": "[encoded data removed]",
      "text/plain": [
       "<Figure size 504x504 with 1 Axes>"
      ]
     },
     "metadata": {},
     "output_type": "display_data"
    },
    {
     "name": "stdout",
     "output_type": "stream",
     "text": [
      "Can't place a wall\n"
     ]
    },
    {
     "data": {
      "image/png": "[encoded data removed]",
      "text/plain": [
       "<Figure size 504x504 with 1 Axes>"
      ]
     },
     "metadata": {},
     "output_type": "display_data"
    },
    {
     "name": "stdout",
     "output_type": "stream",
     "text": [
      "Player 2 has: 9 walls left\n"
     ]
    },
    {
     "data": {
      "image/png": "[encoded data removed]",
      "text/plain": [
       "<Figure size 504x504 with 1 Axes>"
      ]
     },
     "metadata": {},
     "output_type": "display_data"
    }
   ],
   "source": [
    "#note: Quoridor can only be played by either 2 or 4 players\n",
    "#It is imposible to play with 3 players due to the amount of walls\n",
    "#20 is the amount of walls that should be divided into the number of players\n",
    "#Ergo, it can only be played by a divisble by 10 number of players (2 or 4)\n",
    "\n",
    "nop = 2 #number of players\n",
    "\n",
    "drawQuoridorBoard(nop)\n",
    "players[0].place_wall(6, 6)\n",
    "game()\n",
    "players[1].place_wall(1, 16)\n",
    "game()\n",
    "players[0].place_wall(2, 8)\n",
    "game()\n",
    "players[1].place_wall(3, 5)\n",
    "game()"
   ]
  },
  {
   "cell_type": "code",
   "execution_count": null,
   "metadata": {},
   "outputs": [],
   "source": []
  }
 ],
 "metadata": {
  "kernelspec": {
   "display_name": "Python 3",
   "language": "python",
   "name": "python3"
  },
  "language_info": {
   "codemirror_mode": {
    "name": "ipython",
    "version": 3
   },
   "file_extension": ".py",
   "mimetype": "text/x-python",
   "name": "python",
   "nbconvert_exporter": "python",
   "pygments_lexer": "ipython3",
   "version": "3.8.3"
  }
 },
 "nbformat": 4,
 "nbformat_minor": 2
}
