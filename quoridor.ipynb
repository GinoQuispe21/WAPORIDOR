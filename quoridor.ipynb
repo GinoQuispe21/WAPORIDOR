{
 "cells": [
  {
   "cell_type": "code",
   "execution_count": 1,
   "metadata": {},
   "outputs": [],
   "source": [
    "import matplotlib.pyplot as plt \n",
    "import numpy as np\n",
    "import sys"
   ]
  },
  {
   "cell_type": "code",
   "execution_count": 2,
   "metadata": {
    "tags": []
   },
   "outputs": [
    {
     "name": "stdout",
     "output_type": "stream",
     "text": [
      "Requirement already satisfied: import-ipynb in e:\\programas\\anaconda3\\lib\\site-packages (0.1.3)\n",
      "Note: you may need to restart the kernel to use updated packages.\n"
     ]
    }
   ],
   "source": [
    "pip install import-ipynb"
   ]
  },
  {
   "cell_type": "code",
   "execution_count": 3,
   "metadata": {
    "tags": []
   },
   "outputs": [
    {
     "name": "stdout",
     "output_type": "stream",
     "text": [
      "importing Jupyter notebook from AdjacencyList.ipynb\n"
     ]
    }
   ],
   "source": [
    "import import_ipynb\n",
    "import AdjacencyList as adja"
   ]
  },
  {
   "cell_type": "code",
   "execution_count": 4,
   "metadata": {},
   "outputs": [],
   "source": [
    "adj = adja.generateAdjacencyList()"
   ]
  },
  {
   "cell_type": "code",
   "execution_count": 5,
   "metadata": {
    "tags": []
   },
   "outputs": [
    {
     "name": "stdout",
     "output_type": "stream",
     "text": [
      "importing Jupyter notebook from player.ipynb\n",
      "importing Jupyter notebook from convert.ipynb\n",
      "importing Jupyter notebook from nodeDelete.ipynb\n"
     ]
    }
   ],
   "source": [
    "import import_ipynb\n",
    "import player as p"
   ]
  },
  {
   "cell_type": "code",
   "execution_count": 6,
   "metadata": {
    "tags": []
   },
   "outputs": [
    {
     "name": "stdout",
     "output_type": "stream",
     "text": [
      "importing Jupyter notebook from wall.ipynb\n"
     ]
    }
   ],
   "source": [
    "import import_ipynb\n",
    "import wall as w"
   ]
  },
  {
   "cell_type": "code",
   "execution_count": 7,
   "metadata": {
    "tags": []
   },
   "outputs": [
    {
     "name": "stdout",
     "output_type": "stream",
     "text": [
      "importing Jupyter notebook from dfs.ipynb\n",
      "importing Jupyter notebook from bfs.ipynb\n"
     ]
    }
   ],
   "source": [
    "import import_ipynb\n",
    "import dfs as dfspath\n",
    "import bfs as bfspath"
   ]
  },
  {
   "cell_type": "code",
   "execution_count": 8,
   "metadata": {},
   "outputs": [],
   "source": [
    "import import_ipynb\n",
    "import nodeDelete as nd"
   ]
  },
  {
   "cell_type": "code",
   "execution_count": 9,
   "metadata": {},
   "outputs": [],
   "source": [
    "class Game:\n",
    "    def __init__(self, nop):\n",
    "        self.nop = nop\n",
    "\n",
    "    #Note, character goes by 2 spaces, because one space is for the walls\n",
    "    def drawQuoridorBoard(self):\n",
    "        bo = np.zeros((17, 17, 3)) #(9, 9) = 9x9 board size + spaces between for walls\n",
    "        #total of 17x17 board\n",
    "        bo += 0.8 #opactiy of black spaces\n",
    "        bo[ ::2, ::2] = 1\n",
    "        bo[0::2, 0::2] = 1\n",
    "        \n",
    "        fig, ax = plt.subplots(figsize=(7,7)) #figsize = size of the board\n",
    "        ax.imshow(bo, interpolation='nearest')\n",
    "\n",
    "        #add players:\n",
    "        Game.addPlayers(self.nop)\n",
    "\n",
    "        Game.drawPlayers(ax)\n",
    "\n",
    "        #add walls:\n",
    "        w.addWalls(self.nop)\n",
    "        w.drawWalls(ax)\n",
    "\n",
    "        ax.set(xticks=[], yticks=[])\n",
    "        ax.axis('image')\n",
    "\n",
    "        plt.show()\n",
    "        \n",
    "    def game(self):\n",
    "        bo = np.zeros((17, 17, 3)) #(9, 9) = 9x9 board size + spaces between for walls\n",
    "        #total of 17x17 board\n",
    "        bo += 0.8 #opactiy of black spaces\n",
    "        bo[ ::2, ::2] = 1\n",
    "        bo[0::2, 0::2] = 1\n",
    "\n",
    "        fig, ax = plt.subplots(figsize=(7,7)) #figsize = size of the board\n",
    "        ax.imshow(bo, interpolation='nearest')\n",
    "\n",
    "        #since the game already started, you just draw the players\n",
    "        Game.drawPlayers(ax)\n",
    "\n",
    "        #just draw the walls\n",
    "        w.drawWalls(ax)\n",
    "\n",
    "        #checks if a player reached the opposite side\n",
    "        gameover = self.checkWinner()\n",
    "\n",
    "        ax.set(xticks=[], yticks=[])\n",
    "        ax.axis('image')\n",
    "\n",
    "        plt.show()\n",
    "        return gameover\n",
    "\n",
    "    def checkWinner(self):\n",
    "        finish_line = [16,0,16,0]\n",
    "        for pl in p.players:\n",
    "            i = pl.id - 1\n",
    "            if (pl.id <= 2):\n",
    "                if(pl.x == finish_line[i]):\n",
    "                    print(\"GAME OVER\")\n",
    "                    print(\"Player\", pl.id, \"wins\")\n",
    "                    return True\n",
    "            else:\n",
    "                if(pl.y == finish_line[i]):\n",
    "                    print(\"GAME OVER\")\n",
    "                    print(\"Player\", pl.id, \"wins\")\n",
    "                    return True\n",
    "        return False\n",
    "\n",
    "    def addPlayers(nop):\n",
    "        initState = [[0, 8, 'royalblue'], [16,8,'limegreen'], \n",
    "                 [8, 0, 'gold'],     [8, 16, 'deeppink']]\n",
    "        \n",
    "        for i in range(nop):\n",
    "            pl = p.Player(initState[i][0], initState[i][1], initState[i][2], i+1)\n",
    "            p.players.append(pl)\n",
    "\n",
    "    def drawPlayers(ax):\n",
    "        for pl in p.players:\n",
    "            ax.text(pl.x, pl.y, u'\\u265F', size=30, \n",
    "            ha='center', va='center', color=pl.color)"
   ]
  },
  {
   "cell_type": "code",
   "execution_count": 10,
   "metadata": {
    "tags": []
   },
   "outputs": [
    {
     "data": {
      "image/png": "[encoded data removed]",
      "text/plain": [
       "<Figure size 504x504 with 1 Axes>"
      ]
     },
     "metadata": {},
     "output_type": "display_data"
    },
    {
     "name": "stdout",
     "output_type": "stream",
     "text": [
      "The player 2 Should take the path: [44, 35, 26, 17, 8, 7, 6, 5, 4, 3, 2, 1, 0]\n",
      "Player:  2 moved using the path\n"
     ]
    },
    {
     "data": {
      "image/png": "[encoded data removed]",
      "text/plain": [
       "<Figure size 504x504 with 1 Axes>"
      ]
     },
     "metadata": {},
     "output_type": "display_data"
    },
    {
     "name": "stdout",
     "output_type": "stream",
     "text": [
      "horizontal connection\n",
      "Player 2 has: 4 walls left\n"
     ]
    },
    {
     "data": {
      "image/png": "[encoded data removed]",
      "text/plain": [
       "<Figure size 504x504 with 1 Axes>"
      ]
     },
     "metadata": {},
     "output_type": "display_data"
    },
    {
     "name": "stdout",
     "output_type": "stream",
     "text": [
      "horizontal connection\n",
      "Player 2 has: 3 walls left\n"
     ]
    },
    {
     "data": {
      "image/png": "[encoded data removed]",
      "text/plain": [
       "<Figure size 504x504 with 1 Axes>"
      ]
     },
     "metadata": {},
     "output_type": "display_data"
    },
    {
     "name": "stdout",
     "output_type": "stream",
     "text": [
      "Player:  2 moved using the path\n"
     ]
    },
    {
     "data": {
      "image/png": "[encoded data removed]",
      "text/plain": [
       "<Figure size 504x504 with 1 Axes>"
      ]
     },
     "metadata": {},
     "output_type": "display_data"
    },
    {
     "name": "stdout",
     "output_type": "stream",
     "text": [
      "Player:  2 moved using the path\n"
     ]
    },
    {
     "data": {
      "image/png": "[encoded data removed]",
      "text/plain": [
       "<Figure size 504x504 with 1 Axes>"
      ]
     },
     "metadata": {},
     "output_type": "display_data"
    },
    {
     "name": "stdout",
     "output_type": "stream",
     "text": [
      "Player:  2 moved using the path\n"
     ]
    },
    {
     "data": {
      "image/png": "[encoded data removed]",
      "text/plain": [
       "<Figure size 504x504 with 1 Axes>"
      ]
     },
     "metadata": {},
     "output_type": "display_data"
    },
    {
     "name": "stdout",
     "output_type": "stream",
     "text": [
      "Player:  2 moved using the path\n"
     ]
    },
    {
     "data": {
      "image/png": "[encoded data removed]",
      "text/plain": [
       "<Figure size 504x504 with 1 Axes>"
      ]
     },
     "metadata": {},
     "output_type": "display_data"
    },
    {
     "name": "stdout",
     "output_type": "stream",
     "text": [
      "Player:  2 moved using the path\n"
     ]
    },
    {
     "data": {
      "image/png": "[encoded data removed]",
      "text/plain": [
       "<Figure size 504x504 with 1 Axes>"
      ]
     },
     "metadata": {},
     "output_type": "display_data"
    },
    {
     "name": "stdout",
     "output_type": "stream",
     "text": [
      "Player:  2 moved using the path\n"
     ]
    },
    {
     "data": {
      "image/png": "[encoded data removed]",
      "text/plain": [
       "<Figure size 504x504 with 1 Axes>"
      ]
     },
     "metadata": {},
     "output_type": "display_data"
    },
    {
     "data": {
      "text/plain": [
       "False"
      ]
     },
     "execution_count": 10,
     "metadata": {},
     "output_type": "execute_result"
    }
   ],
   "source": [
    "#note: Quoridor can only be played by either 2 or 4 players\n",
    "#It is imposible to play with 3 players due to the amount of walls\n",
    "#20 is the amount of walls that should be divided into the number of players\n",
    "#Ergo, it can only be played by a divisble by 10 number of players (2 or 4)\n",
    "\n",
    "nop = 4 #number of players\n",
    "\n",
    "g = Game(nop)\n",
    "g.drawQuoridorBoard()\n",
    "path = dfspath.findPathDFS(adj, p.players[1])\n",
    "print(\"The player\", p.players[1].id, \"Should take the path:\", path)\n",
    "\n",
    "p.players[1].move_from_path(path)\n",
    "g.game()\n",
    "adj = p.players[1].place_wall(13, 0, adj)\n",
    "path = dfspath.findPathDFS(adj, p.players[1])\n",
    "g.game()\n",
    "adj = p.players[1].place_wall(13, 6, adj)\n",
    "path = dfspath.findPathDFS(adj, p.players[1])\n",
    "g.game()\n",
    "p.players[1].move_from_path(path)\n",
    "g.game()\n",
    "p.players[1].move_from_path(path)\n",
    "g.game()\n",
    "p.players[1].move_from_path(path)\n",
    "g.game()\n",
    "p.players[1].move_from_path(path)\n",
    "g.game()\n",
    "p.players[1].move_from_path(path)\n",
    "g.game()\n",
    "p.players[1].move_from_path(path)\n",
    "g.game()\n",
    "\n"
   ]
  },
  {
   "cell_type": "code",
   "execution_count": null,
   "metadata": {},
   "outputs": [],
   "source": []
  }
 ],
 "metadata": {
  "kernelspec": {
   "display_name": "Python 3",
   "language": "python",
   "name": "python3"
  },
  "language_info": {
   "codemirror_mode": {
    "name": "ipython",
    "version": 3
   },
   "file_extension": ".py",
   "mimetype": "text/x-python",
   "name": "python",
   "nbconvert_exporter": "python",
   "pygments_lexer": "ipython3",
   "version": "3.8.3"
  }
 },
 "nbformat": 4,
 "nbformat_minor": 2
}
