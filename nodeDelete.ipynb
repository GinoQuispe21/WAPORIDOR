{
 "cells": [
  {
   "cell_type": "code",
   "execution_count": 2,
   "metadata": {},
   "outputs": [
    {
     "name": "stdout",
     "output_type": "stream",
     "text": [
      "horizontal connection\n"
     ]
    },
    {
     "data": {
      "text/plain": [
       "(10, 11)"
      ]
     },
     "execution_count": 2,
     "metadata": {},
     "output_type": "execute_result"
    }
   ],
   "source": [
    "def deleteNodeConn(x, y):\n",
    "    if(y % 2 == 0 and x % 2 == 0):\n",
    "            #aca no puede haber paredes\n",
    "            print(\"Bailarina 77\")\n",
    "    else:\n",
    "        if (x % 2 != 0 and y % 2 == 0):\n",
    "            print(\"horizontal connection\")\n",
    "            #conexiones horizontales\n",
    "            num = (y*9+(x+1))//2\n",
    "            num2 = num - 1\n",
    "            num, num2 = num2, num\n",
    "            #print(x, y,\"Delete\",num, \"and\", num2)\n",
    "        else:\n",
    "            #conexiones verticales\n",
    "            print(\"vertical connection\")\n",
    "            if(x % 2 != 0 and y % 2 != 0):\n",
    "                print(\"Bailarina 77\")\n",
    "            else:\n",
    "                num = ((y-1)*9+x)//2\n",
    "                num2 = num + 9\n",
    "                #print(x, y,\"Delete\",num, \"and\", num2)\n",
    "    return num, num2\n"
   ]
  },
  {
   "cell_type": "code",
   "execution_count": null,
   "metadata": {},
   "outputs": [],
   "source": []
  }
 ],
 "metadata": {
  "kernelspec": {
   "display_name": "Python 3",
   "language": "python",
   "name": "python3"
  },
  "language_info": {
   "codemirror_mode": {
    "name": "ipython",
    "version": 3
   },
   "file_extension": ".py",
   "mimetype": "text/x-python",
   "name": "python",
   "nbconvert_exporter": "python",
   "pygments_lexer": "ipython3",
   "version": "3.8.3"
  }
 },
 "nbformat": 4,
 "nbformat_minor": 4
}
