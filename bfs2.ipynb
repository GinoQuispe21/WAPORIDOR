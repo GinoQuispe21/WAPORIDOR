{
 "cells": [
  {
   "cell_type": "code",
   "execution_count": 1,
   "metadata": {},
   "outputs": [
    {
     "output_type": "stream",
     "name": "stdout",
     "text": [
      "importing Jupyter notebook from convert.ipynb\n"
     ]
    }
   ],
   "source": [
    "import import_ipynb\n",
    "import convert as con"
   ]
  },
  {
   "cell_type": "code",
   "execution_count": 2,
   "metadata": {},
   "outputs": [],
   "source": [
    "def findPathBFS(adjy, player):\n",
    "    adj = adjy\n",
    "    v = con.convertCoordToNode(player.x, player.y)\n",
    "    if(player.id == 1):\n",
    "        finish_line = [8,17,26,35,44,53,62,71,80]\n",
    "    elif(player.id == 2):\n",
    "        for i in range(len(adj)):\n",
    "            adj[i][0], adj[i][len(adj[i])//2] = adj[i][len(adj[i])//2], adj[i][0]\n",
    "        finish_line = [0,9,18,27,36,45,54,63,72]\n",
    "    elif(player.id == 3):\n",
    "        finish_line = [72,73,74,75,76,77,78,79,80]\n",
    "    elif(player.id == 4):\n",
    "        finish_line = [0,1,2,3,4,5,6,7,8]\n",
    "    \n",
    "    visited = [False]*len(adj)\n",
    "    father = [None]*len(adj)\n",
    "    queue = []\n",
    "    hayCamino = None\n",
    "    \n",
    "    visited[v] = True\n",
    "    queue.append(v)\n",
    "    final = True\n",
    "    end = None\n",
    "    while queue and final:\n",
    "        u = queue.pop(0)\n",
    "        if u in finish_line:\n",
    "            end = u\n",
    "            final = False\n",
    "            break\n",
    "        for neighbour in adj[u]:\n",
    "            if(visited[neighbour] == False):\n",
    "                visited[neighbour] = True\n",
    "                father[neighbour] = u\n",
    "                queue.append(neighbour)\n",
    "                \n",
    "                if neighbour in finish_line:\n",
    "                    #print(neighbour)\n",
    "                    end = neighbour\n",
    "                    final = False\n",
    "                    hayCamino = True\n",
    "                    break\n",
    "                    \n",
    "    \n",
    "    path = []\n",
    "    # final = None\n",
    "    # for finals in finish_line:\n",
    "    #     if father[finals] != None:\n",
    "    #         final = finals\n",
    "    #         break\n",
    "    ini = end\n",
    "    if hayCamino:\n",
    "        while(ini != None):\n",
    "            path.append(ini)\n",
    "            ini = father[ini]\n",
    "        path.reverse()\n",
    "        return path\n",
    "    else:\n",
    "        return False\n",
    "    \n",
    "    #print(path)\n",
    "    #return path, hayCamino\n",
    "    \n",
    "    "
   ]
  },
  {
   "cell_type": "code",
   "execution_count": 3,
   "metadata": {},
   "outputs": [],
   "source": [
    "# player = pl.Player(16, 0, \"royalblue\", 1, \"Blue\")\n",
    "# adjy = al.generateAdjacencyList()\n",
    "# findPathBFS(adjy, player)"
   ]
  }
 ],
 "metadata": {
  "kernelspec": {
   "display_name": "Python 3",
   "language": "python",
   "name": "python3"
  },
  "language_info": {
   "codemirror_mode": {
    "name": "ipython",
    "version": 3
   },
   "file_extension": ".py",
   "mimetype": "text/x-python",
   "name": "python",
   "nbconvert_exporter": "python",
   "pygments_lexer": "ipython3",
   "version": "3.8.3-final"
  }
 },
 "nbformat": 4,
 "nbformat_minor": 4
}